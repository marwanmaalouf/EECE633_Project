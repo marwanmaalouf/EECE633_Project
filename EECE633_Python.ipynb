{
 "cells": [
  {
   "cell_type": "markdown",
   "metadata": {},
   "source": [
    "## Missing Appointment at the doctor predictor\n",
    "\n",
    "Step 1: Clean the dataset`\n"
   ]
  },
  {
   "cell_type": "code",
   "execution_count": 153,
   "metadata": {
    "collapsed": true
   },
   "outputs": [
    {
     "name": "stdout",
     "output_type": "stream",
     "text": [
      "<class 'pandas.core.frame.DataFrame'>\n",
      "RangeIndex: 110527 entries, 0 to 110526\n",
      "Data columns (total 14 columns):\n",
      "Patient_ID                   110527 non-null float64\n",
      "Appointment_ID               110527 non-null int64\n",
      "Patient_Gender               110527 non-null object\n",
      "Appointment_ScheduledDate    110527 non-null object\n",
      "Appointment_Date             110527 non-null object\n",
      "Patient_Age                  110527 non-null int64\n",
      "Patient_Neighbourhood        110527 non-null object\n",
      "Patient_Scholarship          110527 non-null int64\n",
      "Patient_Hypertension         110527 non-null int64\n",
      "Patient_Diabetes             110527 non-null int64\n",
      "Patient_Alcoholism           110527 non-null int64\n",
      "Patient_Handicap             110527 non-null int64\n",
      "SMS_Received                 110527 non-null int64\n",
      "No_Show                      110527 non-null object\n",
      "dtypes: float64(1), int64(8), object(5)\n",
      "memory usage: 11.8+ MB\n"
     ]
    }
   ],
   "source": [
    "## Import libraries\n",
    "import numpy as np\n",
    "import pandas as pd\n",
    "import matplotlib.pyplot as plt\n",
    "import seaborn as sns\n",
    "\n",
    "filename = './Missed_Appointment.csv'\n",
    "raw_columns = ['Patient_ID', 'Appointment_ID', \n",
    "    'Patient_Gender', 'Appointment_ScheduledDate',\n",
    "    'Appointment_Date', 'Patient_Age', \n",
    "    'Patient_Neighbourhood', 'Patient_Scholarship',\n",
    "    'Patient_Hypertension', 'Patient_Diabetes',\n",
    "    'Patient_Alcoholism', 'Patient_Handicap',\n",
    "    'SMS_Received', 'No_Show']\n",
    "\n",
    "raw_data = pd.read_csv(filename)\n",
    "raw_data.columns = raw_columns\n",
    "raw_data.info()\n",
    "    "
   ]
  },
  {
   "cell_type": "markdown",
   "metadata": {},
   "source": [
    "### Handeling Type\n",
    "Based on this output, we can see that we do not have any missing data and that we have 5 columns of type object. We start by working on the time objects"
   ]
  },
  {
   "cell_type": "code",
   "execution_count": 4,
   "metadata": {},
   "outputs": [
    {
     "name": "stdout",
     "output_type": "stream",
     "text": [
      "<class 'pandas.core.frame.DataFrame'>\n",
      "RangeIndex: 110527 entries, 0 to 110526\n",
      "Data columns (total 23 columns):\n",
      "Patient_ID                      110527 non-null float64\n",
      "Appointment_ID                  110527 non-null int64\n",
      "Patient_Gender                  110527 non-null object\n",
      "Appointment_ScheduledDate       110527 non-null datetime64[ns]\n",
      "Appointment_Date                110527 non-null datetime64[ns]\n",
      "Patient_Age                     110527 non-null int64\n",
      "Patient_Neighbourhood           110527 non-null object\n",
      "Patient_Scholarship             110527 non-null int64\n",
      "Patient_Hypertension            110527 non-null int64\n",
      "Patient_Diabetes                110527 non-null int64\n",
      "Patient_Alcoholism              110527 non-null int64\n",
      "Patient_Handicap                110527 non-null int64\n",
      "SMS_Received                    110527 non-null int64\n",
      "No_Show                         110527 non-null object\n",
      "Appointment_Scheduled_Year      110527 non-null int64\n",
      "Appointment_Scheduled_Month     110527 non-null int64\n",
      "Appointment_Scheduled_Day       110527 non-null int64\n",
      "Appointment_Scheduled_Hour      110527 non-null int64\n",
      "Appointment_Scheduled_Minute    110527 non-null int64\n",
      "Appointment_Scheduled_Second    110527 non-null int64\n",
      "Appointment_Date_Year           110527 non-null int64\n",
      "Appointment_Date_Month          110527 non-null int64\n",
      "Appointment_Date_Day            110527 non-null int64\n",
      "dtypes: datetime64[ns](2), float64(1), int64(17), object(3)\n",
      "memory usage: 19.4+ MB\n",
      "None\n"
     ]
    }
   ],
   "source": [
    "def cleanTimeStamps(data):\n",
    "    data[['Appointment_ScheduledDate']] = data.Appointment_ScheduledDate.apply(np.datetime64)\n",
    "    data['Appointment_Scheduled_Year'] = data.Appointment_ScheduledDate.apply(lambda x: x.year)\n",
    "    data['Appointment_Scheduled_Month'] = data.Appointment_ScheduledDate.apply(lambda x: x.month)\n",
    "    data['Appointment_Scheduled_Day'] = data.Appointment_ScheduledDate.apply(lambda x: x.day)\n",
    "    data['Appointment_Scheduled_Hour'] = data.Appointment_ScheduledDate.apply(lambda x: x.hour)\n",
    "    data['Appointment_Scheduled_Minute'] = data.Appointment_ScheduledDate.apply(lambda x: x.minute)\n",
    "    data['Appointment_Scheduled_Second'] = data.Appointment_ScheduledDate.apply(lambda x: x.second)\n",
    "\n",
    "    \n",
    "    data[['Appointment_Date']] = data.Appointment_Date.apply(np.datetime64)\n",
    "    data['Appointment_Date_Year'] = data.Appointment_Date.apply(lambda x: x.year)\n",
    "    data['Appointment_Date_Month'] = data.Appointment_Date.apply(lambda x: x.month)\n",
    "    data['Appointment_Date_Day'] = data.Appointment_Date.apply(lambda x: x.day)\n",
    "    \n",
    "    print(data.info())\n",
    "    \n",
    "cleanTimeStamps(raw_data)"
   ]
  },
  {
   "cell_type": "markdown",
   "metadata": {},
   "source": [
    "### Rendering to numerical data\n",
    "In this step, we will focus on transforming our data into numerical data. Convention used:\n",
    "'No' -> 0 \n",
    "'Yes' -> 1\n",
    "'F' -> 0\n",
    "'M' -> 1"
   ]
  },
  {
   "cell_type": "code",
   "execution_count": 5,
   "metadata": {},
   "outputs": [
    {
     "name": "stdout",
     "output_type": "stream",
     "text": [
      "<class 'pandas.core.frame.DataFrame'>\n",
      "RangeIndex: 110527 entries, 0 to 110526\n",
      "Data columns (total 23 columns):\n",
      "Patient_ID                      110527 non-null float64\n",
      "Appointment_ID                  110527 non-null int64\n",
      "Patient_Gender                  110527 non-null int64\n",
      "Appointment_ScheduledDate       110527 non-null datetime64[ns]\n",
      "Appointment_Date                110527 non-null datetime64[ns]\n",
      "Patient_Age                     110527 non-null int64\n",
      "Patient_Neighbourhood           110527 non-null object\n",
      "Patient_Scholarship             110527 non-null int64\n",
      "Patient_Hypertension            110527 non-null int64\n",
      "Patient_Diabetes                110527 non-null int64\n",
      "Patient_Alcoholism              110527 non-null int64\n",
      "Patient_Handicap                110527 non-null int64\n",
      "SMS_Received                    110527 non-null int64\n",
      "No_Show                         110527 non-null int64\n",
      "Appointment_Scheduled_Year      110527 non-null int64\n",
      "Appointment_Scheduled_Month     110527 non-null int64\n",
      "Appointment_Scheduled_Day       110527 non-null int64\n",
      "Appointment_Scheduled_Hour      110527 non-null int64\n",
      "Appointment_Scheduled_Minute    110527 non-null int64\n",
      "Appointment_Scheduled_Second    110527 non-null int64\n",
      "Appointment_Date_Year           110527 non-null int64\n",
      "Appointment_Date_Month          110527 non-null int64\n",
      "Appointment_Date_Day            110527 non-null int64\n",
      "dtypes: datetime64[ns](2), float64(1), int64(19), object(1)\n",
      "memory usage: 19.4+ MB\n"
     ]
    }
   ],
   "source": [
    "## No Show target class\n",
    "raw_data['No_Show'] = raw_data.No_Show.apply(lambda x: 1 if x=='Yes' else 0)\n",
    "\n",
    "\n",
    "## Gender target class\n",
    "raw_data['Patient_Gender'] = raw_data.Patient_Gender.apply(lambda x: 1 if x=='M' else 0)\n",
    "\n",
    "raw_data.info()"
   ]
  },
  {
   "cell_type": "markdown",
   "metadata": {},
   "source": [
    "### Cleaning data:\n",
    "In this step, we will look at inconsistency in the data (e.g., outliers, min values, max values)"
   ]
  },
  {
   "cell_type": "code",
   "execution_count": 6,
   "metadata": {},
   "outputs": [
    {
     "data": {
      "text/html": [
       "<div>\n",
       "<style>\n",
       "    .dataframe thead tr:only-child th {\n",
       "        text-align: right;\n",
       "    }\n",
       "\n",
       "    .dataframe thead th {\n",
       "        text-align: left;\n",
       "    }\n",
       "\n",
       "    .dataframe tbody tr th {\n",
       "        vertical-align: top;\n",
       "    }\n",
       "</style>\n",
       "<table border=\"1\" class=\"dataframe\">\n",
       "  <thead>\n",
       "    <tr style=\"text-align: right;\">\n",
       "      <th></th>\n",
       "      <th>Patient_ID</th>\n",
       "      <th>Appointment_ID</th>\n",
       "      <th>Patient_Gender</th>\n",
       "      <th>Patient_Age</th>\n",
       "      <th>Patient_Scholarship</th>\n",
       "      <th>Patient_Hypertension</th>\n",
       "      <th>Patient_Diabetes</th>\n",
       "      <th>Patient_Alcoholism</th>\n",
       "      <th>Patient_Handicap</th>\n",
       "      <th>SMS_Received</th>\n",
       "      <th>No_Show</th>\n",
       "      <th>Appointment_Scheduled_Year</th>\n",
       "      <th>Appointment_Scheduled_Month</th>\n",
       "      <th>Appointment_Scheduled_Day</th>\n",
       "      <th>Appointment_Scheduled_Hour</th>\n",
       "      <th>Appointment_Scheduled_Minute</th>\n",
       "      <th>Appointment_Scheduled_Second</th>\n",
       "      <th>Appointment_Date_Year</th>\n",
       "      <th>Appointment_Date_Month</th>\n",
       "      <th>Appointment_Date_Day</th>\n",
       "    </tr>\n",
       "  </thead>\n",
       "  <tbody>\n",
       "    <tr>\n",
       "      <th>count</th>\n",
       "      <td>1.105270e+05</td>\n",
       "      <td>1.105270e+05</td>\n",
       "      <td>110527.000000</td>\n",
       "      <td>110527.000000</td>\n",
       "      <td>110527.000000</td>\n",
       "      <td>110527.000000</td>\n",
       "      <td>110527.000000</td>\n",
       "      <td>110527.000000</td>\n",
       "      <td>110527.000000</td>\n",
       "      <td>110527.000000</td>\n",
       "      <td>110527.000000</td>\n",
       "      <td>110527.000000</td>\n",
       "      <td>110527.000000</td>\n",
       "      <td>110527.000000</td>\n",
       "      <td>110527.000000</td>\n",
       "      <td>110527.000000</td>\n",
       "      <td>110527.000000</td>\n",
       "      <td>110527.0</td>\n",
       "      <td>110527.000000</td>\n",
       "      <td>110527.000000</td>\n",
       "    </tr>\n",
       "    <tr>\n",
       "      <th>mean</th>\n",
       "      <td>1.474963e+14</td>\n",
       "      <td>5.675305e+06</td>\n",
       "      <td>0.350023</td>\n",
       "      <td>37.088874</td>\n",
       "      <td>0.098266</td>\n",
       "      <td>0.197246</td>\n",
       "      <td>0.071865</td>\n",
       "      <td>0.030400</td>\n",
       "      <td>0.022248</td>\n",
       "      <td>0.321026</td>\n",
       "      <td>0.201933</td>\n",
       "      <td>2015.999439</td>\n",
       "      <td>4.823871</td>\n",
       "      <td>14.252228</td>\n",
       "      <td>10.774517</td>\n",
       "      <td>28.997955</td>\n",
       "      <td>29.529445</td>\n",
       "      <td>2016.0</td>\n",
       "      <td>5.210048</td>\n",
       "      <td>12.499398</td>\n",
       "    </tr>\n",
       "    <tr>\n",
       "      <th>std</th>\n",
       "      <td>2.560949e+14</td>\n",
       "      <td>7.129575e+04</td>\n",
       "      <td>0.476979</td>\n",
       "      <td>23.110205</td>\n",
       "      <td>0.297675</td>\n",
       "      <td>0.397921</td>\n",
       "      <td>0.258265</td>\n",
       "      <td>0.171686</td>\n",
       "      <td>0.161543</td>\n",
       "      <td>0.466873</td>\n",
       "      <td>0.401444</td>\n",
       "      <td>0.023678</td>\n",
       "      <td>0.715801</td>\n",
       "      <td>9.345629</td>\n",
       "      <td>3.216189</td>\n",
       "      <td>17.253733</td>\n",
       "      <td>17.274916</td>\n",
       "      <td>0.0</td>\n",
       "      <td>0.473780</td>\n",
       "      <td>9.056482</td>\n",
       "    </tr>\n",
       "    <tr>\n",
       "      <th>min</th>\n",
       "      <td>3.921784e+04</td>\n",
       "      <td>5.030230e+06</td>\n",
       "      <td>0.000000</td>\n",
       "      <td>-1.000000</td>\n",
       "      <td>0.000000</td>\n",
       "      <td>0.000000</td>\n",
       "      <td>0.000000</td>\n",
       "      <td>0.000000</td>\n",
       "      <td>0.000000</td>\n",
       "      <td>0.000000</td>\n",
       "      <td>0.000000</td>\n",
       "      <td>2015.000000</td>\n",
       "      <td>1.000000</td>\n",
       "      <td>1.000000</td>\n",
       "      <td>6.000000</td>\n",
       "      <td>0.000000</td>\n",
       "      <td>0.000000</td>\n",
       "      <td>2016.0</td>\n",
       "      <td>4.000000</td>\n",
       "      <td>1.000000</td>\n",
       "    </tr>\n",
       "    <tr>\n",
       "      <th>25%</th>\n",
       "      <td>4.172614e+12</td>\n",
       "      <td>5.640286e+06</td>\n",
       "      <td>0.000000</td>\n",
       "      <td>18.000000</td>\n",
       "      <td>0.000000</td>\n",
       "      <td>0.000000</td>\n",
       "      <td>0.000000</td>\n",
       "      <td>0.000000</td>\n",
       "      <td>0.000000</td>\n",
       "      <td>0.000000</td>\n",
       "      <td>0.000000</td>\n",
       "      <td>2016.000000</td>\n",
       "      <td>4.000000</td>\n",
       "      <td>6.000000</td>\n",
       "      <td>8.000000</td>\n",
       "      <td>14.000000</td>\n",
       "      <td>15.000000</td>\n",
       "      <td>2016.0</td>\n",
       "      <td>5.000000</td>\n",
       "      <td>5.000000</td>\n",
       "    </tr>\n",
       "    <tr>\n",
       "      <th>50%</th>\n",
       "      <td>3.173184e+13</td>\n",
       "      <td>5.680573e+06</td>\n",
       "      <td>0.000000</td>\n",
       "      <td>37.000000</td>\n",
       "      <td>0.000000</td>\n",
       "      <td>0.000000</td>\n",
       "      <td>0.000000</td>\n",
       "      <td>0.000000</td>\n",
       "      <td>0.000000</td>\n",
       "      <td>0.000000</td>\n",
       "      <td>0.000000</td>\n",
       "      <td>2016.000000</td>\n",
       "      <td>5.000000</td>\n",
       "      <td>13.000000</td>\n",
       "      <td>10.000000</td>\n",
       "      <td>29.000000</td>\n",
       "      <td>30.000000</td>\n",
       "      <td>2016.0</td>\n",
       "      <td>5.000000</td>\n",
       "      <td>10.000000</td>\n",
       "    </tr>\n",
       "    <tr>\n",
       "      <th>75%</th>\n",
       "      <td>9.439172e+13</td>\n",
       "      <td>5.725524e+06</td>\n",
       "      <td>1.000000</td>\n",
       "      <td>55.000000</td>\n",
       "      <td>0.000000</td>\n",
       "      <td>0.000000</td>\n",
       "      <td>0.000000</td>\n",
       "      <td>0.000000</td>\n",
       "      <td>0.000000</td>\n",
       "      <td>1.000000</td>\n",
       "      <td>0.000000</td>\n",
       "      <td>2016.000000</td>\n",
       "      <td>5.000000</td>\n",
       "      <td>22.000000</td>\n",
       "      <td>13.000000</td>\n",
       "      <td>44.000000</td>\n",
       "      <td>44.000000</td>\n",
       "      <td>2016.0</td>\n",
       "      <td>5.000000</td>\n",
       "      <td>19.000000</td>\n",
       "    </tr>\n",
       "    <tr>\n",
       "      <th>max</th>\n",
       "      <td>9.999816e+14</td>\n",
       "      <td>5.790484e+06</td>\n",
       "      <td>1.000000</td>\n",
       "      <td>115.000000</td>\n",
       "      <td>1.000000</td>\n",
       "      <td>1.000000</td>\n",
       "      <td>1.000000</td>\n",
       "      <td>1.000000</td>\n",
       "      <td>4.000000</td>\n",
       "      <td>1.000000</td>\n",
       "      <td>1.000000</td>\n",
       "      <td>2016.000000</td>\n",
       "      <td>12.000000</td>\n",
       "      <td>31.000000</td>\n",
       "      <td>21.000000</td>\n",
       "      <td>59.000000</td>\n",
       "      <td>59.000000</td>\n",
       "      <td>2016.0</td>\n",
       "      <td>6.000000</td>\n",
       "      <td>31.000000</td>\n",
       "    </tr>\n",
       "  </tbody>\n",
       "</table>\n",
       "</div>"
      ],
      "text/plain": [
       "         Patient_ID  Appointment_ID  Patient_Gender    Patient_Age  \\\n",
       "count  1.105270e+05    1.105270e+05   110527.000000  110527.000000   \n",
       "mean   1.474963e+14    5.675305e+06        0.350023      37.088874   \n",
       "std    2.560949e+14    7.129575e+04        0.476979      23.110205   \n",
       "min    3.921784e+04    5.030230e+06        0.000000      -1.000000   \n",
       "25%    4.172614e+12    5.640286e+06        0.000000      18.000000   \n",
       "50%    3.173184e+13    5.680573e+06        0.000000      37.000000   \n",
       "75%    9.439172e+13    5.725524e+06        1.000000      55.000000   \n",
       "max    9.999816e+14    5.790484e+06        1.000000     115.000000   \n",
       "\n",
       "       Patient_Scholarship  Patient_Hypertension  Patient_Diabetes  \\\n",
       "count        110527.000000         110527.000000     110527.000000   \n",
       "mean              0.098266              0.197246          0.071865   \n",
       "std               0.297675              0.397921          0.258265   \n",
       "min               0.000000              0.000000          0.000000   \n",
       "25%               0.000000              0.000000          0.000000   \n",
       "50%               0.000000              0.000000          0.000000   \n",
       "75%               0.000000              0.000000          0.000000   \n",
       "max               1.000000              1.000000          1.000000   \n",
       "\n",
       "       Patient_Alcoholism  Patient_Handicap   SMS_Received        No_Show  \\\n",
       "count       110527.000000     110527.000000  110527.000000  110527.000000   \n",
       "mean             0.030400          0.022248       0.321026       0.201933   \n",
       "std              0.171686          0.161543       0.466873       0.401444   \n",
       "min              0.000000          0.000000       0.000000       0.000000   \n",
       "25%              0.000000          0.000000       0.000000       0.000000   \n",
       "50%              0.000000          0.000000       0.000000       0.000000   \n",
       "75%              0.000000          0.000000       1.000000       0.000000   \n",
       "max              1.000000          4.000000       1.000000       1.000000   \n",
       "\n",
       "       Appointment_Scheduled_Year  Appointment_Scheduled_Month  \\\n",
       "count               110527.000000                110527.000000   \n",
       "mean                  2015.999439                     4.823871   \n",
       "std                      0.023678                     0.715801   \n",
       "min                   2015.000000                     1.000000   \n",
       "25%                   2016.000000                     4.000000   \n",
       "50%                   2016.000000                     5.000000   \n",
       "75%                   2016.000000                     5.000000   \n",
       "max                   2016.000000                    12.000000   \n",
       "\n",
       "       Appointment_Scheduled_Day  Appointment_Scheduled_Hour  \\\n",
       "count              110527.000000               110527.000000   \n",
       "mean                   14.252228                   10.774517   \n",
       "std                     9.345629                    3.216189   \n",
       "min                     1.000000                    6.000000   \n",
       "25%                     6.000000                    8.000000   \n",
       "50%                    13.000000                   10.000000   \n",
       "75%                    22.000000                   13.000000   \n",
       "max                    31.000000                   21.000000   \n",
       "\n",
       "       Appointment_Scheduled_Minute  Appointment_Scheduled_Second  \\\n",
       "count                 110527.000000                 110527.000000   \n",
       "mean                      28.997955                     29.529445   \n",
       "std                       17.253733                     17.274916   \n",
       "min                        0.000000                      0.000000   \n",
       "25%                       14.000000                     15.000000   \n",
       "50%                       29.000000                     30.000000   \n",
       "75%                       44.000000                     44.000000   \n",
       "max                       59.000000                     59.000000   \n",
       "\n",
       "       Appointment_Date_Year  Appointment_Date_Month  Appointment_Date_Day  \n",
       "count               110527.0           110527.000000         110527.000000  \n",
       "mean                  2016.0                5.210048             12.499398  \n",
       "std                      0.0                0.473780              9.056482  \n",
       "min                   2016.0                4.000000              1.000000  \n",
       "25%                   2016.0                5.000000              5.000000  \n",
       "50%                   2016.0                5.000000             10.000000  \n",
       "75%                   2016.0                5.000000             19.000000  \n",
       "max                   2016.0                6.000000             31.000000  "
      ]
     },
     "execution_count": 6,
     "metadata": {},
     "output_type": "execute_result"
    }
   ],
   "source": [
    "raw_data.describe()"
   ]
  },
  {
   "cell_type": "code",
   "execution_count": 7,
   "metadata": {},
   "outputs": [
    {
     "data": {
      "image/png": "[encoded data removed]",
      "text/plain": [
       "<matplotlib.figure.Figure at 0x17abc1287b8>"
      ]
     },
     "metadata": {},
     "output_type": "display_data"
    }
   ],
   "source": [
    "raw_data[['Patient_Age']].boxplot()\n",
    "plt.show()"
   ]
  },
  {
   "cell_type": "code",
   "execution_count": 34,
   "metadata": {},
   "outputs": [
    {
     "data": {
      "image/png": "[encoded data removed]",
      "text/plain": [
       "<matplotlib.figure.Figure at 0x17abcc2acc0>"
      ]
     },
     "metadata": {},
     "output_type": "display_data"
    }
   ],
   "source": [
    "plt.hist(raw_data.Patient_Age, bins= len(raw_data.Patient_Age.unique()))\n",
    "plt.show()"
   ]
  },
  {
   "cell_type": "code",
   "execution_count": 48,
   "metadata": {},
   "outputs": [
    {
     "data": {
      "text/plain": [
       "count    110519.000000\n",
       "mean         37.084519\n",
       "std          23.103165\n",
       "min           0.000000\n",
       "25%          18.000000\n",
       "50%          37.000000\n",
       "75%          55.000000\n",
       "max         100.000000\n",
       "Name: Patient_Age, dtype: float64"
      ]
     },
     "execution_count": 48,
     "metadata": {},
     "output_type": "execute_result"
    }
   ],
   "source": [
    "raw_data = raw_data.drop(raw_data.index[raw_data.Patient_Age < 0])\n",
    "raw_data = raw_data.drop(raw_data.index[raw_data.Patient_Age > 100])\n",
    "raw_data.Patient_Age.describe()"
   ]
  },
  {
   "cell_type": "code",
   "execution_count": 112,
   "metadata": {},
   "outputs": [],
   "source": [
    "raw_data.to_csv('Cleanned_MA.csv', encoding='utf-8', index= False)\n"
   ]
  },
  {
   "cell_type": "markdown",
   "metadata": {},
   "source": [
    "### Feature engineering\n",
    "Here we will focus on creating new features. Let us start by loading our cleaned data"
   ]
  },
  {
   "cell_type": "code",
   "execution_count": 163,
   "metadata": {},
   "outputs": [
    {
     "name": "stdout",
     "output_type": "stream",
     "text": [
      "<class 'pandas.core.frame.DataFrame'>\n",
      "RangeIndex: 110519 entries, 0 to 110518\n",
      "Data columns (total 23 columns):\n",
      "Patient_ID                      110519 non-null float64\n",
      "Appointment_ID                  110519 non-null int64\n",
      "Patient_Gender                  110519 non-null int64\n",
      "Appointment_ScheduledDate       110519 non-null object\n",
      "Appointment_Date                110519 non-null object\n",
      "Patient_Age                     110519 non-null int64\n",
      "Patient_Neighbourhood           110519 non-null object\n",
      "Patient_Scholarship             110519 non-null int64\n",
      "Patient_Hypertension            110519 non-null int64\n",
      "Patient_Diabetes                110519 non-null int64\n",
      "Patient_Alcoholism              110519 non-null int64\n",
      "Patient_Handicap                110519 non-null int64\n",
      "SMS_Received                    110519 non-null int64\n",
      "No_Show                         110519 non-null int64\n",
      "Appointment_Scheduled_Year      110519 non-null int64\n",
      "Appointment_Scheduled_Month     110519 non-null int64\n",
      "Appointment_Scheduled_Day       110519 non-null int64\n",
      "Appointment_Scheduled_Hour      110519 non-null int64\n",
      "Appointment_Scheduled_Minute    110519 non-null int64\n",
      "Appointment_Scheduled_Second    110519 non-null int64\n",
      "Appointment_Date_Year           110519 non-null int64\n",
      "Appointment_Date_Month          110519 non-null int64\n",
      "Appointment_Date_Day            110519 non-null int64\n",
      "dtypes: float64(1), int64(19), object(3)\n",
      "memory usage: 19.4+ MB\n"
     ]
    }
   ],
   "source": [
    "data = pd.read_csv('Cleanned_MA.csv', encoding= 'utf-8')\n",
    "data.info()"
   ]
  },
  {
   "cell_type": "markdown",
   "metadata": {},
   "source": [
    "we will first start by building the elapsed time feature as the number of days between booking an appointment and the actual appointment. Low elapsed time can indicate an urgency from the patient while high elapsed time can indicate a routine check up"
   ]
  },
  {
   "cell_type": "code",
   "execution_count": 164,
   "metadata": {},
   "outputs": [
    {
     "data": {
      "image/png": "[encoded data removed]",
      "text/plain": [
       "<matplotlib.figure.Figure at 0x17abce6cf60>"
      ]
     },
     "metadata": {},
     "output_type": "display_data"
    }
   ],
   "source": [
    "data['Appointment_ScheduledDate'] = pd.to_datetime(data['Appointment_ScheduledDate'])\n",
    "data['Appointment_Date'] = pd.to_datetime(data['Appointment_Date'])\n",
    "data['Appointment_ElapsedTime'] = data['Appointment_ScheduledDate'] - data['Appointment_Date']\n",
    "data['Appointment_ElapsedTime'] = data['Appointment_ElapsedTime'].apply(lambda x: abs(x.days))\n",
    "\n",
    "plt.hist(data.Appointment_ElapsedTime, bins= len(data.Appointment_ElapsedTime.unique()))\n",
    "plt.show()\n"
   ]
  },
  {
   "cell_type": "code",
   "execution_count": 165,
   "metadata": {},
   "outputs": [
    {
     "name": "stdout",
     "output_type": "stream",
     "text": [
      "<class 'pandas.core.frame.DataFrame'>\n",
      "RangeIndex: 110519 entries, 0 to 110518\n",
      "Data columns (total 31 columns):\n",
      "Patient_ID                      110519 non-null float64\n",
      "Appointment_ID                  110519 non-null int64\n",
      "Patient_Gender                  110519 non-null int64\n",
      "Appointment_ScheduledDate       110519 non-null datetime64[ns]\n",
      "Appointment_Date                110519 non-null datetime64[ns]\n",
      "Patient_Age                     110519 non-null int64\n",
      "Patient_Neighbourhood           110519 non-null object\n",
      "Patient_Scholarship             110519 non-null int64\n",
      "Patient_Hypertension            110519 non-null int64\n",
      "Patient_Diabetes                110519 non-null int64\n",
      "Patient_Alcoholism              110519 non-null int64\n",
      "Patient_Handicap                110519 non-null int64\n",
      "SMS_Received                    110519 non-null int64\n",
      "No_Show                         110519 non-null int64\n",
      "Appointment_Scheduled_Year      110519 non-null int64\n",
      "Appointment_Scheduled_Month     110519 non-null int64\n",
      "Appointment_Scheduled_Day       110519 non-null int64\n",
      "Appointment_Scheduled_Hour      110519 non-null int64\n",
      "Appointment_Scheduled_Minute    110519 non-null int64\n",
      "Appointment_Scheduled_Second    110519 non-null int64\n",
      "Appointment_Date_Year           110519 non-null int64\n",
      "Appointment_Date_Month          110519 non-null int64\n",
      "Appointment_Date_Day            110519 non-null int64\n",
      "Appointment_ElapsedTime         110519 non-null int64\n",
      "Appointment_DayOfWeek           110519 non-null int64\n",
      "Monday                          110519 non-null uint8\n",
      "Tuesday                         110519 non-null uint8\n",
      "Wednesday                       110519 non-null uint8\n",
      "Thursday                        110519 non-null uint8\n",
      "Friday                          110519 non-null uint8\n",
      "Saturday                        110519 non-null uint8\n",
      "dtypes: datetime64[ns](2), float64(1), int64(21), object(1), uint8(6)\n",
      "memory usage: 21.7+ MB\n"
     ]
    }
   ],
   "source": [
    "data['Appointment_DayOfWeek'] = data['Appointment_Date'].dt.dayofweek\n",
    "days = pd.get_dummies(data['Appointment_DayOfWeek'])\n",
    "\n",
    "days_of_week_names = ['Monday', 'Tuesday', 'Wednesday', 'Thursday', 'Friday', 'Saturday']\n",
    "days.columns= days_of_week_names\n",
    "data = data.join(days)\n",
    "data.info()"
   ]
  },
  {
   "cell_type": "markdown",
   "metadata": {},
   "source": [
    "### Statistical analysis\n",
    "Conduct a statistical analysis on the features with a deep dive on engineered features, Age, day of the week, month, SMS received, scholarship and diseases"
   ]
  },
  {
   "cell_type": "code",
   "execution_count": 166,
   "metadata": {},
   "outputs": [
    {
     "data": {
      "image/png": "[encoded data removed]",
      "text/plain": [
       "<matplotlib.figure.Figure at 0x17abde6f828>"
      ]
     },
     "metadata": {},
     "output_type": "display_data"
    }
   ],
   "source": [
    "def corrolationMap(data, columns):\n",
    "    temp = data[columns]\n",
    "    sns.heatmap(temp.corr())\n",
    "    plt.show()\n",
    "\n",
    "\n",
    "predictors = ['Patient_Age', 'Patient_Gender', 'Patient_Scholarship', 'Patient_Hypertension', 'Patient_Diabetes', \n",
    "              'Patient_Alcoholism', 'Patient_Handicap', 'SMS_Received','Appointment_Scheduled_Month', \n",
    "              'Appointment_Scheduled_Day', 'Appointment_Scheduled_Hour', 'Appointment_Date_Month', 'Appointment_Date_Day', \n",
    "              'Appointment_ElapsedTime', 'Appointment_DayOfWeek', 'No_Show']\n",
    "corrolationMap(data, predictors)"
   ]
  },
  {
   "cell_type": "code",
   "execution_count": null,
   "metadata": {},
   "outputs": [],
   "source": [
    "def statisticalAnalysis(data, column_to_analyze, target):\n",
    "    print('to implement')"
   ]
  },
  {
   "cell_type": "markdown",
   "metadata": {},
   "source": [
    "### Factor analysis\n",
    "Conduct a factor analysis to determine which predictors, or pair of predictors are the most important"
   ]
  },
  {
   "cell_type": "code",
   "execution_count": null,
   "metadata": {},
   "outputs": [],
   "source": [
    "def factorAnalysis(data, columns, target, factor):\n",
    "    print('To implement')"
   ]
  }
 ],
 "metadata": {
  "kernelspec": {
   "display_name": "Python 3",
   "language": "python",
   "name": "python3"
  },
  "language_info": {
   "codemirror_mode": {
    "name": "ipython",
    "version": 3
   },
   "file_extension": ".py",
   "mimetype": "text/x-python",
   "name": "python",
   "nbconvert_exporter": "python",
   "pygments_lexer": "ipython3",
   "version": "3.6.2"
  }
 },
 "nbformat": 4,
 "nbformat_minor": 2
}
