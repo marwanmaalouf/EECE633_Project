{
 "cells": [
  {
   "cell_type": "markdown",
   "metadata": {},
   "source": [
    "## Missing Appointment at the doctor predictor\n",
    "\n",
    "Step 1: Clean the dataset`\n"
   ]
  },
  {
   "cell_type": "code",
   "execution_count": 11,
   "metadata": {
    "collapsed": true
   },
   "outputs": [
    {
     "name": "stdout",
     "output_type": "stream",
     "text": [
      "<class 'pandas.core.frame.DataFrame'>\n",
      "RangeIndex: 110527 entries, 0 to 110526\n",
      "Data columns (total 14 columns):\n",
      "Patient_ID                   110527 non-null float64\n",
      "Appointment_ID               110527 non-null int64\n",
      "Patient_Gender               110527 non-null object\n",
      "Appointment_ScheduledDate    110527 non-null object\n",
      "Appointment_Date             110527 non-null object\n",
      "Patient_Age                  110527 non-null int64\n",
      "Patient_Neighbourhood        110527 non-null object\n",
      "Patient_Scholarship          110527 non-null int64\n",
      "Patient_Hypertension         110527 non-null int64\n",
      "Patient_Diabetes             110527 non-null int64\n",
      "Patient_Alcoholism           110527 non-null int64\n",
      "Patient_Handicap             110527 non-null int64\n",
      "SMS_Received                 110527 non-null int64\n",
      "No_Show                      110527 non-null object\n",
      "dtypes: float64(1), int64(8), object(5)\n",
      "memory usage: 11.8+ MB\n"
     ]
    }
   ],
   "source": [
    "## Import libraries\n",
    "import numpy as np\n",
    "import pandas as pd\n",
    "import matplotlib.pyplot as plt\n",
    "import seaborn as sns\n",
    "\n",
    "filename = './Missed_Appointment.csv'\n",
    "raw_columns = ['Patient_ID', 'Appointment_ID', \n",
    "    'Patient_Gender', 'Appointment_ScheduledDate',\n",
    "    'Appointment_Date', 'Patient_Age', \n",
    "    'Patient_Neighbourhood', 'Patient_Scholarship',\n",
    "    'Patient_Hypertension', 'Patient_Diabetes',\n",
    "    'Patient_Alcoholism', 'Patient_Handicap',\n",
    "    'SMS_Received', 'No_Show']\n",
    "\n",
    "raw_data = pd.read_csv(filename)\n",
    "raw_data.columns = raw_columns\n",
    "raw_data.info()\n",
    "    "
   ]
  },
  {
   "cell_type": "markdown",
   "metadata": {},
   "source": [
    "### Handeling Type\n",
    "Based on this output, we can see that we do not have any missing data and that we have 5 columns of type object. We start by working on the time objects"
   ]
  },
  {
   "cell_type": "code",
   "execution_count": 4,
   "metadata": {},
   "outputs": [
    {
     "name": "stdout",
     "output_type": "stream",
     "text": [
      "<class 'pandas.core.frame.DataFrame'>\n",
      "RangeIndex: 110527 entries, 0 to 110526\n",
      "Data columns (total 23 columns):\n",
      "Patient_ID                      110527 non-null float64\n",
      "Appointment_ID                  110527 non-null int64\n",
      "Patient_Gender                  110527 non-null object\n",
      "Appointment_ScheduledDate       110527 non-null datetime64[ns]\n",
      "Appointment_Date                110527 non-null datetime64[ns]\n",
      "Patient_Age                     110527 non-null int64\n",
      "Patient_Neighbourhood           110527 non-null object\n",
      "Patient_Scholarship             110527 non-null int64\n",
      "Patient_Hypertension            110527 non-null int64\n",
      "Patient_Diabetes                110527 non-null int64\n",
      "Patient_Alcoholism              110527 non-null int64\n",
      "Patient_Handicap                110527 non-null int64\n",
      "SMS_Received                    110527 non-null int64\n",
      "No_Show                         110527 non-null object\n",
      "Appointment_Scheduled_Year      110527 non-null int64\n",
      "Appointment_Scheduled_Month     110527 non-null int64\n",
      "Appointment_Scheduled_Day       110527 non-null int64\n",
      "Appointment_Scheduled_Hour      110527 non-null int64\n",
      "Appointment_Scheduled_Minute    110527 non-null int64\n",
      "Appointment_Scheduled_Second    110527 non-null int64\n",
      "Appointment_Date_Year           110527 non-null int64\n",
      "Appointment_Date_Month          110527 non-null int64\n",
      "Appointment_Date_Day            110527 non-null int64\n",
      "dtypes: datetime64[ns](2), float64(1), int64(17), object(3)\n",
      "memory usage: 19.4+ MB\n",
      "None\n"
     ]
    }
   ],
   "source": [
    "def cleanTimeStamps(data):\n",
    "    data[['Appointment_ScheduledDate']] = data.Appointment_ScheduledDate.apply(np.datetime64)\n",
    "    data['Appointment_Scheduled_Year'] = data.Appointment_ScheduledDate.apply(lambda x: x.year)\n",
    "    data['Appointment_Scheduled_Month'] = data.Appointment_ScheduledDate.apply(lambda x: x.month)\n",
    "    data['Appointment_Scheduled_Day'] = data.Appointment_ScheduledDate.apply(lambda x: x.day)\n",
    "    data['Appointment_Scheduled_Hour'] = data.Appointment_ScheduledDate.apply(lambda x: x.hour)\n",
    "    data['Appointment_Scheduled_Minute'] = data.Appointment_ScheduledDate.apply(lambda x: x.minute)\n",
    "    data['Appointment_Scheduled_Second'] = data.Appointment_ScheduledDate.apply(lambda x: x.second)\n",
    "\n",
    "    \n",
    "    data[['Appointment_Date']] = data.Appointment_Date.apply(np.datetime64)\n",
    "    data['Appointment_Date_Year'] = data.Appointment_Date.apply(lambda x: x.year)\n",
    "    data['Appointment_Date_Month'] = data.Appointment_Date.apply(lambda x: x.month)\n",
    "    data['Appointment_Date_Day'] = data.Appointment_Date.apply(lambda x: x.day)\n",
    "    \n",
    "    print(data.info())\n",
    "    \n",
    "cleanTimeStamps(raw_data)"
   ]
  },
  {
   "cell_type": "markdown",
   "metadata": {},
   "source": [
    "### Rendering to numerical data\n",
    "In this step, we will focus on transforming our data into numerical data. Convention used:\n",
    "'No' -> 0 \n",
    "'Yes' -> 1\n",
    "'F' -> 0\n",
    "'M' -> 1"
   ]
  },
  {
   "cell_type": "code",
   "execution_count": 5,
   "metadata": {},
   "outputs": [
    {
     "name": "stdout",
     "output_type": "stream",
     "text": [
      "<class 'pandas.core.frame.DataFrame'>\n",
      "RangeIndex: 110527 entries, 0 to 110526\n",
      "Data columns (total 23 columns):\n",
      "Patient_ID                      110527 non-null float64\n",
      "Appointment_ID                  110527 non-null int64\n",
      "Patient_Gender                  110527 non-null int64\n",
      "Appointment_ScheduledDate       110527 non-null datetime64[ns]\n",
      "Appointment_Date                110527 non-null datetime64[ns]\n",
      "Patient_Age                     110527 non-null int64\n",
      "Patient_Neighbourhood           110527 non-null object\n",
      "Patient_Scholarship             110527 non-null int64\n",
      "Patient_Hypertension            110527 non-null int64\n",
      "Patient_Diabetes                110527 non-null int64\n",
      "Patient_Alcoholism              110527 non-null int64\n",
      "Patient_Handicap                110527 non-null int64\n",
      "SMS_Received                    110527 non-null int64\n",
      "No_Show                         110527 non-null int64\n",
      "Appointment_Scheduled_Year      110527 non-null int64\n",
      "Appointment_Scheduled_Month     110527 non-null int64\n",
      "Appointment_Scheduled_Day       110527 non-null int64\n",
      "Appointment_Scheduled_Hour      110527 non-null int64\n",
      "Appointment_Scheduled_Minute    110527 non-null int64\n",
      "Appointment_Scheduled_Second    110527 non-null int64\n",
      "Appointment_Date_Year           110527 non-null int64\n",
      "Appointment_Date_Month          110527 non-null int64\n",
      "Appointment_Date_Day            110527 non-null int64\n",
      "dtypes: datetime64[ns](2), float64(1), int64(19), object(1)\n",
      "memory usage: 19.4+ MB\n"
     ]
    }
   ],
   "source": [
    "## No Show target class\n",
    "raw_data['No_Show'] = raw_data.No_Show.apply(lambda x: 1 if x=='Yes' else 0)\n",
    "\n",
    "\n",
    "## Gender target class\n",
    "raw_data['Patient_Gender'] = raw_data.Patient_Gender.apply(lambda x: 1 if x=='M' else 0)\n",
    "\n",
    "raw_data.info()"
   ]
  },
  {
   "cell_type": "markdown",
   "metadata": {},
   "source": [
    "### Cleaning data:\n",
    "In this step, we will look at inconsistency in the data (e.g., outliers, min values, max values)"
   ]
  },
  {
   "cell_type": "code",
   "execution_count": 6,
   "metadata": {},
   "outputs": [
    {
     "data": {
      "text/html": [
       "<div>\n",
       "<style>\n",
       "    .dataframe thead tr:only-child th {\n",
       "        text-align: right;\n",
       "    }\n",
       "\n",
       "    .dataframe thead th {\n",
       "        text-align: left;\n",
       "    }\n",
       "\n",
       "    .dataframe tbody tr th {\n",
       "        vertical-align: top;\n",
       "    }\n",
       "</style>\n",
       "<table border=\"1\" class=\"dataframe\">\n",
       "  <thead>\n",
       "    <tr style=\"text-align: right;\">\n",
       "      <th></th>\n",
       "      <th>Patient_ID</th>\n",
       "      <th>Appointment_ID</th>\n",
       "      <th>Patient_Gender</th>\n",
       "      <th>Patient_Age</th>\n",
       "      <th>Patient_Scholarship</th>\n",
       "      <th>Patient_Hypertension</th>\n",
       "      <th>Patient_Diabetes</th>\n",
       "      <th>Patient_Alcoholism</th>\n",
       "      <th>Patient_Handicap</th>\n",
       "      <th>SMS_Received</th>\n",
       "      <th>No_Show</th>\n",
       "      <th>Appointment_Scheduled_Year</th>\n",
       "      <th>Appointment_Scheduled_Month</th>\n",
       "      <th>Appointment_Scheduled_Day</th>\n",
       "      <th>Appointment_Scheduled_Hour</th>\n",
       "      <th>Appointment_Scheduled_Minute</th>\n",
       "      <th>Appointment_Scheduled_Second</th>\n",
       "      <th>Appointment_Date_Year</th>\n",
       "      <th>Appointment_Date_Month</th>\n",
       "      <th>Appointment_Date_Day</th>\n",
       "    </tr>\n",
       "  </thead>\n",
       "  <tbody>\n",
       "    <tr>\n",
       "      <th>count</th>\n",
       "      <td>1.105270e+05</td>\n",
       "      <td>1.105270e+05</td>\n",
       "      <td>110527.000000</td>\n",
       "      <td>110527.000000</td>\n",
       "      <td>110527.000000</td>\n",
       "      <td>110527.000000</td>\n",
       "      <td>110527.000000</td>\n",
       "      <td>110527.000000</td>\n",
       "      <td>110527.000000</td>\n",
       "      <td>110527.000000</td>\n",
       "      <td>110527.000000</td>\n",
       "      <td>110527.000000</td>\n",
       "      <td>110527.000000</td>\n",
       "      <td>110527.000000</td>\n",
       "      <td>110527.000000</td>\n",
       "      <td>110527.000000</td>\n",
       "      <td>110527.000000</td>\n",
       "      <td>110527.0</td>\n",
       "      <td>110527.000000</td>\n",
       "      <td>110527.000000</td>\n",
       "    </tr>\n",
       "    <tr>\n",
       "      <th>mean</th>\n",
       "      <td>1.474963e+14</td>\n",
       "      <td>5.675305e+06</td>\n",
       "      <td>0.350023</td>\n",
       "      <td>37.088874</td>\n",
       "      <td>0.098266</td>\n",
       "      <td>0.197246</td>\n",
       "      <td>0.071865</td>\n",
       "      <td>0.030400</td>\n",
       "      <td>0.022248</td>\n",
       "      <td>0.321026</td>\n",
       "      <td>0.201933</td>\n",
       "      <td>2015.999439</td>\n",
       "      <td>4.823871</td>\n",
       "      <td>14.252228</td>\n",
       "      <td>10.774517</td>\n",
       "      <td>28.997955</td>\n",
       "      <td>29.529445</td>\n",
       "      <td>2016.0</td>\n",
       "      <td>5.210048</td>\n",
       "      <td>12.499398</td>\n",
       "    </tr>\n",
       "    <tr>\n",
       "      <th>std</th>\n",
       "      <td>2.560949e+14</td>\n",
       "      <td>7.129575e+04</td>\n",
       "      <td>0.476979</td>\n",
       "      <td>23.110205</td>\n",
       "      <td>0.297675</td>\n",
       "      <td>0.397921</td>\n",
       "      <td>0.258265</td>\n",
       "      <td>0.171686</td>\n",
       "      <td>0.161543</td>\n",
       "      <td>0.466873</td>\n",
       "      <td>0.401444</td>\n",
       "      <td>0.023678</td>\n",
       "      <td>0.715801</td>\n",
       "      <td>9.345629</td>\n",
       "      <td>3.216189</td>\n",
       "      <td>17.253733</td>\n",
       "      <td>17.274916</td>\n",
       "      <td>0.0</td>\n",
       "      <td>0.473780</td>\n",
       "      <td>9.056482</td>\n",
       "    </tr>\n",
       "    <tr>\n",
       "      <th>min</th>\n",
       "      <td>3.921784e+04</td>\n",
       "      <td>5.030230e+06</td>\n",
       "      <td>0.000000</td>\n",
       "      <td>-1.000000</td>\n",
       "      <td>0.000000</td>\n",
       "      <td>0.000000</td>\n",
       "      <td>0.000000</td>\n",
       "      <td>0.000000</td>\n",
       "      <td>0.000000</td>\n",
       "      <td>0.000000</td>\n",
       "      <td>0.000000</td>\n",
       "      <td>2015.000000</td>\n",
       "      <td>1.000000</td>\n",
       "      <td>1.000000</td>\n",
       "      <td>6.000000</td>\n",
       "      <td>0.000000</td>\n",
       "      <td>0.000000</td>\n",
       "      <td>2016.0</td>\n",
       "      <td>4.000000</td>\n",
       "      <td>1.000000</td>\n",
       "    </tr>\n",
       "    <tr>\n",
       "      <th>25%</th>\n",
       "      <td>4.172614e+12</td>\n",
       "      <td>5.640286e+06</td>\n",
       "      <td>0.000000</td>\n",
       "      <td>18.000000</td>\n",
       "      <td>0.000000</td>\n",
       "      <td>0.000000</td>\n",
       "      <td>0.000000</td>\n",
       "      <td>0.000000</td>\n",
       "      <td>0.000000</td>\n",
       "      <td>0.000000</td>\n",
       "      <td>0.000000</td>\n",
       "      <td>2016.000000</td>\n",
       "      <td>4.000000</td>\n",
       "      <td>6.000000</td>\n",
       "      <td>8.000000</td>\n",
       "      <td>14.000000</td>\n",
       "      <td>15.000000</td>\n",
       "      <td>2016.0</td>\n",
       "      <td>5.000000</td>\n",
       "      <td>5.000000</td>\n",
       "    </tr>\n",
       "    <tr>\n",
       "      <th>50%</th>\n",
       "      <td>3.173184e+13</td>\n",
       "      <td>5.680573e+06</td>\n",
       "      <td>0.000000</td>\n",
       "      <td>37.000000</td>\n",
       "      <td>0.000000</td>\n",
       "      <td>0.000000</td>\n",
       "      <td>0.000000</td>\n",
       "      <td>0.000000</td>\n",
       "      <td>0.000000</td>\n",
       "      <td>0.000000</td>\n",
       "      <td>0.000000</td>\n",
       "      <td>2016.000000</td>\n",
       "      <td>5.000000</td>\n",
       "      <td>13.000000</td>\n",
       "      <td>10.000000</td>\n",
       "      <td>29.000000</td>\n",
       "      <td>30.000000</td>\n",
       "      <td>2016.0</td>\n",
       "      <td>5.000000</td>\n",
       "      <td>10.000000</td>\n",
       "    </tr>\n",
       "    <tr>\n",
       "      <th>75%</th>\n",
       "      <td>9.439172e+13</td>\n",
       "      <td>5.725524e+06</td>\n",
       "      <td>1.000000</td>\n",
       "      <td>55.000000</td>\n",
       "      <td>0.000000</td>\n",
       "      <td>0.000000</td>\n",
       "      <td>0.000000</td>\n",
       "      <td>0.000000</td>\n",
       "      <td>0.000000</td>\n",
       "      <td>1.000000</td>\n",
       "      <td>0.000000</td>\n",
       "      <td>2016.000000</td>\n",
       "      <td>5.000000</td>\n",
       "      <td>22.000000</td>\n",
       "      <td>13.000000</td>\n",
       "      <td>44.000000</td>\n",
       "      <td>44.000000</td>\n",
       "      <td>2016.0</td>\n",
       "      <td>5.000000</td>\n",
       "      <td>19.000000</td>\n",
       "    </tr>\n",
       "    <tr>\n",
       "      <th>max</th>\n",
       "      <td>9.999816e+14</td>\n",
       "      <td>5.790484e+06</td>\n",
       "      <td>1.000000</td>\n",
       "      <td>115.000000</td>\n",
       "      <td>1.000000</td>\n",
       "      <td>1.000000</td>\n",
       "      <td>1.000000</td>\n",
       "      <td>1.000000</td>\n",
       "      <td>4.000000</td>\n",
       "      <td>1.000000</td>\n",
       "      <td>1.000000</td>\n",
       "      <td>2016.000000</td>\n",
       "      <td>12.000000</td>\n",
       "      <td>31.000000</td>\n",
       "      <td>21.000000</td>\n",
       "      <td>59.000000</td>\n",
       "      <td>59.000000</td>\n",
       "      <td>2016.0</td>\n",
       "      <td>6.000000</td>\n",
       "      <td>31.000000</td>\n",
       "    </tr>\n",
       "  </tbody>\n",
       "</table>\n",
       "</div>"
      ],
      "text/plain": [
       "         Patient_ID  Appointment_ID  Patient_Gender    Patient_Age  \\\n",
       "count  1.105270e+05    1.105270e+05   110527.000000  110527.000000   \n",
       "mean   1.474963e+14    5.675305e+06        0.350023      37.088874   \n",
       "std    2.560949e+14    7.129575e+04        0.476979      23.110205   \n",
       "min    3.921784e+04    5.030230e+06        0.000000      -1.000000   \n",
       "25%    4.172614e+12    5.640286e+06        0.000000      18.000000   \n",
       "50%    3.173184e+13    5.680573e+06        0.000000      37.000000   \n",
       "75%    9.439172e+13    5.725524e+06        1.000000      55.000000   \n",
       "max    9.999816e+14    5.790484e+06        1.000000     115.000000   \n",
       "\n",
       "       Patient_Scholarship  Patient_Hypertension  Patient_Diabetes  \\\n",
       "count        110527.000000         110527.000000     110527.000000   \n",
       "mean              0.098266              0.197246          0.071865   \n",
       "std               0.297675              0.397921          0.258265   \n",
       "min               0.000000              0.000000          0.000000   \n",
       "25%               0.000000              0.000000          0.000000   \n",
       "50%               0.000000              0.000000          0.000000   \n",
       "75%               0.000000              0.000000          0.000000   \n",
       "max               1.000000              1.000000          1.000000   \n",
       "\n",
       "       Patient_Alcoholism  Patient_Handicap   SMS_Received        No_Show  \\\n",
       "count       110527.000000     110527.000000  110527.000000  110527.000000   \n",
       "mean             0.030400          0.022248       0.321026       0.201933   \n",
       "std              0.171686          0.161543       0.466873       0.401444   \n",
       "min              0.000000          0.000000       0.000000       0.000000   \n",
       "25%              0.000000          0.000000       0.000000       0.000000   \n",
       "50%              0.000000          0.000000       0.000000       0.000000   \n",
       "75%              0.000000          0.000000       1.000000       0.000000   \n",
       "max              1.000000          4.000000       1.000000       1.000000   \n",
       "\n",
       "       Appointment_Scheduled_Year  Appointment_Scheduled_Month  \\\n",
       "count               110527.000000                110527.000000   \n",
       "mean                  2015.999439                     4.823871   \n",
       "std                      0.023678                     0.715801   \n",
       "min                   2015.000000                     1.000000   \n",
       "25%                   2016.000000                     4.000000   \n",
       "50%                   2016.000000                     5.000000   \n",
       "75%                   2016.000000                     5.000000   \n",
       "max                   2016.000000                    12.000000   \n",
       "\n",
       "       Appointment_Scheduled_Day  Appointment_Scheduled_Hour  \\\n",
       "count              110527.000000               110527.000000   \n",
       "mean                   14.252228                   10.774517   \n",
       "std                     9.345629                    3.216189   \n",
       "min                     1.000000                    6.000000   \n",
       "25%                     6.000000                    8.000000   \n",
       "50%                    13.000000                   10.000000   \n",
       "75%                    22.000000                   13.000000   \n",
       "max                    31.000000                   21.000000   \n",
       "\n",
       "       Appointment_Scheduled_Minute  Appointment_Scheduled_Second  \\\n",
       "count                 110527.000000                 110527.000000   \n",
       "mean                      28.997955                     29.529445   \n",
       "std                       17.253733                     17.274916   \n",
       "min                        0.000000                      0.000000   \n",
       "25%                       14.000000                     15.000000   \n",
       "50%                       29.000000                     30.000000   \n",
       "75%                       44.000000                     44.000000   \n",
       "max                       59.000000                     59.000000   \n",
       "\n",
       "       Appointment_Date_Year  Appointment_Date_Month  Appointment_Date_Day  \n",
       "count               110527.0           110527.000000         110527.000000  \n",
       "mean                  2016.0                5.210048             12.499398  \n",
       "std                      0.0                0.473780              9.056482  \n",
       "min                   2016.0                4.000000              1.000000  \n",
       "25%                   2016.0                5.000000              5.000000  \n",
       "50%                   2016.0                5.000000             10.000000  \n",
       "75%                   2016.0                5.000000             19.000000  \n",
       "max                   2016.0                6.000000             31.000000  "
      ]
     },
     "execution_count": 6,
     "metadata": {},
     "output_type": "execute_result"
    }
   ],
   "source": [
    "raw_data.describe()"
   ]
  },
  {
   "cell_type": "code",
   "execution_count": 7,
   "metadata": {},
   "outputs": [
    {
     "data": {
      "image/png": "[encoded data removed]",
      "text/plain": [
       "<matplotlib.figure.Figure at 0x17abc1287b8>"
      ]
     },
     "metadata": {},
     "output_type": "display_data"
    }
   ],
   "source": [
    "raw_data[['Patient_Age']].boxplot()\n",
    "plt.show()"
   ]
  },
  {
   "cell_type": "code",
   "execution_count": 34,
   "metadata": {},
   "outputs": [
    {
     "data": {
      "image/png": "[encoded data removed]",
      "text/plain": [
       "<matplotlib.figure.Figure at 0x17abcc2acc0>"
      ]
     },
     "metadata": {},
     "output_type": "display_data"
    }
   ],
   "source": [
    "plt.hist(raw_data.Patient_Age, bins= len(raw_data.Patient_Age.unique()))\n",
    "plt.show()"
   ]
  },
  {
   "cell_type": "code",
   "execution_count": 48,
   "metadata": {},
   "outputs": [
    {
     "data": {
      "text/plain": [
       "count    110519.000000\n",
       "mean         37.084519\n",
       "std          23.103165\n",
       "min           0.000000\n",
       "25%          18.000000\n",
       "50%          37.000000\n",
       "75%          55.000000\n",
       "max         100.000000\n",
       "Name: Patient_Age, dtype: float64"
      ]
     },
     "execution_count": 48,
     "metadata": {},
     "output_type": "execute_result"
    }
   ],
   "source": [
    "raw_data = raw_data.drop(raw_data.index[raw_data.Patient_Age < 0])\n",
    "raw_data = raw_data.drop(raw_data.index[raw_data.Patient_Age > 100])\n",
    "raw_data.Patient_Age.describe()"
   ]
  },
  {
   "cell_type": "code",
   "execution_count": 112,
   "metadata": {},
   "outputs": [],
   "source": [
    "raw_data.to_csv('Cleanned_MA.csv', encoding='utf-8', index= False)\n"
   ]
  },
  {
   "cell_type": "markdown",
   "metadata": {},
   "source": [
    "### Feature engineering\n",
    "Here we will focus on creating new features. Let us start by loading our cleaned data"
   ]
  },
  {
   "cell_type": "code",
   "execution_count": 12,
   "metadata": {},
   "outputs": [
    {
     "name": "stdout",
     "output_type": "stream",
     "text": [
      "<class 'pandas.core.frame.DataFrame'>\n",
      "RangeIndex: 110519 entries, 0 to 110518\n",
      "Data columns (total 23 columns):\n",
      "Patient_ID                      110519 non-null float64\n",
      "Appointment_ID                  110519 non-null int64\n",
      "Patient_Gender                  110519 non-null int64\n",
      "Appointment_ScheduledDate       110519 non-null object\n",
      "Appointment_Date                110519 non-null object\n",
      "Patient_Age                     110519 non-null int64\n",
      "Patient_Neighbourhood           110519 non-null object\n",
      "Patient_Scholarship             110519 non-null int64\n",
      "Patient_Hypertension            110519 non-null int64\n",
      "Patient_Diabetes                110519 non-null int64\n",
      "Patient_Alcoholism              110519 non-null int64\n",
      "Patient_Handicap                110519 non-null int64\n",
      "SMS_Received                    110519 non-null int64\n",
      "No_Show                         110519 non-null int64\n",
      "Appointment_Scheduled_Year      110519 non-null int64\n",
      "Appointment_Scheduled_Month     110519 non-null int64\n",
      "Appointment_Scheduled_Day       110519 non-null int64\n",
      "Appointment_Scheduled_Hour      110519 non-null int64\n",
      "Appointment_Scheduled_Minute    110519 non-null int64\n",
      "Appointment_Scheduled_Second    110519 non-null int64\n",
      "Appointment_Date_Year           110519 non-null int64\n",
      "Appointment_Date_Month          110519 non-null int64\n",
      "Appointment_Date_Day            110519 non-null int64\n",
      "dtypes: float64(1), int64(19), object(3)\n",
      "memory usage: 19.4+ MB\n"
     ]
    }
   ],
   "source": [
    "data = pd.read_csv('Cleanned_MA.csv', encoding= 'utf-8')\n",
    "data.info()"
   ]
  },
  {
   "cell_type": "markdown",
   "metadata": {},
   "source": [
    "#### 1. Elapsed time:\n",
    "Let us compute the elapsed time feature as the number of days between booking an appointment and the actual appointment. Low elapsed time can indicate an urgency from the patient while high elapsed time can indicate a routine check up"
   ]
  },
  {
   "cell_type": "code",
   "execution_count": 13,
   "metadata": {},
   "outputs": [
    {
     "data": {
      "image/png": "[encoded data removed]",
      "text/plain": [
       "<matplotlib.figure.Figure at 0x24e3ddbde48>"
      ]
     },
     "metadata": {},
     "output_type": "display_data"
    }
   ],
   "source": [
    "data['Appointment_ScheduledDate'] = pd.to_datetime(data['Appointment_ScheduledDate'])\n",
    "data['Appointment_Date'] = pd.to_datetime(data['Appointment_Date'])\n",
    "data['Appointment_ElapsedTime'] = data['Appointment_ScheduledDate'] - data['Appointment_Date']\n",
    "data['Appointment_ElapsedTime'] = data['Appointment_ElapsedTime'].apply(lambda x: abs(x.days))\n",
    "\n",
    "plt.hist(data.Appointment_ElapsedTime, bins= len(data.Appointment_ElapsedTime.unique()))\n",
    "plt.show()\n"
   ]
  },
  {
   "cell_type": "markdown",
   "metadata": {},
   "source": [
    "#### 2. Day of the week\n",
    "The day of the week can have an important impact on the show up ratio since it is more convinient to attend a doctor's appoitnment on a Saturday than during week days due to other obligation such as school or work"
   ]
  },
  {
   "cell_type": "code",
   "execution_count": 14,
   "metadata": {},
   "outputs": [
    {
     "name": "stdout",
     "output_type": "stream",
     "text": [
      "<class 'pandas.core.frame.DataFrame'>\n",
      "RangeIndex: 110519 entries, 0 to 110518\n",
      "Data columns (total 31 columns):\n",
      "Patient_ID                      110519 non-null float64\n",
      "Appointment_ID                  110519 non-null int64\n",
      "Patient_Gender                  110519 non-null int64\n",
      "Appointment_ScheduledDate       110519 non-null datetime64[ns]\n",
      "Appointment_Date                110519 non-null datetime64[ns]\n",
      "Patient_Age                     110519 non-null int64\n",
      "Patient_Neighbourhood           110519 non-null object\n",
      "Patient_Scholarship             110519 non-null int64\n",
      "Patient_Hypertension            110519 non-null int64\n",
      "Patient_Diabetes                110519 non-null int64\n",
      "Patient_Alcoholism              110519 non-null int64\n",
      "Patient_Handicap                110519 non-null int64\n",
      "SMS_Received                    110519 non-null int64\n",
      "No_Show                         110519 non-null int64\n",
      "Appointment_Scheduled_Year      110519 non-null int64\n",
      "Appointment_Scheduled_Month     110519 non-null int64\n",
      "Appointment_Scheduled_Day       110519 non-null int64\n",
      "Appointment_Scheduled_Hour      110519 non-null int64\n",
      "Appointment_Scheduled_Minute    110519 non-null int64\n",
      "Appointment_Scheduled_Second    110519 non-null int64\n",
      "Appointment_Date_Year           110519 non-null int64\n",
      "Appointment_Date_Month          110519 non-null int64\n",
      "Appointment_Date_Day            110519 non-null int64\n",
      "Appointment_ElapsedTime         110519 non-null int64\n",
      "Appointment_DayOfWeek           110519 non-null int64\n",
      "Monday                          110519 non-null uint8\n",
      "Tuesday                         110519 non-null uint8\n",
      "Wednesday                       110519 non-null uint8\n",
      "Thursday                        110519 non-null uint8\n",
      "Friday                          110519 non-null uint8\n",
      "Saturday                        110519 non-null uint8\n",
      "dtypes: datetime64[ns](2), float64(1), int64(21), object(1), uint8(6)\n",
      "memory usage: 21.7+ MB\n"
     ]
    }
   ],
   "source": [
    "data['Appointment_DayOfWeek'] = data['Appointment_Date'].dt.dayofweek\n",
    "days = pd.get_dummies(data['Appointment_DayOfWeek'])\n",
    "\n",
    "days_of_week_names = ['Monday', 'Tuesday', 'Wednesday', 'Thursday', 'Friday', 'Saturday']\n",
    "days.columns= days_of_week_names\n",
    "data = data.join(days)\n",
    "data.info()"
   ]
  },
  {
   "cell_type": "code",
   "execution_count": 137,
   "metadata": {},
   "outputs": [
    {
     "ename": "KeyboardInterrupt",
     "evalue": "",
     "output_type": "error",
     "traceback": [
      "\u001b[1;31m---------------------------------------------------------------------------\u001b[0m",
      "\u001b[1;31mKeyboardInterrupt\u001b[0m                         Traceback (most recent call last)",
      "\u001b[1;32m<ipython-input-137-cdd3c3f3aaa6>\u001b[0m in \u001b[0;36m<module>\u001b[1;34m()\u001b[0m\n\u001b[1;32m----> 1\u001b[1;33m \u001b[0mdata\u001b[0m\u001b[1;33m[\u001b[0m\u001b[1;34m'Appointment_DayOfWeek'\u001b[0m\u001b[1;33m]\u001b[0m\u001b[1;33m.\u001b[0m\u001b[0mplot\u001b[0m\u001b[1;33m.\u001b[0m\u001b[0mbar\u001b[0m\u001b[1;33m(\u001b[0m\u001b[0mstacked\u001b[0m\u001b[1;33m=\u001b[0m \u001b[1;32mTrue\u001b[0m\u001b[1;33m)\u001b[0m\u001b[1;33m\u001b[0m\u001b[0m\n\u001b[0m\u001b[0;32m      2\u001b[0m \u001b[0mplt\u001b[0m\u001b[1;33m.\u001b[0m\u001b[0mshow\u001b[0m\u001b[1;33m(\u001b[0m\u001b[1;33m)\u001b[0m\u001b[1;33m\u001b[0m\u001b[0m\n",
      "\u001b[1;32m~\\Anaconda3\\lib\\site-packages\\pandas\\plotting\\_core.py\u001b[0m in \u001b[0;36mbar\u001b[1;34m(self, **kwds)\u001b[0m\n\u001b[0;32m   2532\u001b[0m         \u001b[0maxes\u001b[0m \u001b[1;33m:\u001b[0m \u001b[0mmatplotlib\u001b[0m\u001b[1;33m.\u001b[0m\u001b[0mAxesSubplot\u001b[0m \u001b[1;32mor\u001b[0m \u001b[0mnp\u001b[0m\u001b[1;33m.\u001b[0m\u001b[0marray\u001b[0m \u001b[0mof\u001b[0m \u001b[0mthem\u001b[0m\u001b[1;33m\u001b[0m\u001b[0m\n\u001b[0;32m   2533\u001b[0m         \"\"\"\n\u001b[1;32m-> 2534\u001b[1;33m         \u001b[1;32mreturn\u001b[0m \u001b[0mself\u001b[0m\u001b[1;33m(\u001b[0m\u001b[0mkind\u001b[0m\u001b[1;33m=\u001b[0m\u001b[1;34m'bar'\u001b[0m\u001b[1;33m,\u001b[0m \u001b[1;33m**\u001b[0m\u001b[0mkwds\u001b[0m\u001b[1;33m)\u001b[0m\u001b[1;33m\u001b[0m\u001b[0m\n\u001b[0m\u001b[0;32m   2535\u001b[0m \u001b[1;33m\u001b[0m\u001b[0m\n\u001b[0;32m   2536\u001b[0m     \u001b[1;32mdef\u001b[0m \u001b[0mbarh\u001b[0m\u001b[1;33m(\u001b[0m\u001b[0mself\u001b[0m\u001b[1;33m,\u001b[0m \u001b[1;33m**\u001b[0m\u001b[0mkwds\u001b[0m\u001b[1;33m)\u001b[0m\u001b[1;33m:\u001b[0m\u001b[1;33m\u001b[0m\u001b[0m\n",
      "\u001b[1;32m~\\Anaconda3\\lib\\site-packages\\pandas\\plotting\\_core.py\u001b[0m in \u001b[0;36m__call__\u001b[1;34m(self, kind, ax, figsize, use_index, title, grid, legend, style, logx, logy, loglog, xticks, yticks, xlim, ylim, rot, fontsize, colormap, table, yerr, xerr, label, secondary_y, **kwds)\u001b[0m\n\u001b[0;32m   2497\u001b[0m                            \u001b[0mcolormap\u001b[0m\u001b[1;33m=\u001b[0m\u001b[0mcolormap\u001b[0m\u001b[1;33m,\u001b[0m \u001b[0mtable\u001b[0m\u001b[1;33m=\u001b[0m\u001b[0mtable\u001b[0m\u001b[1;33m,\u001b[0m \u001b[0myerr\u001b[0m\u001b[1;33m=\u001b[0m\u001b[0myerr\u001b[0m\u001b[1;33m,\u001b[0m\u001b[1;33m\u001b[0m\u001b[0m\n\u001b[0;32m   2498\u001b[0m                            \u001b[0mxerr\u001b[0m\u001b[1;33m=\u001b[0m\u001b[0mxerr\u001b[0m\u001b[1;33m,\u001b[0m \u001b[0mlabel\u001b[0m\u001b[1;33m=\u001b[0m\u001b[0mlabel\u001b[0m\u001b[1;33m,\u001b[0m \u001b[0msecondary_y\u001b[0m\u001b[1;33m=\u001b[0m\u001b[0msecondary_y\u001b[0m\u001b[1;33m,\u001b[0m\u001b[1;33m\u001b[0m\u001b[0m\n\u001b[1;32m-> 2499\u001b[1;33m                            **kwds)\n\u001b[0m\u001b[0;32m   2500\u001b[0m     \u001b[0m__call__\u001b[0m\u001b[1;33m.\u001b[0m\u001b[0m__doc__\u001b[0m \u001b[1;33m=\u001b[0m \u001b[0mplot_series\u001b[0m\u001b[1;33m.\u001b[0m\u001b[0m__doc__\u001b[0m\u001b[1;33m\u001b[0m\u001b[0m\n\u001b[0;32m   2501\u001b[0m \u001b[1;33m\u001b[0m\u001b[0m\n",
      "\u001b[1;32m~\\Anaconda3\\lib\\site-packages\\pandas\\plotting\\_core.py\u001b[0m in \u001b[0;36mplot_series\u001b[1;34m(data, kind, ax, figsize, use_index, title, grid, legend, style, logx, logy, loglog, xticks, yticks, xlim, ylim, rot, fontsize, colormap, table, yerr, xerr, label, secondary_y, **kwds)\u001b[0m\n\u001b[0;32m   1923\u001b[0m                  \u001b[0myerr\u001b[0m\u001b[1;33m=\u001b[0m\u001b[0myerr\u001b[0m\u001b[1;33m,\u001b[0m \u001b[0mxerr\u001b[0m\u001b[1;33m=\u001b[0m\u001b[0mxerr\u001b[0m\u001b[1;33m,\u001b[0m\u001b[1;33m\u001b[0m\u001b[0m\n\u001b[0;32m   1924\u001b[0m                  \u001b[0mlabel\u001b[0m\u001b[1;33m=\u001b[0m\u001b[0mlabel\u001b[0m\u001b[1;33m,\u001b[0m \u001b[0msecondary_y\u001b[0m\u001b[1;33m=\u001b[0m\u001b[0msecondary_y\u001b[0m\u001b[1;33m,\u001b[0m\u001b[1;33m\u001b[0m\u001b[0m\n\u001b[1;32m-> 1925\u001b[1;33m                  **kwds)\n\u001b[0m\u001b[0;32m   1926\u001b[0m \u001b[1;33m\u001b[0m\u001b[0m\n\u001b[0;32m   1927\u001b[0m \u001b[1;33m\u001b[0m\u001b[0m\n",
      "\u001b[1;32m~\\Anaconda3\\lib\\site-packages\\pandas\\plotting\\_core.py\u001b[0m in \u001b[0;36m_plot\u001b[1;34m(data, x, y, subplots, ax, kind, **kwds)\u001b[0m\n\u001b[0;32m   1725\u001b[0m         \u001b[0mplot_obj\u001b[0m \u001b[1;33m=\u001b[0m \u001b[0mklass\u001b[0m\u001b[1;33m(\u001b[0m\u001b[0mdata\u001b[0m\u001b[1;33m,\u001b[0m \u001b[0msubplots\u001b[0m\u001b[1;33m=\u001b[0m\u001b[0msubplots\u001b[0m\u001b[1;33m,\u001b[0m \u001b[0max\u001b[0m\u001b[1;33m=\u001b[0m\u001b[0max\u001b[0m\u001b[1;33m,\u001b[0m \u001b[0mkind\u001b[0m\u001b[1;33m=\u001b[0m\u001b[0mkind\u001b[0m\u001b[1;33m,\u001b[0m \u001b[1;33m**\u001b[0m\u001b[0mkwds\u001b[0m\u001b[1;33m)\u001b[0m\u001b[1;33m\u001b[0m\u001b[0m\n\u001b[0;32m   1726\u001b[0m \u001b[1;33m\u001b[0m\u001b[0m\n\u001b[1;32m-> 1727\u001b[1;33m     \u001b[0mplot_obj\u001b[0m\u001b[1;33m.\u001b[0m\u001b[0mgenerate\u001b[0m\u001b[1;33m(\u001b[0m\u001b[1;33m)\u001b[0m\u001b[1;33m\u001b[0m\u001b[0m\n\u001b[0m\u001b[0;32m   1728\u001b[0m     \u001b[0mplot_obj\u001b[0m\u001b[1;33m.\u001b[0m\u001b[0mdraw\u001b[0m\u001b[1;33m(\u001b[0m\u001b[1;33m)\u001b[0m\u001b[1;33m\u001b[0m\u001b[0m\n\u001b[0;32m   1729\u001b[0m     \u001b[1;32mreturn\u001b[0m \u001b[0mplot_obj\u001b[0m\u001b[1;33m.\u001b[0m\u001b[0mresult\u001b[0m\u001b[1;33m\u001b[0m\u001b[0m\n",
      "\u001b[1;32m~\\Anaconda3\\lib\\site-packages\\pandas\\plotting\\_core.py\u001b[0m in \u001b[0;36mgenerate\u001b[1;34m(self)\u001b[0m\n\u001b[0;32m    252\u001b[0m         \u001b[0mself\u001b[0m\u001b[1;33m.\u001b[0m\u001b[0m_compute_plot_data\u001b[0m\u001b[1;33m(\u001b[0m\u001b[1;33m)\u001b[0m\u001b[1;33m\u001b[0m\u001b[0m\n\u001b[0;32m    253\u001b[0m         \u001b[0mself\u001b[0m\u001b[1;33m.\u001b[0m\u001b[0m_setup_subplots\u001b[0m\u001b[1;33m(\u001b[0m\u001b[1;33m)\u001b[0m\u001b[1;33m\u001b[0m\u001b[0m\n\u001b[1;32m--> 254\u001b[1;33m         \u001b[0mself\u001b[0m\u001b[1;33m.\u001b[0m\u001b[0m_make_plot\u001b[0m\u001b[1;33m(\u001b[0m\u001b[1;33m)\u001b[0m\u001b[1;33m\u001b[0m\u001b[0m\n\u001b[0m\u001b[0;32m    255\u001b[0m         \u001b[0mself\u001b[0m\u001b[1;33m.\u001b[0m\u001b[0m_add_table\u001b[0m\u001b[1;33m(\u001b[0m\u001b[1;33m)\u001b[0m\u001b[1;33m\u001b[0m\u001b[0m\n\u001b[0;32m    256\u001b[0m         \u001b[0mself\u001b[0m\u001b[1;33m.\u001b[0m\u001b[0m_make_legend\u001b[0m\u001b[1;33m(\u001b[0m\u001b[1;33m)\u001b[0m\u001b[1;33m\u001b[0m\u001b[0m\n",
      "\u001b[1;32m~\\Anaconda3\\lib\\site-packages\\pandas\\plotting\\_core.py\u001b[0m in \u001b[0;36m_make_plot\u001b[1;34m(self)\u001b[0m\n\u001b[0;32m   1246\u001b[0m                 rect = self._plot(ax, self.ax_pos + w, y, self.bar_width,\n\u001b[0;32m   1247\u001b[0m                                   \u001b[0mstart\u001b[0m\u001b[1;33m=\u001b[0m\u001b[0mstart\u001b[0m\u001b[1;33m,\u001b[0m \u001b[0mlabel\u001b[0m\u001b[1;33m=\u001b[0m\u001b[0mlabel\u001b[0m\u001b[1;33m,\u001b[0m\u001b[1;33m\u001b[0m\u001b[0m\n\u001b[1;32m-> 1248\u001b[1;33m                                   log=self.log, **kwds)\n\u001b[0m\u001b[0;32m   1249\u001b[0m                 \u001b[0mpos_prior\u001b[0m \u001b[1;33m=\u001b[0m \u001b[0mpos_prior\u001b[0m \u001b[1;33m+\u001b[0m \u001b[0mnp\u001b[0m\u001b[1;33m.\u001b[0m\u001b[0mwhere\u001b[0m\u001b[1;33m(\u001b[0m\u001b[0mmask\u001b[0m\u001b[1;33m,\u001b[0m \u001b[0my\u001b[0m\u001b[1;33m,\u001b[0m \u001b[1;36m0\u001b[0m\u001b[1;33m)\u001b[0m\u001b[1;33m\u001b[0m\u001b[0m\n\u001b[0;32m   1250\u001b[0m                 \u001b[0mneg_prior\u001b[0m \u001b[1;33m=\u001b[0m \u001b[0mneg_prior\u001b[0m \u001b[1;33m+\u001b[0m \u001b[0mnp\u001b[0m\u001b[1;33m.\u001b[0m\u001b[0mwhere\u001b[0m\u001b[1;33m(\u001b[0m\u001b[0mmask\u001b[0m\u001b[1;33m,\u001b[0m \u001b[1;36m0\u001b[0m\u001b[1;33m,\u001b[0m \u001b[0my\u001b[0m\u001b[1;33m)\u001b[0m\u001b[1;33m\u001b[0m\u001b[0m\n",
      "\u001b[1;32m~\\Anaconda3\\lib\\site-packages\\pandas\\plotting\\_core.py\u001b[0m in \u001b[0;36m_plot\u001b[1;34m(cls, ax, x, y, w, start, log, **kwds)\u001b[0m\n\u001b[0;32m   1197\u001b[0m     \u001b[1;33m@\u001b[0m\u001b[0mclassmethod\u001b[0m\u001b[1;33m\u001b[0m\u001b[0m\n\u001b[0;32m   1198\u001b[0m     \u001b[1;32mdef\u001b[0m \u001b[0m_plot\u001b[0m\u001b[1;33m(\u001b[0m\u001b[0mcls\u001b[0m\u001b[1;33m,\u001b[0m \u001b[0max\u001b[0m\u001b[1;33m,\u001b[0m \u001b[0mx\u001b[0m\u001b[1;33m,\u001b[0m \u001b[0my\u001b[0m\u001b[1;33m,\u001b[0m \u001b[0mw\u001b[0m\u001b[1;33m,\u001b[0m \u001b[0mstart\u001b[0m\u001b[1;33m=\u001b[0m\u001b[1;36m0\u001b[0m\u001b[1;33m,\u001b[0m \u001b[0mlog\u001b[0m\u001b[1;33m=\u001b[0m\u001b[1;32mFalse\u001b[0m\u001b[1;33m,\u001b[0m \u001b[1;33m**\u001b[0m\u001b[0mkwds\u001b[0m\u001b[1;33m)\u001b[0m\u001b[1;33m:\u001b[0m\u001b[1;33m\u001b[0m\u001b[0m\n\u001b[1;32m-> 1199\u001b[1;33m         \u001b[1;32mreturn\u001b[0m \u001b[0max\u001b[0m\u001b[1;33m.\u001b[0m\u001b[0mbar\u001b[0m\u001b[1;33m(\u001b[0m\u001b[0mx\u001b[0m\u001b[1;33m,\u001b[0m \u001b[0my\u001b[0m\u001b[1;33m,\u001b[0m \u001b[0mw\u001b[0m\u001b[1;33m,\u001b[0m \u001b[0mbottom\u001b[0m\u001b[1;33m=\u001b[0m\u001b[0mstart\u001b[0m\u001b[1;33m,\u001b[0m \u001b[0mlog\u001b[0m\u001b[1;33m=\u001b[0m\u001b[0mlog\u001b[0m\u001b[1;33m,\u001b[0m \u001b[1;33m**\u001b[0m\u001b[0mkwds\u001b[0m\u001b[1;33m)\u001b[0m\u001b[1;33m\u001b[0m\u001b[0m\n\u001b[0m\u001b[0;32m   1200\u001b[0m \u001b[1;33m\u001b[0m\u001b[0m\n\u001b[0;32m   1201\u001b[0m     \u001b[1;33m@\u001b[0m\u001b[0mproperty\u001b[0m\u001b[1;33m\u001b[0m\u001b[0m\n",
      "\u001b[1;32m~\\Anaconda3\\lib\\site-packages\\matplotlib\\__init__.py\u001b[0m in \u001b[0;36minner\u001b[1;34m(ax, *args, **kwargs)\u001b[0m\n\u001b[0;32m   1896\u001b[0m                     warnings.warn(msg % (label_namer, func.__name__),\n\u001b[0;32m   1897\u001b[0m                                   RuntimeWarning, stacklevel=2)\n\u001b[1;32m-> 1898\u001b[1;33m             \u001b[1;32mreturn\u001b[0m \u001b[0mfunc\u001b[0m\u001b[1;33m(\u001b[0m\u001b[0max\u001b[0m\u001b[1;33m,\u001b[0m \u001b[1;33m*\u001b[0m\u001b[0margs\u001b[0m\u001b[1;33m,\u001b[0m \u001b[1;33m**\u001b[0m\u001b[0mkwargs\u001b[0m\u001b[1;33m)\u001b[0m\u001b[1;33m\u001b[0m\u001b[0m\n\u001b[0m\u001b[0;32m   1899\u001b[0m         \u001b[0mpre_doc\u001b[0m \u001b[1;33m=\u001b[0m \u001b[0minner\u001b[0m\u001b[1;33m.\u001b[0m\u001b[0m__doc__\u001b[0m\u001b[1;33m\u001b[0m\u001b[0m\n\u001b[0;32m   1900\u001b[0m         \u001b[1;32mif\u001b[0m \u001b[0mpre_doc\u001b[0m \u001b[1;32mis\u001b[0m \u001b[1;32mNone\u001b[0m\u001b[1;33m:\u001b[0m\u001b[1;33m\u001b[0m\u001b[0m\n",
      "\u001b[1;32m~\\Anaconda3\\lib\\site-packages\\matplotlib\\axes\\_axes.py\u001b[0m in \u001b[0;36mbar\u001b[1;34m(self, left, height, width, bottom, **kwargs)\u001b[0m\n\u001b[0;32m   2126\u001b[0m             \u001b[1;32melif\u001b[0m \u001b[0morientation\u001b[0m \u001b[1;33m==\u001b[0m \u001b[1;34m'horizontal'\u001b[0m\u001b[1;33m:\u001b[0m\u001b[1;33m\u001b[0m\u001b[0m\n\u001b[0;32m   2127\u001b[0m                 \u001b[0mr\u001b[0m\u001b[1;33m.\u001b[0m\u001b[0msticky_edges\u001b[0m\u001b[1;33m.\u001b[0m\u001b[0mx\u001b[0m\u001b[1;33m.\u001b[0m\u001b[0mappend\u001b[0m\u001b[1;33m(\u001b[0m\u001b[0ml\u001b[0m\u001b[1;33m)\u001b[0m\u001b[1;33m\u001b[0m\u001b[0m\n\u001b[1;32m-> 2128\u001b[1;33m             \u001b[0mself\u001b[0m\u001b[1;33m.\u001b[0m\u001b[0madd_patch\u001b[0m\u001b[1;33m(\u001b[0m\u001b[0mr\u001b[0m\u001b[1;33m)\u001b[0m\u001b[1;33m\u001b[0m\u001b[0m\n\u001b[0m\u001b[0;32m   2129\u001b[0m             \u001b[0mpatches\u001b[0m\u001b[1;33m.\u001b[0m\u001b[0mappend\u001b[0m\u001b[1;33m(\u001b[0m\u001b[0mr\u001b[0m\u001b[1;33m)\u001b[0m\u001b[1;33m\u001b[0m\u001b[0m\n\u001b[0;32m   2130\u001b[0m \u001b[1;33m\u001b[0m\u001b[0m\n",
      "\u001b[1;32m~\\Anaconda3\\lib\\site-packages\\matplotlib\\axes\\_base.py\u001b[0m in \u001b[0;36madd_patch\u001b[1;34m(self, p)\u001b[0m\n\u001b[0;32m   1866\u001b[0m         \u001b[1;32mif\u001b[0m \u001b[0mp\u001b[0m\u001b[1;33m.\u001b[0m\u001b[0mget_clip_path\u001b[0m\u001b[1;33m(\u001b[0m\u001b[1;33m)\u001b[0m \u001b[1;32mis\u001b[0m \u001b[1;32mNone\u001b[0m\u001b[1;33m:\u001b[0m\u001b[1;33m\u001b[0m\u001b[0m\n\u001b[0;32m   1867\u001b[0m             \u001b[0mp\u001b[0m\u001b[1;33m.\u001b[0m\u001b[0mset_clip_path\u001b[0m\u001b[1;33m(\u001b[0m\u001b[0mself\u001b[0m\u001b[1;33m.\u001b[0m\u001b[0mpatch\u001b[0m\u001b[1;33m)\u001b[0m\u001b[1;33m\u001b[0m\u001b[0m\n\u001b[1;32m-> 1868\u001b[1;33m         \u001b[0mself\u001b[0m\u001b[1;33m.\u001b[0m\u001b[0m_update_patch_limits\u001b[0m\u001b[1;33m(\u001b[0m\u001b[0mp\u001b[0m\u001b[1;33m)\u001b[0m\u001b[1;33m\u001b[0m\u001b[0m\n\u001b[0m\u001b[0;32m   1869\u001b[0m         \u001b[0mself\u001b[0m\u001b[1;33m.\u001b[0m\u001b[0mpatches\u001b[0m\u001b[1;33m.\u001b[0m\u001b[0mappend\u001b[0m\u001b[1;33m(\u001b[0m\u001b[0mp\u001b[0m\u001b[1;33m)\u001b[0m\u001b[1;33m\u001b[0m\u001b[0m\n\u001b[0;32m   1870\u001b[0m         \u001b[0mp\u001b[0m\u001b[1;33m.\u001b[0m\u001b[0m_remove_method\u001b[0m \u001b[1;33m=\u001b[0m \u001b[1;32mlambda\u001b[0m \u001b[0mh\u001b[0m\u001b[1;33m:\u001b[0m \u001b[0mself\u001b[0m\u001b[1;33m.\u001b[0m\u001b[0mpatches\u001b[0m\u001b[1;33m.\u001b[0m\u001b[0mremove\u001b[0m\u001b[1;33m(\u001b[0m\u001b[0mh\u001b[0m\u001b[1;33m)\u001b[0m\u001b[1;33m\u001b[0m\u001b[0m\n",
      "\u001b[1;32m~\\Anaconda3\\lib\\site-packages\\matplotlib\\axes\\_base.py\u001b[0m in \u001b[0;36m_update_patch_limits\u001b[1;34m(self, patch)\u001b[0m\n\u001b[0;32m   1892\u001b[0m                 \u001b[0mxys\u001b[0m \u001b[1;33m=\u001b[0m \u001b[0mpatch_to_data\u001b[0m\u001b[1;33m.\u001b[0m\u001b[0mtransform\u001b[0m\u001b[1;33m(\u001b[0m\u001b[0mxys\u001b[0m\u001b[1;33m)\u001b[0m\u001b[1;33m\u001b[0m\u001b[0m\n\u001b[0;32m   1893\u001b[0m \u001b[1;33m\u001b[0m\u001b[0m\n\u001b[1;32m-> 1894\u001b[1;33m             \u001b[0mupdatex\u001b[0m\u001b[1;33m,\u001b[0m \u001b[0mupdatey\u001b[0m \u001b[1;33m=\u001b[0m \u001b[0mpatch\u001b[0m\u001b[1;33m.\u001b[0m\u001b[0mget_transform\u001b[0m\u001b[1;33m(\u001b[0m\u001b[1;33m)\u001b[0m\u001b[1;33m.\u001b[0m\u001b[0;31m\\\u001b[0m\u001b[1;33m\u001b[0m\u001b[0m\n\u001b[0m\u001b[0;32m   1895\u001b[0m                 \u001b[0mcontains_branch_seperately\u001b[0m\u001b[1;33m(\u001b[0m\u001b[0mself\u001b[0m\u001b[1;33m.\u001b[0m\u001b[0mtransData\u001b[0m\u001b[1;33m)\u001b[0m\u001b[1;33m\u001b[0m\u001b[0m\n\u001b[0;32m   1896\u001b[0m             self.update_datalim(xys, updatex=updatex,\n",
      "\u001b[1;32m~\\Anaconda3\\lib\\site-packages\\matplotlib\\patches.py\u001b[0m in \u001b[0;36mget_transform\u001b[1;34m(self)\u001b[0m\n\u001b[0;32m    219\u001b[0m         \u001b[0mto\u001b[0m \u001b[0mthe\u001b[0m \u001b[1;33m:\u001b[0m\u001b[1;32mclass\u001b[0m\u001b[1;33m:\u001b[0m\u001b[0;31m`\u001b[0m\u001b[0mPatch\u001b[0m\u001b[0;31m`\u001b[0m\u001b[1;33m.\u001b[0m\u001b[1;33m\u001b[0m\u001b[0m\n\u001b[0;32m    220\u001b[0m         \"\"\"\n\u001b[1;32m--> 221\u001b[1;33m         \u001b[1;32mreturn\u001b[0m \u001b[0mself\u001b[0m\u001b[1;33m.\u001b[0m\u001b[0mget_patch_transform\u001b[0m\u001b[1;33m(\u001b[0m\u001b[1;33m)\u001b[0m \u001b[1;33m+\u001b[0m \u001b[0martist\u001b[0m\u001b[1;33m.\u001b[0m\u001b[0mArtist\u001b[0m\u001b[1;33m.\u001b[0m\u001b[0mget_transform\u001b[0m\u001b[1;33m(\u001b[0m\u001b[0mself\u001b[0m\u001b[1;33m)\u001b[0m\u001b[1;33m\u001b[0m\u001b[0m\n\u001b[0m\u001b[0;32m    222\u001b[0m \u001b[1;33m\u001b[0m\u001b[0m\n\u001b[0;32m    223\u001b[0m     \u001b[1;32mdef\u001b[0m \u001b[0mget_data_transform\u001b[0m\u001b[1;33m(\u001b[0m\u001b[0mself\u001b[0m\u001b[1;33m)\u001b[0m\u001b[1;33m:\u001b[0m\u001b[1;33m\u001b[0m\u001b[0m\n",
      "\u001b[1;32m~\\Anaconda3\\lib\\site-packages\\matplotlib\\patches.py\u001b[0m in \u001b[0;36mget_patch_transform\u001b[1;34m(self)\u001b[0m\n\u001b[0;32m    719\u001b[0m \u001b[1;33m\u001b[0m\u001b[0m\n\u001b[0;32m    720\u001b[0m     \u001b[1;32mdef\u001b[0m \u001b[0mget_patch_transform\u001b[0m\u001b[1;33m(\u001b[0m\u001b[0mself\u001b[0m\u001b[1;33m)\u001b[0m\u001b[1;33m:\u001b[0m\u001b[1;33m\u001b[0m\u001b[0m\n\u001b[1;32m--> 721\u001b[1;33m         \u001b[0mself\u001b[0m\u001b[1;33m.\u001b[0m\u001b[0m_update_patch_transform\u001b[0m\u001b[1;33m(\u001b[0m\u001b[1;33m)\u001b[0m\u001b[1;33m\u001b[0m\u001b[0m\n\u001b[0m\u001b[0;32m    722\u001b[0m         \u001b[1;32mreturn\u001b[0m \u001b[0mself\u001b[0m\u001b[1;33m.\u001b[0m\u001b[0m_rect_transform\u001b[0m\u001b[1;33m\u001b[0m\u001b[0m\n\u001b[0;32m    723\u001b[0m \u001b[1;33m\u001b[0m\u001b[0m\n",
      "\u001b[1;32m~\\Anaconda3\\lib\\site-packages\\matplotlib\\patches.py\u001b[0m in \u001b[0;36m_update_patch_transform\u001b[1;34m(self)\u001b[0m\n\u001b[0;32m    714\u001b[0m         \u001b[0mbbox\u001b[0m \u001b[1;33m=\u001b[0m \u001b[0mtransforms\u001b[0m\u001b[1;33m.\u001b[0m\u001b[0mBbox\u001b[0m\u001b[1;33m.\u001b[0m\u001b[0mfrom_bounds\u001b[0m\u001b[1;33m(\u001b[0m\u001b[0mx\u001b[0m\u001b[1;33m,\u001b[0m \u001b[0my\u001b[0m\u001b[1;33m,\u001b[0m \u001b[0mwidth\u001b[0m\u001b[1;33m,\u001b[0m \u001b[0mheight\u001b[0m\u001b[1;33m)\u001b[0m\u001b[1;33m\u001b[0m\u001b[0m\n\u001b[0;32m    715\u001b[0m         \u001b[0mrot_trans\u001b[0m \u001b[1;33m=\u001b[0m \u001b[0mtransforms\u001b[0m\u001b[1;33m.\u001b[0m\u001b[0mAffine2D\u001b[0m\u001b[1;33m(\u001b[0m\u001b[1;33m)\u001b[0m\u001b[1;33m\u001b[0m\u001b[0m\n\u001b[1;32m--> 716\u001b[1;33m         \u001b[0mrot_trans\u001b[0m\u001b[1;33m.\u001b[0m\u001b[0mrotate_deg_around\u001b[0m\u001b[1;33m(\u001b[0m\u001b[0mx\u001b[0m\u001b[1;33m,\u001b[0m \u001b[0my\u001b[0m\u001b[1;33m,\u001b[0m \u001b[0mself\u001b[0m\u001b[1;33m.\u001b[0m\u001b[0m_angle\u001b[0m\u001b[1;33m)\u001b[0m\u001b[1;33m\u001b[0m\u001b[0m\n\u001b[0m\u001b[0;32m    717\u001b[0m         \u001b[0mself\u001b[0m\u001b[1;33m.\u001b[0m\u001b[0m_rect_transform\u001b[0m \u001b[1;33m=\u001b[0m \u001b[0mtransforms\u001b[0m\u001b[1;33m.\u001b[0m\u001b[0mBboxTransformTo\u001b[0m\u001b[1;33m(\u001b[0m\u001b[0mbbox\u001b[0m\u001b[1;33m)\u001b[0m\u001b[1;33m\u001b[0m\u001b[0m\n\u001b[0;32m    718\u001b[0m         \u001b[0mself\u001b[0m\u001b[1;33m.\u001b[0m\u001b[0m_rect_transform\u001b[0m \u001b[1;33m+=\u001b[0m \u001b[0mrot_trans\u001b[0m\u001b[1;33m\u001b[0m\u001b[0m\n",
      "\u001b[1;32m~\\Anaconda3\\lib\\site-packages\\matplotlib\\transforms.py\u001b[0m in \u001b[0;36mrotate_deg_around\u001b[1;34m(self, x, y, degrees)\u001b[0m\n\u001b[0;32m   1953\u001b[0m         \u001b[1;32mand\u001b[0m \u001b[1;33m:\u001b[0m\u001b[0mmeth\u001b[0m\u001b[1;33m:\u001b[0m\u001b[0;31m`\u001b[0m\u001b[0mscale\u001b[0m\u001b[0;31m`\u001b[0m\u001b[1;33m.\u001b[0m\u001b[1;33m\u001b[0m\u001b[0m\n\u001b[0;32m   1954\u001b[0m         \"\"\"\n\u001b[1;32m-> 1955\u001b[1;33m         \u001b[1;32mreturn\u001b[0m \u001b[0mself\u001b[0m\u001b[1;33m.\u001b[0m\u001b[0mtranslate\u001b[0m\u001b[1;33m(\u001b[0m\u001b[1;33m-\u001b[0m\u001b[0mx\u001b[0m\u001b[1;33m,\u001b[0m \u001b[1;33m-\u001b[0m\u001b[0my\u001b[0m\u001b[1;33m)\u001b[0m\u001b[1;33m.\u001b[0m\u001b[0mrotate_deg\u001b[0m\u001b[1;33m(\u001b[0m\u001b[0mdegrees\u001b[0m\u001b[1;33m)\u001b[0m\u001b[1;33m.\u001b[0m\u001b[0mtranslate\u001b[0m\u001b[1;33m(\u001b[0m\u001b[0mx\u001b[0m\u001b[1;33m,\u001b[0m \u001b[0my\u001b[0m\u001b[1;33m)\u001b[0m\u001b[1;33m\u001b[0m\u001b[0m\n\u001b[0m\u001b[0;32m   1956\u001b[0m \u001b[1;33m\u001b[0m\u001b[0m\n\u001b[0;32m   1957\u001b[0m     \u001b[1;32mdef\u001b[0m \u001b[0mtranslate\u001b[0m\u001b[1;33m(\u001b[0m\u001b[0mself\u001b[0m\u001b[1;33m,\u001b[0m \u001b[0mtx\u001b[0m\u001b[1;33m,\u001b[0m \u001b[0mty\u001b[0m\u001b[1;33m)\u001b[0m\u001b[1;33m:\u001b[0m\u001b[1;33m\u001b[0m\u001b[0m\n",
      "\u001b[1;32m~\\Anaconda3\\lib\\site-packages\\matplotlib\\transforms.py\u001b[0m in \u001b[0;36mtranslate\u001b[1;34m(self, tx, ty)\u001b[0m\n\u001b[0;32m   1966\u001b[0m             \u001b[1;33m[\u001b[0m\u001b[1;33m[\u001b[0m\u001b[1;36m1.0\u001b[0m\u001b[1;33m,\u001b[0m \u001b[1;36m0.0\u001b[0m\u001b[1;33m,\u001b[0m \u001b[0mtx\u001b[0m\u001b[1;33m]\u001b[0m\u001b[1;33m,\u001b[0m \u001b[1;33m[\u001b[0m\u001b[1;36m0.0\u001b[0m\u001b[1;33m,\u001b[0m \u001b[1;36m1.0\u001b[0m\u001b[1;33m,\u001b[0m \u001b[0mty\u001b[0m\u001b[1;33m]\u001b[0m\u001b[1;33m,\u001b[0m \u001b[1;33m[\u001b[0m\u001b[1;36m0.0\u001b[0m\u001b[1;33m,\u001b[0m \u001b[1;36m0.0\u001b[0m\u001b[1;33m,\u001b[0m \u001b[1;36m1.0\u001b[0m\u001b[1;33m]\u001b[0m\u001b[1;33m]\u001b[0m\u001b[1;33m,\u001b[0m\u001b[1;33m\u001b[0m\u001b[0m\n\u001b[0;32m   1967\u001b[0m             np.float_)\n\u001b[1;32m-> 1968\u001b[1;33m         \u001b[0mself\u001b[0m\u001b[1;33m.\u001b[0m\u001b[0m_mtx\u001b[0m \u001b[1;33m=\u001b[0m \u001b[0mnp\u001b[0m\u001b[1;33m.\u001b[0m\u001b[0mdot\u001b[0m\u001b[1;33m(\u001b[0m\u001b[0mtranslate_mtx\u001b[0m\u001b[1;33m,\u001b[0m \u001b[0mself\u001b[0m\u001b[1;33m.\u001b[0m\u001b[0m_mtx\u001b[0m\u001b[1;33m)\u001b[0m\u001b[1;33m\u001b[0m\u001b[0m\n\u001b[0m\u001b[0;32m   1969\u001b[0m         \u001b[0mself\u001b[0m\u001b[1;33m.\u001b[0m\u001b[0minvalidate\u001b[0m\u001b[1;33m(\u001b[0m\u001b[1;33m)\u001b[0m\u001b[1;33m\u001b[0m\u001b[0m\n\u001b[0;32m   1970\u001b[0m         \u001b[1;32mreturn\u001b[0m \u001b[0mself\u001b[0m\u001b[1;33m\u001b[0m\u001b[0m\n",
      "\u001b[1;31mKeyboardInterrupt\u001b[0m: "
     ]
    }
   ],
   "source": [
    "data['Appointment_DayOfWeek'].plot.bar(stacked= True)\n",
    "plt.show()"
   ]
  },
  {
   "cell_type": "markdown",
   "metadata": {},
   "source": [
    "#### 3. Patient no show history\n",
    "Here, we are assuming that the probability of a patient to show is impacted by his previous attendance schemes\n"
   ]
  },
  {
   "cell_type": "code",
   "execution_count": 136,
   "metadata": {},
   "outputs": [
    {
     "name": "stdout",
     "output_type": "stream",
     "text": [
      "        No_Show_per_patient  No_Show\n",
      "0                  0.000000        0\n",
      "1                  0.000000        0\n",
      "2                  0.000000        0\n",
      "3                  0.500000        0\n",
      "4                  0.000000        0\n",
      "5                  0.000000        0\n",
      "6                  1.000000        1\n",
      "7                  1.000000        1\n",
      "8                  0.000000        0\n",
      "9                  0.000000        0\n",
      "10                 0.000000        0\n",
      "11                 1.000000        1\n",
      "12                 0.000000        0\n",
      "13                 0.000000        0\n",
      "14                 0.000000        0\n",
      "15                 0.000000        0\n",
      "16                 0.000000        0\n",
      "17                 1.000000        1\n",
      "18                 0.000000        0\n",
      "19                 0.000000        0\n",
      "20                 1.000000        1\n",
      "21                 0.500000        1\n",
      "22                 1.000000        1\n",
      "23                 0.000000        0\n",
      "24                 0.000000        0\n",
      "25                 0.000000        0\n",
      "26                 0.000000        0\n",
      "27                 0.500000        0\n",
      "28                 0.000000        0\n",
      "29                 0.000000        0\n",
      "...                     ...      ...\n",
      "110489             0.000000        0\n",
      "110490             0.166667        0\n",
      "110491             0.250000        0\n",
      "110492             0.000000        0\n",
      "110493             0.000000        0\n",
      "110494             0.000000        0\n",
      "110495             0.000000        0\n",
      "110496             0.000000        0\n",
      "110497             0.142857        0\n",
      "110498             0.000000        0\n",
      "110499             0.142857        0\n",
      "110500             0.166667        0\n",
      "110501             0.000000        0\n",
      "110502             0.000000        0\n",
      "110503             0.000000        0\n",
      "110504             0.000000        0\n",
      "110505             0.000000        0\n",
      "110506             0.000000        0\n",
      "110507             0.666667        1\n",
      "110508             0.333333        1\n",
      "110509             0.000000        0\n",
      "110510             0.000000        0\n",
      "110511             0.333333        0\n",
      "110512             0.000000        0\n",
      "110513             0.500000        0\n",
      "110514             0.500000        0\n",
      "110515             0.250000        0\n",
      "110516             0.000000        0\n",
      "110517             0.000000        0\n",
      "110518             0.000000        0\n",
      "\n",
      "[110519 rows x 2 columns]\n"
     ]
    }
   ],
   "source": [
    "temp_1 = data.groupby('Patient_ID').count()\n",
    "temp_2 = data.groupby('Patient_ID').sum()\n",
    "\n",
    "no_show_per_patient = pd.DataFrame()\n",
    "no_show_per_patient['No_Show_per_patient'] = temp_2['No_Show'] / temp_1['No_Show']\n",
    "\n",
    "data['No_Show_per_patient'] = data.Patient_ID.apply(lambda x: no_show_per_patient.loc[x])\n",
    "print(data[['No_Show_per_patient', 'No_Show']])"
   ]
  },
  {
   "cell_type": "markdown",
   "metadata": {},
   "source": [
    "### Statistical analysis\n",
    "Conduct a statistical analysis on the features with a deep dive on engineered features, Age, day of the week, month, SMS received, scholarship and diseases"
   ]
  },
  {
   "cell_type": "code",
   "execution_count": 140,
   "metadata": {},
   "outputs": [
    {
     "data": {
      "image/png": "[encoded data removed]",
      "text/plain": [
       "<matplotlib.figure.Figure at 0x24e1c9f47f0>"
      ]
     },
     "metadata": {},
     "output_type": "display_data"
    }
   ],
   "source": [
    "def corrolationMap(data, columns):\n",
    "    temp = data[columns]\n",
    "    sns.heatmap(temp.corr())\n",
    "    plt.show()\n",
    "\n",
    "\n",
    "predictors = ['Patient_Age', 'Patient_Gender', 'Patient_Scholarship', 'Patient_Hypertension', 'Patient_Diabetes', \n",
    "              'Patient_Alcoholism', 'Patient_Handicap', 'SMS_Received', 'Appointment_Scheduled_Hour', 'Appointment_Date_Month',\n",
    "              'Appointment_Date_Day', 'Appointment_ElapsedTime', 'Saturday','No_Show_per_patient', 'No_Show']\n",
    "corrolationMap(data, predictors)"
   ]
  },
  {
   "cell_type": "markdown",
   "metadata": {},
   "source": [
    "The heat map above confirms our interviews with experts in the field of medicine as Hypertnesion and diabetes are correlated and they also appear to be correlated with age.\n",
    "The heat map allows us to take other valuable insight such as :\n",
    "1. SMS received is positively correlated with elapsed time (this indicated that the higher the elapsed time, the more likely to receive an SMS reminder)\n",
    "2. No show is statistically correlated with Age, Hypertension, diabetes, SMS received, Appoinment scheduled month, week day or not and elapsed time"
   ]
  },
  {
   "cell_type": "code",
   "execution_count": 34,
   "metadata": {},
   "outputs": [
    {
     "ename": "AttributeError",
     "evalue": "module 'seaborn' has no attribute 'plt'",
     "output_type": "error",
     "traceback": [
      "\u001b[1;31m---------------------------------------------------------------------------\u001b[0m",
      "\u001b[1;31mAttributeError\u001b[0m                            Traceback (most recent call last)",
      "\u001b[1;32m<ipython-input-34-ff1746d0ae87>\u001b[0m in \u001b[0;36m<module>\u001b[1;34m()\u001b[0m\n\u001b[0;32m      1\u001b[0m \u001b[0msns\u001b[0m\u001b[1;33m.\u001b[0m\u001b[0mpairplot\u001b[0m\u001b[1;33m(\u001b[0m\u001b[0mdata\u001b[0m\u001b[1;33m,\u001b[0m \u001b[0mhue\u001b[0m\u001b[1;33m=\u001b[0m\u001b[1;34m\"No_Show\"\u001b[0m\u001b[1;33m,\u001b[0m \u001b[0mvars\u001b[0m\u001b[1;33m=\u001b[0m\u001b[0mpredictors\u001b[0m\u001b[1;33m,\u001b[0m \u001b[0mmarkers\u001b[0m\u001b[1;33m=\u001b[0m\u001b[1;33m[\u001b[0m\u001b[1;34m\"o\"\u001b[0m\u001b[1;33m,\u001b[0m \u001b[1;34m\"s\"\u001b[0m\u001b[1;33m]\u001b[0m\u001b[1;33m)\u001b[0m\u001b[1;33m\u001b[0m\u001b[0m\n\u001b[1;32m----> 2\u001b[1;33m \u001b[0msns\u001b[0m\u001b[1;33m.\u001b[0m\u001b[0mplt\u001b[0m\u001b[1;33m.\u001b[0m\u001b[0mshow\u001b[0m\u001b[1;33m(\u001b[0m\u001b[1;33m)\u001b[0m\u001b[1;33m\u001b[0m\u001b[0m\n\u001b[0m",
      "\u001b[1;31mAttributeError\u001b[0m: module 'seaborn' has no attribute 'plt'"
     ]
    }
   ],
   "source": [
    "sns.pairplot(data, hue=\"No_Show\", vars=predictors, markers=[\"o\", \"s\"])\n",
    "plt.show()"
   ]
  },
  {
   "cell_type": "code",
   "execution_count": null,
   "metadata": {},
   "outputs": [],
   "source": [
    "sns.pairplot(data, hue=\"No_Show\", kind= \"reg\", vars=predictors, markers=[\"o\", \"s\"])\n",
    "plt.show()"
   ]
  },
  {
   "cell_type": "code",
   "execution_count": 33,
   "metadata": {},
   "outputs": [],
   "source": [
    "def statisticalAnalysis(data, column_to_analyze, target):\n",
    "    print('to implement')"
   ]
  },
  {
   "cell_type": "markdown",
   "metadata": {},
   "source": [
    "### Factor analysis\n",
    "Conduct a factor analysis to determine which predictors, or pair of predictors are the most important"
   ]
  },
  {
   "cell_type": "code",
   "execution_count": 32,
   "metadata": {},
   "outputs": [],
   "source": [
    "def factorAnalysis(data, columns, target, factor):\n",
    "    print('To implement')"
   ]
  },
  {
   "cell_type": "code",
   "execution_count": null,
   "metadata": {},
   "outputs": [],
   "source": []
  },
  {
   "cell_type": "markdown",
   "metadata": {},
   "source": [
    "### Building Models\n",
    "In this part, we will build and evaluate different models. Each model should have 1) model fit, use k-fold 2) ROC and confusion matrix 3) parameter tuning"
   ]
  },
  {
   "cell_type": "code",
   "execution_count": 141,
   "metadata": {},
   "outputs": [],
   "source": [
    "from sklearn.model_selection import train_test_split\n",
    "from sklearn.metrics import classification_report\n",
    "from sklearn.metrics import confusion_matrix\n",
    "from sklearn.metrics import roc_curve\n",
    "from sklearn.metrics import roc_auc_score\n",
    "from sklearn.metrics import f1_score\n",
    "from sklearn.metrics import accuracy_score\n",
    "from sklearn.model_selection import cross_val_score\n",
    "from sklearn.model_selection import cross_val_predict\n",
    "from sklearn.model_selection import cross_validate\n",
    "from sklearn.model_selection import GridSearchCV\n",
    "\n",
    "\n",
    "\n",
    "predictors = ['Patient_Age', 'Patient_Gender', 'Patient_Scholarship', 'Patient_Hypertension', 'Patient_Diabetes', \n",
    "              'Patient_Alcoholism', 'Patient_Handicap', 'SMS_Received', 'Appointment_Date_Month',\n",
    "              'Appointment_ElapsedTime', 'Saturday', 'No_Show_per_patient']\n",
    "X = data[predictors]\n",
    "y = data.No_Show\n",
    "X_train, X_test, y_train, y_test = train_test_split(X, y, test_size=0.25, random_state= 21, stratify= y)"
   ]
  },
  {
   "cell_type": "code",
   "execution_count": 142,
   "metadata": {},
   "outputs": [],
   "source": [
    "def rocPlot(modelName, y_test, y_pred_prob):\n",
    "    fpr, tpr, thresholds = roc_curve(y_test, y_pred_prob)\n",
    "    plt.plot([0, 1], [0, 1], 'k--')\n",
    "    plt.plot(fpr, tpr, label=modelName)\n",
    "    plt.xlabel('False Positive Rate')\n",
    "    plt.ylabel('True Positive Rate')\n",
    "    plt.title(modelName + ' ROC Curve')\n",
    "    plt.show();\n",
    "    print('AUC: ', roc_auc_score(y_test, y_pred_prob))"
   ]
  },
  {
   "cell_type": "code",
   "execution_count": 143,
   "metadata": {},
   "outputs": [],
   "source": [
    "import itertools\n",
    "\n",
    "def plot_confusion_matrix(cm, classes,\n",
    "                          normalize=False,\n",
    "                          title='Confusion matrix',\n",
    "                          cmap=plt.cm.Blues):\n",
    "    \"\"\"\n",
    "    This function prints and plots the confusion matrix.\n",
    "    Normalization can be applied by setting `normalize=True`.\n",
    "    \"\"\"\n",
    "    if normalize:\n",
    "        cm = cm.astype('float') / cm.sum(axis=1)[:, np.newaxis]\n",
    "        print(\"Normalized confusion matrix\")\n",
    "    else:\n",
    "        print('Confusion matrix, without normalization')\n",
    "\n",
    "    print(cm)\n",
    "\n",
    "    plt.figure()\n",
    "    plt.imshow(cm, interpolation='nearest', cmap=cmap)\n",
    "    plt.title(title)\n",
    "    plt.colorbar()\n",
    "    tick_marks = np.arange(len(classes))\n",
    "    plt.xticks(tick_marks, classes, rotation=45)\n",
    "    plt.yticks(tick_marks, classes)\n",
    "\n",
    "    fmt = '.2f' if normalize else 'd'\n",
    "    thresh = cm.max() / 2.\n",
    "    for i, j in itertools.product(range(cm.shape[0]), range(cm.shape[1])):\n",
    "        plt.text(j, i, format(cm[i, j], fmt),\n",
    "                 horizontalalignment=\"center\",\n",
    "                 color=\"white\" if cm[i, j] > thresh else \"black\")\n",
    "\n",
    "    plt.tight_layout()\n",
    "    plt.ylabel('True label')\n",
    "    plt.xlabel('Predicted label')\n",
    "    plt.show()"
   ]
  },
  {
   "cell_type": "code",
   "execution_count": 144,
   "metadata": {},
   "outputs": [],
   "source": [
    "def gridSearch(model, param_grid, cv, x, y):\n",
    "    grid = GridSearchCV(model, param_grid, cv= cv)\n",
    "    grid.fit(x, y)\n",
    "    return (grid.best_params_, grid.best_score_)"
   ]
  },
  {
   "cell_type": "code",
   "execution_count": 145,
   "metadata": {},
   "outputs": [],
   "source": [
    "def parameterTuning(name, train_accuracy, train_f1, test_accuracy, test_f1):\n",
    "    # Generate plot\n",
    "    plt.title(name +': Varying parameter')\n",
    "    ax = plt.gca()\n",
    "    ax2 = ax.twinx()\n",
    "    ax.plot(C_values, test_accuracy, label = 'Testing Accuracy')\n",
    "    ax.plot(C_values, train_accuracy, label = 'Training Accuracy')\n",
    "    ax2.plot(C_values, test_f1, label = 'Testing F1 Score', color='red')\n",
    "    ax2.plot(C_values, train_f1, label = 'Training F1 Score', color='green')\n",
    "    ax.set_xlabel('C value')\n",
    "    ax.set_ylabel('Accuracy')\n",
    "    ax2.set_ylabel('F1 Score')\n",
    "    ax.legend(loc=0)\n",
    "    ax2.legend(loc=0)\n",
    "    plt.show()"
   ]
  },
  {
   "cell_type": "markdown",
   "metadata": {},
   "source": [
    "#### Logistic regression\n"
   ]
  },
  {
   "cell_type": "code",
   "execution_count": 146,
   "metadata": {},
   "outputs": [
    {
     "name": "stdout",
     "output_type": "stream",
     "text": [
      "             precision    recall  f1-score   support\n",
      "\n",
      "          0       0.96      0.93      0.94     68533\n",
      "          1       0.71      0.82      0.76     14356\n",
      "\n",
      "avg / total       0.92      0.91      0.91     82889\n",
      "\n",
      "F1 score achieved 0.8518878153043847\n",
      "Normalized confusion matrix\n",
      "[[ 0.92803467  0.07196533]\n",
      " [ 0.17769574  0.82230426]]\n"
     ]
    },
    {
     "data": {
      "image/png": "[encoded data removed]",
      "text/plain": [
       "<matplotlib.figure.Figure at 0x24e1caa6080>"
      ]
     },
     "metadata": {},
     "output_type": "display_data"
    }
   ],
   "source": [
    "from sklearn.linear_model import LogisticRegression\n",
    "\n",
    "logreg = LogisticRegression()\n",
    "cv_scores = cross_val_predict(logreg, X_train, y_train, cv=10)\n",
    "\n",
    "report = classification_report(cv_scores, y_train)\n",
    "conf_matrix = confusion_matrix(cv_scores, y_train)\n",
    "print(report)\n",
    "print('F1 score achieved {}'.format( f1_score(cv_scores, y_train, average=\"macro\")))\n",
    "plot_confusion_matrix(conf_matrix, ['Show', 'No Show'], normalize= True)"
   ]
  },
  {
   "cell_type": "code",
   "execution_count": 147,
   "metadata": {},
   "outputs": [
    {
     "data": {
      "image/png": "[encoded data removed]",
      "text/plain": [
       "<matplotlib.figure.Figure at 0x24e58144e80>"
      ]
     },
     "metadata": {},
     "output_type": "display_data"
    },
    {
     "name": "stdout",
     "output_type": "stream",
     "text": [
      "AUC:  0.963865781039\n"
     ]
    }
   ],
   "source": [
    "from sklearn.linear_model import LogisticRegression\n",
    "\n",
    "logreg = LogisticRegression()\n",
    "\n",
    "logreg.fit(X_train, y_train)\n",
    "y_pred_prob = logreg.predict_proba(X_test)[:,1]\n",
    "rocPlot('Logistic Regression', y_test, y_pred_prob)"
   ]
  },
  {
   "cell_type": "markdown",
   "metadata": {},
   "source": [
    "So far, it seems that Logistic regression's performance is AUC: 66%, accuracy: 80% and F1 score: 46%"
   ]
  },
  {
   "cell_type": "code",
   "execution_count": 148,
   "metadata": {},
   "outputs": [
    {
     "data": {
      "image/png": "[encoded data removed]",
      "text/plain": [
       "<matplotlib.figure.Figure at 0x24e5834a208>"
      ]
     },
     "metadata": {},
     "output_type": "display_data"
    }
   ],
   "source": [
    "# Setup arrays to store train and test accuracies\n",
    "C_values = np.linspace(0.1, 5.0, num=50)\n",
    "train_accuracy = np.empty(len(C_values))\n",
    "test_accuracy = np.empty(len(C_values))\n",
    "train_f1 = np.empty(len(C_values))\n",
    "test_f1 = np.empty(len(C_values))\n",
    "\n",
    "# Loop over different values of k\n",
    "for i, k in enumerate(C_values):\n",
    "    logreg = LogisticRegression(C= k)\n",
    "    logreg.fit(X_train, y_train)\n",
    "    \n",
    "    y_pred = logreg.predict(X_train)\n",
    "    #Compute accuracy on the training set\n",
    "    train_accuracy[i] = accuracy_score(y_train, y_pred)\n",
    "    train_f1[i] = f1_score(y_train, y_pred, average=\"macro\")\n",
    "\n",
    "    y_pred = logreg.predict(X_test)\n",
    "    #Compute accuracy on the testing set\n",
    "    test_accuracy[i] = accuracy_score(y_test, y_pred)\n",
    "    test_f1[i] = f1_score(y_test, y_pred, average=\"macro\")\n",
    "\n",
    "parameterTuning('Logistic Regression', train_accuracy, train_f1, test_accuracy, test_f1)"
   ]
  },
  {
   "cell_type": "code",
   "execution_count": 149,
   "metadata": {},
   "outputs": [
    {
     "name": "stdout",
     "output_type": "stream",
     "text": [
      "Tuned Logistic Regression Parameters: {'C': 31.622776601683793}\n",
      "Best score is 0.9098070914114056\n"
     ]
    }
   ],
   "source": [
    "# Setup the hyperparameter grid\n",
    "c_space = np.logspace(-5, 8, 15)\n",
    "param_grid = {'C': c_space}\n",
    "\n",
    "# Instantiate a logistic regression classifier: logreg\n",
    "logreg = LogisticRegression()\n",
    "\n",
    "best_param, best_score = gridSearch(logreg, param_grid, 5, X_train, y_train)\n",
    "\n",
    "# Print the tuned parameters and score\n",
    "print(\"Tuned Logistic Regression Parameters: {}\".format(best_param)) \n",
    "print(\"Best score is {}\".format(best_score))"
   ]
  },
  {
   "cell_type": "code",
   "execution_count": null,
   "metadata": {},
   "outputs": [],
   "source": []
  }
 ],
 "metadata": {
  "kernelspec": {
   "display_name": "Python 3",
   "language": "python",
   "name": "python3"
  },
  "language_info": {
   "codemirror_mode": {
    "name": "ipython",
    "version": 3
   },
   "file_extension": ".py",
   "mimetype": "text/x-python",
   "name": "python",
   "nbconvert_exporter": "python",
   "pygments_lexer": "ipython3",
   "version": "3.6.2"
  }
 },
 "nbformat": 4,
 "nbformat_minor": 2
}
