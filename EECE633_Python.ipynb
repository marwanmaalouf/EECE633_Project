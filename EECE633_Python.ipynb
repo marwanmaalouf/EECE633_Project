{
 "cells": [
  {
   "cell_type": "markdown",
   "metadata": {},
   "source": [
    "## Missing Appointment at the doctor predictor\n",
    "\n",
    "Step 1: Clean the dataset`\n"
   ]
  },
  {
   "cell_type": "code",
   "execution_count": 2,
   "metadata": {
    "collapsed": true
   },
   "outputs": [
    {
     "name": "stdout",
     "output_type": "stream",
     "text": [
      "<class 'pandas.core.frame.DataFrame'>\n",
      "RangeIndex: 110527 entries, 0 to 110526\n",
      "Data columns (total 14 columns):\n",
      "Patient_ID                   110527 non-null float64\n",
      "Appointment_ID               110527 non-null int64\n",
      "Patient_Gender               110527 non-null object\n",
      "Appointment_ScheduledDate    110527 non-null object\n",
      "Appointment_Date             110527 non-null object\n",
      "Patient_Age                  110527 non-null int64\n",
      "Patient_Neighbourhood        110527 non-null object\n",
      "Patient_Scholarship          110527 non-null int64\n",
      "Patient_Hypertension         110527 non-null int64\n",
      "Patient_Diabetes             110527 non-null int64\n",
      "Patient_Alcoholism           110527 non-null int64\n",
      "Patient_Handicap             110527 non-null int64\n",
      "SMS_Received                 110527 non-null int64\n",
      "No_Show                      110527 non-null object\n",
      "dtypes: float64(1), int64(8), object(5)\n",
      "memory usage: 11.8+ MB\n"
     ]
    }
   ],
   "source": [
    "## Import libraries\n",
    "import numpy as np\n",
    "import pandas as pd\n",
    "import matplotlib.pyplot as plt\n",
    "import seaborn as sns\n",
    "\n",
    "filename = './Missed_Appointment.csv'\n",
    "raw_columns = ['Patient_ID', 'Appointment_ID', \n",
    "    'Patient_Gender', 'Appointment_ScheduledDate',\n",
    "    'Appointment_Date', 'Patient_Age', \n",
    "    'Patient_Neighbourhood', 'Patient_Scholarship',\n",
    "    'Patient_Hypertension', 'Patient_Diabetes',\n",
    "    'Patient_Alcoholism', 'Patient_Handicap',\n",
    "    'SMS_Received', 'No_Show']\n",
    "\n",
    "raw_data = pd.read_csv(filename)\n",
    "raw_data.columns = raw_columns\n",
    "raw_data.info()\n",
    "    "
   ]
  },
  {
   "cell_type": "markdown",
   "metadata": {},
   "source": [
    "### Handeling Type\n",
    "Based on this output, we can see that we do not have any missing data and that we have 5 columns of type object. We start by working on the time objects"
   ]
  },
  {
   "cell_type": "code",
   "execution_count": 4,
   "metadata": {},
   "outputs": [
    {
     "name": "stdout",
     "output_type": "stream",
     "text": [
      "<class 'pandas.core.frame.DataFrame'>\n",
      "RangeIndex: 110527 entries, 0 to 110526\n",
      "Data columns (total 23 columns):\n",
      "Patient_ID                      110527 non-null float64\n",
      "Appointment_ID                  110527 non-null int64\n",
      "Patient_Gender                  110527 non-null object\n",
      "Appointment_ScheduledDate       110527 non-null datetime64[ns]\n",
      "Appointment_Date                110527 non-null datetime64[ns]\n",
      "Patient_Age                     110527 non-null int64\n",
      "Patient_Neighbourhood           110527 non-null object\n",
      "Patient_Scholarship             110527 non-null int64\n",
      "Patient_Hypertension            110527 non-null int64\n",
      "Patient_Diabetes                110527 non-null int64\n",
      "Patient_Alcoholism              110527 non-null int64\n",
      "Patient_Handicap                110527 non-null int64\n",
      "SMS_Received                    110527 non-null int64\n",
      "No_Show                         110527 non-null object\n",
      "Appointment_Scheduled_Year      110527 non-null int64\n",
      "Appointment_Scheduled_Month     110527 non-null int64\n",
      "Appointment_Scheduled_Day       110527 non-null int64\n",
      "Appointment_Scheduled_Hour      110527 non-null int64\n",
      "Appointment_Scheduled_Minute    110527 non-null int64\n",
      "Appointment_Scheduled_Second    110527 non-null int64\n",
      "Appointment_Date_Year           110527 non-null int64\n",
      "Appointment_Date_Month          110527 non-null int64\n",
      "Appointment_Date_Day            110527 non-null int64\n",
      "dtypes: datetime64[ns](2), float64(1), int64(17), object(3)\n",
      "memory usage: 19.4+ MB\n",
      "None\n"
     ]
    }
   ],
   "source": [
    "def cleanTimeStamps(data):\n",
    "    data[['Appointment_ScheduledDate']] = data.Appointment_ScheduledDate.apply(np.datetime64)\n",
    "    data['Appointment_Scheduled_Year'] = data.Appointment_ScheduledDate.apply(lambda x: x.year)\n",
    "    data['Appointment_Scheduled_Month'] = data.Appointment_ScheduledDate.apply(lambda x: x.month)\n",
    "    data['Appointment_Scheduled_Day'] = data.Appointment_ScheduledDate.apply(lambda x: x.day)\n",
    "    data['Appointment_Scheduled_Hour'] = data.Appointment_ScheduledDate.apply(lambda x: x.hour)\n",
    "    data['Appointment_Scheduled_Minute'] = data.Appointment_ScheduledDate.apply(lambda x: x.minute)\n",
    "    data['Appointment_Scheduled_Second'] = data.Appointment_ScheduledDate.apply(lambda x: x.second)\n",
    "\n",
    "    \n",
    "    data[['Appointment_Date']] = data.Appointment_Date.apply(np.datetime64)\n",
    "    data['Appointment_Date_Year'] = data.Appointment_Date.apply(lambda x: x.year)\n",
    "    data['Appointment_Date_Month'] = data.Appointment_Date.apply(lambda x: x.month)\n",
    "    data['Appointment_Date_Day'] = data.Appointment_Date.apply(lambda x: x.day)\n",
    "    \n",
    "    print(data.info())\n",
    "    \n",
    "cleanTimeStamps(raw_data)"
   ]
  },
  {
   "cell_type": "markdown",
   "metadata": {},
   "source": [
    "### Rendering to numerical data\n",
    "In this step, we will focus on transforming our data into numerical data. Convention used:\n",
    "'No' -> 0 \n",
    "'Yes' -> 1\n",
    "'F' -> 0\n",
    "'M' -> 1"
   ]
  },
  {
   "cell_type": "code",
   "execution_count": 5,
   "metadata": {},
   "outputs": [
    {
     "name": "stdout",
     "output_type": "stream",
     "text": [
      "<class 'pandas.core.frame.DataFrame'>\n",
      "RangeIndex: 110527 entries, 0 to 110526\n",
      "Data columns (total 23 columns):\n",
      "Patient_ID                      110527 non-null float64\n",
      "Appointment_ID                  110527 non-null int64\n",
      "Patient_Gender                  110527 non-null int64\n",
      "Appointment_ScheduledDate       110527 non-null datetime64[ns]\n",
      "Appointment_Date                110527 non-null datetime64[ns]\n",
      "Patient_Age                     110527 non-null int64\n",
      "Patient_Neighbourhood           110527 non-null object\n",
      "Patient_Scholarship             110527 non-null int64\n",
      "Patient_Hypertension            110527 non-null int64\n",
      "Patient_Diabetes                110527 non-null int64\n",
      "Patient_Alcoholism              110527 non-null int64\n",
      "Patient_Handicap                110527 non-null int64\n",
      "SMS_Received                    110527 non-null int64\n",
      "No_Show                         110527 non-null int64\n",
      "Appointment_Scheduled_Year      110527 non-null int64\n",
      "Appointment_Scheduled_Month     110527 non-null int64\n",
      "Appointment_Scheduled_Day       110527 non-null int64\n",
      "Appointment_Scheduled_Hour      110527 non-null int64\n",
      "Appointment_Scheduled_Minute    110527 non-null int64\n",
      "Appointment_Scheduled_Second    110527 non-null int64\n",
      "Appointment_Date_Year           110527 non-null int64\n",
      "Appointment_Date_Month          110527 non-null int64\n",
      "Appointment_Date_Day            110527 non-null int64\n",
      "dtypes: datetime64[ns](2), float64(1), int64(19), object(1)\n",
      "memory usage: 19.4+ MB\n"
     ]
    }
   ],
   "source": [
    "## No Show target class\n",
    "raw_data['No_Show'] = raw_data.No_Show.apply(lambda x: 1 if x=='Yes' else 0)\n",
    "\n",
    "\n",
    "## Gender target class\n",
    "raw_data['Patient_Gender'] = raw_data.Patient_Gender.apply(lambda x: 1 if x=='M' else 0)\n",
    "\n",
    "raw_data.info()"
   ]
  },
  {
   "cell_type": "markdown",
   "metadata": {},
   "source": [
    "### Cleaning data:\n",
    "In this step, we will look at inconsistency in the data (e.g., outliers, min values, max values)"
   ]
  },
  {
   "cell_type": "code",
   "execution_count": 6,
   "metadata": {},
   "outputs": [
    {
     "data": {
      "text/html": [
       "<div>\n",
       "<style>\n",
       "    .dataframe thead tr:only-child th {\n",
       "        text-align: right;\n",
       "    }\n",
       "\n",
       "    .dataframe thead th {\n",
       "        text-align: left;\n",
       "    }\n",
       "\n",
       "    .dataframe tbody tr th {\n",
       "        vertical-align: top;\n",
       "    }\n",
       "</style>\n",
       "<table border=\"1\" class=\"dataframe\">\n",
       "  <thead>\n",
       "    <tr style=\"text-align: right;\">\n",
       "      <th></th>\n",
       "      <th>Patient_ID</th>\n",
       "      <th>Appointment_ID</th>\n",
       "      <th>Patient_Gender</th>\n",
       "      <th>Patient_Age</th>\n",
       "      <th>Patient_Scholarship</th>\n",
       "      <th>Patient_Hypertension</th>\n",
       "      <th>Patient_Diabetes</th>\n",
       "      <th>Patient_Alcoholism</th>\n",
       "      <th>Patient_Handicap</th>\n",
       "      <th>SMS_Received</th>\n",
       "      <th>No_Show</th>\n",
       "      <th>Appointment_Scheduled_Year</th>\n",
       "      <th>Appointment_Scheduled_Month</th>\n",
       "      <th>Appointment_Scheduled_Day</th>\n",
       "      <th>Appointment_Scheduled_Hour</th>\n",
       "      <th>Appointment_Scheduled_Minute</th>\n",
       "      <th>Appointment_Scheduled_Second</th>\n",
       "      <th>Appointment_Date_Year</th>\n",
       "      <th>Appointment_Date_Month</th>\n",
       "      <th>Appointment_Date_Day</th>\n",
       "    </tr>\n",
       "  </thead>\n",
       "  <tbody>\n",
       "    <tr>\n",
       "      <th>count</th>\n",
       "      <td>1.105270e+05</td>\n",
       "      <td>1.105270e+05</td>\n",
       "      <td>110527.000000</td>\n",
       "      <td>110527.000000</td>\n",
       "      <td>110527.000000</td>\n",
       "      <td>110527.000000</td>\n",
       "      <td>110527.000000</td>\n",
       "      <td>110527.000000</td>\n",
       "      <td>110527.000000</td>\n",
       "      <td>110527.000000</td>\n",
       "      <td>110527.000000</td>\n",
       "      <td>110527.000000</td>\n",
       "      <td>110527.000000</td>\n",
       "      <td>110527.000000</td>\n",
       "      <td>110527.000000</td>\n",
       "      <td>110527.000000</td>\n",
       "      <td>110527.000000</td>\n",
       "      <td>110527.0</td>\n",
       "      <td>110527.000000</td>\n",
       "      <td>110527.000000</td>\n",
       "    </tr>\n",
       "    <tr>\n",
       "      <th>mean</th>\n",
       "      <td>1.474963e+14</td>\n",
       "      <td>5.675305e+06</td>\n",
       "      <td>0.350023</td>\n",
       "      <td>37.088874</td>\n",
       "      <td>0.098266</td>\n",
       "      <td>0.197246</td>\n",
       "      <td>0.071865</td>\n",
       "      <td>0.030400</td>\n",
       "      <td>0.022248</td>\n",
       "      <td>0.321026</td>\n",
       "      <td>0.201933</td>\n",
       "      <td>2015.999439</td>\n",
       "      <td>4.823871</td>\n",
       "      <td>14.252228</td>\n",
       "      <td>10.774517</td>\n",
       "      <td>28.997955</td>\n",
       "      <td>29.529445</td>\n",
       "      <td>2016.0</td>\n",
       "      <td>5.210048</td>\n",
       "      <td>12.499398</td>\n",
       "    </tr>\n",
       "    <tr>\n",
       "      <th>std</th>\n",
       "      <td>2.560949e+14</td>\n",
       "      <td>7.129575e+04</td>\n",
       "      <td>0.476979</td>\n",
       "      <td>23.110205</td>\n",
       "      <td>0.297675</td>\n",
       "      <td>0.397921</td>\n",
       "      <td>0.258265</td>\n",
       "      <td>0.171686</td>\n",
       "      <td>0.161543</td>\n",
       "      <td>0.466873</td>\n",
       "      <td>0.401444</td>\n",
       "      <td>0.023678</td>\n",
       "      <td>0.715801</td>\n",
       "      <td>9.345629</td>\n",
       "      <td>3.216189</td>\n",
       "      <td>17.253733</td>\n",
       "      <td>17.274916</td>\n",
       "      <td>0.0</td>\n",
       "      <td>0.473780</td>\n",
       "      <td>9.056482</td>\n",
       "    </tr>\n",
       "    <tr>\n",
       "      <th>min</th>\n",
       "      <td>3.921784e+04</td>\n",
       "      <td>5.030230e+06</td>\n",
       "      <td>0.000000</td>\n",
       "      <td>-1.000000</td>\n",
       "      <td>0.000000</td>\n",
       "      <td>0.000000</td>\n",
       "      <td>0.000000</td>\n",
       "      <td>0.000000</td>\n",
       "      <td>0.000000</td>\n",
       "      <td>0.000000</td>\n",
       "      <td>0.000000</td>\n",
       "      <td>2015.000000</td>\n",
       "      <td>1.000000</td>\n",
       "      <td>1.000000</td>\n",
       "      <td>6.000000</td>\n",
       "      <td>0.000000</td>\n",
       "      <td>0.000000</td>\n",
       "      <td>2016.0</td>\n",
       "      <td>4.000000</td>\n",
       "      <td>1.000000</td>\n",
       "    </tr>\n",
       "    <tr>\n",
       "      <th>25%</th>\n",
       "      <td>4.172614e+12</td>\n",
       "      <td>5.640286e+06</td>\n",
       "      <td>0.000000</td>\n",
       "      <td>18.000000</td>\n",
       "      <td>0.000000</td>\n",
       "      <td>0.000000</td>\n",
       "      <td>0.000000</td>\n",
       "      <td>0.000000</td>\n",
       "      <td>0.000000</td>\n",
       "      <td>0.000000</td>\n",
       "      <td>0.000000</td>\n",
       "      <td>2016.000000</td>\n",
       "      <td>4.000000</td>\n",
       "      <td>6.000000</td>\n",
       "      <td>8.000000</td>\n",
       "      <td>14.000000</td>\n",
       "      <td>15.000000</td>\n",
       "      <td>2016.0</td>\n",
       "      <td>5.000000</td>\n",
       "      <td>5.000000</td>\n",
       "    </tr>\n",
       "    <tr>\n",
       "      <th>50%</th>\n",
       "      <td>3.173184e+13</td>\n",
       "      <td>5.680573e+06</td>\n",
       "      <td>0.000000</td>\n",
       "      <td>37.000000</td>\n",
       "      <td>0.000000</td>\n",
       "      <td>0.000000</td>\n",
       "      <td>0.000000</td>\n",
       "      <td>0.000000</td>\n",
       "      <td>0.000000</td>\n",
       "      <td>0.000000</td>\n",
       "      <td>0.000000</td>\n",
       "      <td>2016.000000</td>\n",
       "      <td>5.000000</td>\n",
       "      <td>13.000000</td>\n",
       "      <td>10.000000</td>\n",
       "      <td>29.000000</td>\n",
       "      <td>30.000000</td>\n",
       "      <td>2016.0</td>\n",
       "      <td>5.000000</td>\n",
       "      <td>10.000000</td>\n",
       "    </tr>\n",
       "    <tr>\n",
       "      <th>75%</th>\n",
       "      <td>9.439172e+13</td>\n",
       "      <td>5.725524e+06</td>\n",
       "      <td>1.000000</td>\n",
       "      <td>55.000000</td>\n",
       "      <td>0.000000</td>\n",
       "      <td>0.000000</td>\n",
       "      <td>0.000000</td>\n",
       "      <td>0.000000</td>\n",
       "      <td>0.000000</td>\n",
       "      <td>1.000000</td>\n",
       "      <td>0.000000</td>\n",
       "      <td>2016.000000</td>\n",
       "      <td>5.000000</td>\n",
       "      <td>22.000000</td>\n",
       "      <td>13.000000</td>\n",
       "      <td>44.000000</td>\n",
       "      <td>44.000000</td>\n",
       "      <td>2016.0</td>\n",
       "      <td>5.000000</td>\n",
       "      <td>19.000000</td>\n",
       "    </tr>\n",
       "    <tr>\n",
       "      <th>max</th>\n",
       "      <td>9.999816e+14</td>\n",
       "      <td>5.790484e+06</td>\n",
       "      <td>1.000000</td>\n",
       "      <td>115.000000</td>\n",
       "      <td>1.000000</td>\n",
       "      <td>1.000000</td>\n",
       "      <td>1.000000</td>\n",
       "      <td>1.000000</td>\n",
       "      <td>4.000000</td>\n",
       "      <td>1.000000</td>\n",
       "      <td>1.000000</td>\n",
       "      <td>2016.000000</td>\n",
       "      <td>12.000000</td>\n",
       "      <td>31.000000</td>\n",
       "      <td>21.000000</td>\n",
       "      <td>59.000000</td>\n",
       "      <td>59.000000</td>\n",
       "      <td>2016.0</td>\n",
       "      <td>6.000000</td>\n",
       "      <td>31.000000</td>\n",
       "    </tr>\n",
       "  </tbody>\n",
       "</table>\n",
       "</div>"
      ],
      "text/plain": [
       "         Patient_ID  Appointment_ID  Patient_Gender    Patient_Age  \\\n",
       "count  1.105270e+05    1.105270e+05   110527.000000  110527.000000   \n",
       "mean   1.474963e+14    5.675305e+06        0.350023      37.088874   \n",
       "std    2.560949e+14    7.129575e+04        0.476979      23.110205   \n",
       "min    3.921784e+04    5.030230e+06        0.000000      -1.000000   \n",
       "25%    4.172614e+12    5.640286e+06        0.000000      18.000000   \n",
       "50%    3.173184e+13    5.680573e+06        0.000000      37.000000   \n",
       "75%    9.439172e+13    5.725524e+06        1.000000      55.000000   \n",
       "max    9.999816e+14    5.790484e+06        1.000000     115.000000   \n",
       "\n",
       "       Patient_Scholarship  Patient_Hypertension  Patient_Diabetes  \\\n",
       "count        110527.000000         110527.000000     110527.000000   \n",
       "mean              0.098266              0.197246          0.071865   \n",
       "std               0.297675              0.397921          0.258265   \n",
       "min               0.000000              0.000000          0.000000   \n",
       "25%               0.000000              0.000000          0.000000   \n",
       "50%               0.000000              0.000000          0.000000   \n",
       "75%               0.000000              0.000000          0.000000   \n",
       "max               1.000000              1.000000          1.000000   \n",
       "\n",
       "       Patient_Alcoholism  Patient_Handicap   SMS_Received        No_Show  \\\n",
       "count       110527.000000     110527.000000  110527.000000  110527.000000   \n",
       "mean             0.030400          0.022248       0.321026       0.201933   \n",
       "std              0.171686          0.161543       0.466873       0.401444   \n",
       "min              0.000000          0.000000       0.000000       0.000000   \n",
       "25%              0.000000          0.000000       0.000000       0.000000   \n",
       "50%              0.000000          0.000000       0.000000       0.000000   \n",
       "75%              0.000000          0.000000       1.000000       0.000000   \n",
       "max              1.000000          4.000000       1.000000       1.000000   \n",
       "\n",
       "       Appointment_Scheduled_Year  Appointment_Scheduled_Month  \\\n",
       "count               110527.000000                110527.000000   \n",
       "mean                  2015.999439                     4.823871   \n",
       "std                      0.023678                     0.715801   \n",
       "min                   2015.000000                     1.000000   \n",
       "25%                   2016.000000                     4.000000   \n",
       "50%                   2016.000000                     5.000000   \n",
       "75%                   2016.000000                     5.000000   \n",
       "max                   2016.000000                    12.000000   \n",
       "\n",
       "       Appointment_Scheduled_Day  Appointment_Scheduled_Hour  \\\n",
       "count              110527.000000               110527.000000   \n",
       "mean                   14.252228                   10.774517   \n",
       "std                     9.345629                    3.216189   \n",
       "min                     1.000000                    6.000000   \n",
       "25%                     6.000000                    8.000000   \n",
       "50%                    13.000000                   10.000000   \n",
       "75%                    22.000000                   13.000000   \n",
       "max                    31.000000                   21.000000   \n",
       "\n",
       "       Appointment_Scheduled_Minute  Appointment_Scheduled_Second  \\\n",
       "count                 110527.000000                 110527.000000   \n",
       "mean                      28.997955                     29.529445   \n",
       "std                       17.253733                     17.274916   \n",
       "min                        0.000000                      0.000000   \n",
       "25%                       14.000000                     15.000000   \n",
       "50%                       29.000000                     30.000000   \n",
       "75%                       44.000000                     44.000000   \n",
       "max                       59.000000                     59.000000   \n",
       "\n",
       "       Appointment_Date_Year  Appointment_Date_Month  Appointment_Date_Day  \n",
       "count               110527.0           110527.000000         110527.000000  \n",
       "mean                  2016.0                5.210048             12.499398  \n",
       "std                      0.0                0.473780              9.056482  \n",
       "min                   2016.0                4.000000              1.000000  \n",
       "25%                   2016.0                5.000000              5.000000  \n",
       "50%                   2016.0                5.000000             10.000000  \n",
       "75%                   2016.0                5.000000             19.000000  \n",
       "max                   2016.0                6.000000             31.000000  "
      ]
     },
     "execution_count": 6,
     "metadata": {},
     "output_type": "execute_result"
    }
   ],
   "source": [
    "raw_data.describe()"
   ]
  },
  {
   "cell_type": "code",
   "execution_count": 7,
   "metadata": {},
   "outputs": [
    {
     "data": {
      "image/png": "[encoded data removed]",
      "text/plain": [
       "<matplotlib.figure.Figure at 0x17abc1287b8>"
      ]
     },
     "metadata": {},
     "output_type": "display_data"
    }
   ],
   "source": [
    "raw_data[['Patient_Age']].boxplot()\n",
    "plt.show()"
   ]
  },
  {
   "cell_type": "code",
   "execution_count": 34,
   "metadata": {},
   "outputs": [
    {
     "data": {
      "image/png": "[encoded data removed]",
      "text/plain": [
       "<matplotlib.figure.Figure at 0x17abcc2acc0>"
      ]
     },
     "metadata": {},
     "output_type": "display_data"
    }
   ],
   "source": [
    "plt.hist(raw_data.Patient_Age, bins= len(raw_data.Patient_Age.unique()))\n",
    "plt.show()"
   ]
  },
  {
   "cell_type": "code",
   "execution_count": 48,
   "metadata": {},
   "outputs": [
    {
     "data": {
      "text/plain": [
       "count    110519.000000\n",
       "mean         37.084519\n",
       "std          23.103165\n",
       "min           0.000000\n",
       "25%          18.000000\n",
       "50%          37.000000\n",
       "75%          55.000000\n",
       "max         100.000000\n",
       "Name: Patient_Age, dtype: float64"
      ]
     },
     "execution_count": 48,
     "metadata": {},
     "output_type": "execute_result"
    }
   ],
   "source": [
    "raw_data = raw_data.drop(raw_data.index[raw_data.Patient_Age < 0])\n",
    "raw_data = raw_data.drop(raw_data.index[raw_data.Patient_Age > 100])\n",
    "raw_data.Patient_Age.describe()"
   ]
  },
  {
   "cell_type": "code",
   "execution_count": 112,
   "metadata": {},
   "outputs": [],
   "source": [
    "raw_data.to_csv('Cleanned_MA.csv', encoding='utf-8', index= False)\n"
   ]
  },
  {
   "cell_type": "markdown",
   "metadata": {},
   "source": [
    "### Feature engineering\n",
    "Here we will focus on creating new features. Let us start by loading our cleaned data"
   ]
  },
  {
   "cell_type": "code",
   "execution_count": 4,
   "metadata": {},
   "outputs": [
    {
     "name": "stdout",
     "output_type": "stream",
     "text": [
      "<class 'pandas.core.frame.DataFrame'>\n",
      "RangeIndex: 110519 entries, 0 to 110518\n",
      "Data columns (total 23 columns):\n",
      "Patient_ID                      110519 non-null float64\n",
      "Appointment_ID                  110519 non-null int64\n",
      "Patient_Gender                  110519 non-null int64\n",
      "Appointment_ScheduledDate       110519 non-null object\n",
      "Appointment_Date                110519 non-null object\n",
      "Patient_Age                     110519 non-null int64\n",
      "Patient_Neighbourhood           110519 non-null object\n",
      "Patient_Scholarship             110519 non-null int64\n",
      "Patient_Hypertension            110519 non-null int64\n",
      "Patient_Diabetes                110519 non-null int64\n",
      "Patient_Alcoholism              110519 non-null int64\n",
      "Patient_Handicap                110519 non-null int64\n",
      "SMS_Received                    110519 non-null int64\n",
      "No_Show                         110519 non-null int64\n",
      "Appointment_Scheduled_Year      110519 non-null int64\n",
      "Appointment_Scheduled_Month     110519 non-null int64\n",
      "Appointment_Scheduled_Day       110519 non-null int64\n",
      "Appointment_Scheduled_Hour      110519 non-null int64\n",
      "Appointment_Scheduled_Minute    110519 non-null int64\n",
      "Appointment_Scheduled_Second    110519 non-null int64\n",
      "Appointment_Date_Year           110519 non-null int64\n",
      "Appointment_Date_Month          110519 non-null int64\n",
      "Appointment_Date_Day            110519 non-null int64\n",
      "dtypes: float64(1), int64(19), object(3)\n",
      "memory usage: 19.4+ MB\n"
     ]
    }
   ],
   "source": [
    "data = pd.read_csv('Cleanned_MA.csv', encoding= 'utf-8')\n",
    "data.info()"
   ]
  },
  {
   "cell_type": "markdown",
   "metadata": {},
   "source": [
    "#### 1. Elapsed time:\n",
    "Let us compute the elapsed time feature as the number of days between booking an appointment and the actual appointment. Low elapsed time can indicate an urgency from the patient while high elapsed time can indicate a routine check up"
   ]
  },
  {
   "cell_type": "code",
   "execution_count": 5,
   "metadata": {},
   "outputs": [
    {
     "data": {
      "image/png": "[encoded data removed]",
      "text/plain": [
       "<matplotlib.figure.Figure at 0x20a6dbef7f0>"
      ]
     },
     "metadata": {},
     "output_type": "display_data"
    }
   ],
   "source": [
    "data['Appointment_ScheduledDate'] = pd.to_datetime(data['Appointment_ScheduledDate'])\n",
    "data['Appointment_Date'] = pd.to_datetime(data['Appointment_Date'])\n",
    "data['Appointment_ElapsedTime'] = data['Appointment_ScheduledDate'] - data['Appointment_Date']\n",
    "data['Appointment_ElapsedTime'] = data['Appointment_ElapsedTime'].apply(lambda x: abs(x.days))\n",
    "\n",
    "plt.hist(data.Appointment_ElapsedTime, bins= len(data.Appointment_ElapsedTime.unique()))\n",
    "plt.show()\n"
   ]
  },
  {
   "cell_type": "markdown",
   "metadata": {},
   "source": [
    "#### 2. Day of the week\n",
    "The day of the week can have an important impact on the show up ratio since it is more convinient to attend a doctor's appoitnment on a Saturday than during week days due to other obligation such as school or work"
   ]
  },
  {
   "cell_type": "code",
   "execution_count": 6,
   "metadata": {},
   "outputs": [
    {
     "name": "stdout",
     "output_type": "stream",
     "text": [
      "<class 'pandas.core.frame.DataFrame'>\n",
      "RangeIndex: 110519 entries, 0 to 110518\n",
      "Data columns (total 31 columns):\n",
      "Patient_ID                      110519 non-null float64\n",
      "Appointment_ID                  110519 non-null int64\n",
      "Patient_Gender                  110519 non-null int64\n",
      "Appointment_ScheduledDate       110519 non-null datetime64[ns]\n",
      "Appointment_Date                110519 non-null datetime64[ns]\n",
      "Patient_Age                     110519 non-null int64\n",
      "Patient_Neighbourhood           110519 non-null object\n",
      "Patient_Scholarship             110519 non-null int64\n",
      "Patient_Hypertension            110519 non-null int64\n",
      "Patient_Diabetes                110519 non-null int64\n",
      "Patient_Alcoholism              110519 non-null int64\n",
      "Patient_Handicap                110519 non-null int64\n",
      "SMS_Received                    110519 non-null int64\n",
      "No_Show                         110519 non-null int64\n",
      "Appointment_Scheduled_Year      110519 non-null int64\n",
      "Appointment_Scheduled_Month     110519 non-null int64\n",
      "Appointment_Scheduled_Day       110519 non-null int64\n",
      "Appointment_Scheduled_Hour      110519 non-null int64\n",
      "Appointment_Scheduled_Minute    110519 non-null int64\n",
      "Appointment_Scheduled_Second    110519 non-null int64\n",
      "Appointment_Date_Year           110519 non-null int64\n",
      "Appointment_Date_Month          110519 non-null int64\n",
      "Appointment_Date_Day            110519 non-null int64\n",
      "Appointment_ElapsedTime         110519 non-null int64\n",
      "Appointment_DayOfWeek           110519 non-null int64\n",
      "Monday                          110519 non-null uint8\n",
      "Tuesday                         110519 non-null uint8\n",
      "Wednesday                       110519 non-null uint8\n",
      "Thursday                        110519 non-null uint8\n",
      "Friday                          110519 non-null uint8\n",
      "Saturday                        110519 non-null uint8\n",
      "dtypes: datetime64[ns](2), float64(1), int64(21), object(1), uint8(6)\n",
      "memory usage: 21.7+ MB\n"
     ]
    }
   ],
   "source": [
    "data['Appointment_DayOfWeek'] = data['Appointment_Date'].dt.dayofweek\n",
    "days = pd.get_dummies(data['Appointment_DayOfWeek'])\n",
    "\n",
    "days_of_week_names = ['Monday', 'Tuesday', 'Wednesday', 'Thursday', 'Friday', 'Saturday']\n",
    "days.columns= days_of_week_names\n",
    "data = data.join(days)\n",
    "data.info()"
   ]
  },
  {
   "cell_type": "code",
   "execution_count": null,
   "metadata": {},
   "outputs": [],
   "source": []
  },
  {
   "cell_type": "markdown",
   "metadata": {},
   "source": [
    "#### 3. Patient no show history\n",
    "Here, we are assuming that the probability of a patient to show is impacted by his previous attendance schemes\n"
   ]
  },
  {
   "cell_type": "code",
   "execution_count": 7,
   "metadata": {},
   "outputs": [
    {
     "name": "stdout",
     "output_type": "stream",
     "text": [
      "        No_Show_per_patient  No_Show\n",
      "0                  0.000000        0\n",
      "1                  0.000000        0\n",
      "2                  0.000000        0\n",
      "3                  0.500000        0\n",
      "4                  0.000000        0\n",
      "5                  0.000000        0\n",
      "6                  1.000000        1\n",
      "7                  1.000000        1\n",
      "8                  0.000000        0\n",
      "9                  0.000000        0\n",
      "10                 0.000000        0\n",
      "11                 1.000000        1\n",
      "12                 0.000000        0\n",
      "13                 0.000000        0\n",
      "14                 0.000000        0\n",
      "15                 0.000000        0\n",
      "16                 0.000000        0\n",
      "17                 1.000000        1\n",
      "18                 0.000000        0\n",
      "19                 0.000000        0\n",
      "20                 1.000000        1\n",
      "21                 0.500000        1\n",
      "22                 1.000000        1\n",
      "23                 0.000000        0\n",
      "24                 0.000000        0\n",
      "25                 0.000000        0\n",
      "26                 0.000000        0\n",
      "27                 0.500000        0\n",
      "28                 0.000000        0\n",
      "29                 0.000000        0\n",
      "...                     ...      ...\n",
      "110489             0.000000        0\n",
      "110490             0.166667        0\n",
      "110491             0.250000        0\n",
      "110492             0.000000        0\n",
      "110493             0.000000        0\n",
      "110494             0.000000        0\n",
      "110495             0.000000        0\n",
      "110496             0.000000        0\n",
      "110497             0.142857        0\n",
      "110498             0.000000        0\n",
      "110499             0.142857        0\n",
      "110500             0.166667        0\n",
      "110501             0.000000        0\n",
      "110502             0.000000        0\n",
      "110503             0.000000        0\n",
      "110504             0.000000        0\n",
      "110505             0.000000        0\n",
      "110506             0.000000        0\n",
      "110507             0.666667        1\n",
      "110508             0.333333        1\n",
      "110509             0.000000        0\n",
      "110510             0.000000        0\n",
      "110511             0.333333        0\n",
      "110512             0.000000        0\n",
      "110513             0.500000        0\n",
      "110514             0.500000        0\n",
      "110515             0.250000        0\n",
      "110516             0.000000        0\n",
      "110517             0.000000        0\n",
      "110518             0.000000        0\n",
      "\n",
      "[110519 rows x 2 columns]\n"
     ]
    }
   ],
   "source": [
    "temp_1 = data.groupby('Patient_ID').count()\n",
    "temp_2 = data.groupby('Patient_ID').sum()\n",
    "\n",
    "no_show_per_patient = pd.DataFrame()\n",
    "no_show_per_patient['No_Show_per_patient'] = temp_2['No_Show'] / temp_1['No_Show']\n",
    "\n",
    "data['No_Show_per_patient'] = data.Patient_ID.apply(lambda x: no_show_per_patient.loc[x])\n",
    "print(data[['No_Show_per_patient', 'No_Show']])"
   ]
  },
  {
   "cell_type": "code",
   "execution_count": 163,
   "metadata": {},
   "outputs": [
    {
     "ename": "KeyError",
     "evalue": "('Patient_ID', 'occurred at index Patient_ID')",
     "output_type": "error",
     "traceback": [
      "\u001b[1;31m---------------------------------------------------------------------------\u001b[0m",
      "\u001b[1;31mTypeError\u001b[0m                                 Traceback (most recent call last)",
      "\u001b[1;32mpandas/_libs/index.pyx\u001b[0m in \u001b[0;36mpandas._libs.index.IndexEngine.get_loc\u001b[1;34m()\u001b[0m\n",
      "\u001b[1;32mpandas/_libs/hashtable_class_helper.pxi\u001b[0m in \u001b[0;36mpandas._libs.hashtable.Int64HashTable.get_item\u001b[1;34m()\u001b[0m\n",
      "\u001b[1;31mTypeError\u001b[0m: an integer is required",
      "\nDuring handling of the above exception, another exception occurred:\n",
      "\u001b[1;31mKeyError\u001b[0m                                  Traceback (most recent call last)",
      "\u001b[1;32m<ipython-input-163-3185f3dc59a7>\u001b[0m in \u001b[0;36m<module>\u001b[1;34m()\u001b[0m\n\u001b[0;32m     11\u001b[0m     \u001b[1;32mreturn\u001b[0m \u001b[0mratio\u001b[0m\u001b[1;33m\u001b[0m\u001b[0m\n\u001b[0;32m     12\u001b[0m \u001b[1;33m\u001b[0m\u001b[0m\n\u001b[1;32m---> 13\u001b[1;33m \u001b[0mdata\u001b[0m\u001b[1;33m[\u001b[0m\u001b[1;34m'Ratio_Adjusted'\u001b[0m\u001b[1;33m]\u001b[0m \u001b[1;33m=\u001b[0m \u001b[0mdata\u001b[0m\u001b[1;33m.\u001b[0m\u001b[0mapply\u001b[0m\u001b[1;33m(\u001b[0m\u001b[0mgetPreviousAppointmentRatio\u001b[0m\u001b[1;33m,\u001b[0m \u001b[0maxis\u001b[0m\u001b[1;33m=\u001b[0m \u001b[1;36m0\u001b[0m\u001b[1;33m)\u001b[0m\u001b[1;33m\u001b[0m\u001b[0m\n\u001b[0m",
      "\u001b[1;32m~\\Anaconda3\\lib\\site-packages\\pandas\\core\\frame.py\u001b[0m in \u001b[0;36mapply\u001b[1;34m(self, func, axis, broadcast, raw, reduce, args, **kwds)\u001b[0m\n\u001b[0;32m   4852\u001b[0m                         \u001b[0mf\u001b[0m\u001b[1;33m,\u001b[0m \u001b[0maxis\u001b[0m\u001b[1;33m,\u001b[0m\u001b[1;33m\u001b[0m\u001b[0m\n\u001b[0;32m   4853\u001b[0m                         \u001b[0mreduce\u001b[0m\u001b[1;33m=\u001b[0m\u001b[0mreduce\u001b[0m\u001b[1;33m,\u001b[0m\u001b[1;33m\u001b[0m\u001b[0m\n\u001b[1;32m-> 4854\u001b[1;33m                         ignore_failures=ignore_failures)\n\u001b[0m\u001b[0;32m   4855\u001b[0m             \u001b[1;32melse\u001b[0m\u001b[1;33m:\u001b[0m\u001b[1;33m\u001b[0m\u001b[0m\n\u001b[0;32m   4856\u001b[0m                 \u001b[1;32mreturn\u001b[0m \u001b[0mself\u001b[0m\u001b[1;33m.\u001b[0m\u001b[0m_apply_broadcast\u001b[0m\u001b[1;33m(\u001b[0m\u001b[0mf\u001b[0m\u001b[1;33m,\u001b[0m \u001b[0maxis\u001b[0m\u001b[1;33m)\u001b[0m\u001b[1;33m\u001b[0m\u001b[0m\n",
      "\u001b[1;32m~\\Anaconda3\\lib\\site-packages\\pandas\\core\\frame.py\u001b[0m in \u001b[0;36m_apply_standard\u001b[1;34m(self, func, axis, ignore_failures, reduce)\u001b[0m\n\u001b[0;32m   4948\u001b[0m             \u001b[1;32mtry\u001b[0m\u001b[1;33m:\u001b[0m\u001b[1;33m\u001b[0m\u001b[0m\n\u001b[0;32m   4949\u001b[0m                 \u001b[1;32mfor\u001b[0m \u001b[0mi\u001b[0m\u001b[1;33m,\u001b[0m \u001b[0mv\u001b[0m \u001b[1;32min\u001b[0m \u001b[0menumerate\u001b[0m\u001b[1;33m(\u001b[0m\u001b[0mseries_gen\u001b[0m\u001b[1;33m)\u001b[0m\u001b[1;33m:\u001b[0m\u001b[1;33m\u001b[0m\u001b[0m\n\u001b[1;32m-> 4950\u001b[1;33m                     \u001b[0mresults\u001b[0m\u001b[1;33m[\u001b[0m\u001b[0mi\u001b[0m\u001b[1;33m]\u001b[0m \u001b[1;33m=\u001b[0m \u001b[0mfunc\u001b[0m\u001b[1;33m(\u001b[0m\u001b[0mv\u001b[0m\u001b[1;33m)\u001b[0m\u001b[1;33m\u001b[0m\u001b[0m\n\u001b[0m\u001b[0;32m   4951\u001b[0m                     \u001b[0mkeys\u001b[0m\u001b[1;33m.\u001b[0m\u001b[0mappend\u001b[0m\u001b[1;33m(\u001b[0m\u001b[0mv\u001b[0m\u001b[1;33m.\u001b[0m\u001b[0mname\u001b[0m\u001b[1;33m)\u001b[0m\u001b[1;33m\u001b[0m\u001b[0m\n\u001b[0;32m   4952\u001b[0m             \u001b[1;32mexcept\u001b[0m \u001b[0mException\u001b[0m \u001b[1;32mas\u001b[0m \u001b[0me\u001b[0m\u001b[1;33m:\u001b[0m\u001b[1;33m\u001b[0m\u001b[0m\n",
      "\u001b[1;32m<ipython-input-163-3185f3dc59a7>\u001b[0m in \u001b[0;36mgetPreviousAppointmentRatio\u001b[1;34m(row)\u001b[0m\n\u001b[0;32m      1\u001b[0m \u001b[1;32mdef\u001b[0m \u001b[0mgetPreviousAppointmentRatio\u001b[0m\u001b[1;33m(\u001b[0m\u001b[0mrow\u001b[0m\u001b[1;33m)\u001b[0m\u001b[1;33m:\u001b[0m\u001b[1;33m\u001b[0m\u001b[0m\n\u001b[0;32m      2\u001b[0m     \u001b[0mratio\u001b[0m \u001b[1;33m=\u001b[0m \u001b[1;36m0\u001b[0m\u001b[1;33m\u001b[0m\u001b[0m\n\u001b[1;32m----> 3\u001b[1;33m     \u001b[0mpatient_id\u001b[0m \u001b[1;33m=\u001b[0m \u001b[0mrow\u001b[0m\u001b[1;33m[\u001b[0m\u001b[1;34m'Patient_ID'\u001b[0m\u001b[1;33m]\u001b[0m\u001b[1;33m\u001b[0m\u001b[0m\n\u001b[0m\u001b[0;32m      4\u001b[0m     \u001b[0mappointment_date\u001b[0m \u001b[1;33m=\u001b[0m \u001b[0mrow\u001b[0m\u001b[1;33m[\u001b[0m\u001b[1;34m'Appointment_Date'\u001b[0m\u001b[1;33m]\u001b[0m\u001b[1;33m\u001b[0m\u001b[0m\n\u001b[0;32m      5\u001b[0m     \u001b[0mtemp\u001b[0m \u001b[1;33m=\u001b[0m \u001b[0mdata\u001b[0m\u001b[1;33m[\u001b[0m\u001b[0mdata\u001b[0m\u001b[1;33m[\u001b[0m\u001b[1;34m'Patient_ID'\u001b[0m\u001b[1;33m]\u001b[0m \u001b[1;33m==\u001b[0m \u001b[0mpatient_id\u001b[0m\u001b[1;33m]\u001b[0m\u001b[1;33m\u001b[0m\u001b[0m\n",
      "\u001b[1;32m~\\Anaconda3\\lib\\site-packages\\pandas\\core\\series.py\u001b[0m in \u001b[0;36m__getitem__\u001b[1;34m(self, key)\u001b[0m\n\u001b[0;32m    621\u001b[0m         \u001b[0mkey\u001b[0m \u001b[1;33m=\u001b[0m \u001b[0mcom\u001b[0m\u001b[1;33m.\u001b[0m\u001b[0m_apply_if_callable\u001b[0m\u001b[1;33m(\u001b[0m\u001b[0mkey\u001b[0m\u001b[1;33m,\u001b[0m \u001b[0mself\u001b[0m\u001b[1;33m)\u001b[0m\u001b[1;33m\u001b[0m\u001b[0m\n\u001b[0;32m    622\u001b[0m         \u001b[1;32mtry\u001b[0m\u001b[1;33m:\u001b[0m\u001b[1;33m\u001b[0m\u001b[0m\n\u001b[1;32m--> 623\u001b[1;33m             \u001b[0mresult\u001b[0m \u001b[1;33m=\u001b[0m \u001b[0mself\u001b[0m\u001b[1;33m.\u001b[0m\u001b[0mindex\u001b[0m\u001b[1;33m.\u001b[0m\u001b[0mget_value\u001b[0m\u001b[1;33m(\u001b[0m\u001b[0mself\u001b[0m\u001b[1;33m,\u001b[0m \u001b[0mkey\u001b[0m\u001b[1;33m)\u001b[0m\u001b[1;33m\u001b[0m\u001b[0m\n\u001b[0m\u001b[0;32m    624\u001b[0m \u001b[1;33m\u001b[0m\u001b[0m\n\u001b[0;32m    625\u001b[0m             \u001b[1;32mif\u001b[0m \u001b[1;32mnot\u001b[0m \u001b[0mis_scalar\u001b[0m\u001b[1;33m(\u001b[0m\u001b[0mresult\u001b[0m\u001b[1;33m)\u001b[0m\u001b[1;33m:\u001b[0m\u001b[1;33m\u001b[0m\u001b[0m\n",
      "\u001b[1;32m~\\Anaconda3\\lib\\site-packages\\pandas\\core\\indexes\\base.py\u001b[0m in \u001b[0;36mget_value\u001b[1;34m(self, series, key)\u001b[0m\n\u001b[0;32m   2555\u001b[0m         \u001b[1;32mtry\u001b[0m\u001b[1;33m:\u001b[0m\u001b[1;33m\u001b[0m\u001b[0m\n\u001b[0;32m   2556\u001b[0m             return self._engine.get_value(s, k,\n\u001b[1;32m-> 2557\u001b[1;33m                                           tz=getattr(series.dtype, 'tz', None))\n\u001b[0m\u001b[0;32m   2558\u001b[0m         \u001b[1;32mexcept\u001b[0m \u001b[0mKeyError\u001b[0m \u001b[1;32mas\u001b[0m \u001b[0me1\u001b[0m\u001b[1;33m:\u001b[0m\u001b[1;33m\u001b[0m\u001b[0m\n\u001b[0;32m   2559\u001b[0m             \u001b[1;32mif\u001b[0m \u001b[0mlen\u001b[0m\u001b[1;33m(\u001b[0m\u001b[0mself\u001b[0m\u001b[1;33m)\u001b[0m \u001b[1;33m>\u001b[0m \u001b[1;36m0\u001b[0m \u001b[1;32mand\u001b[0m \u001b[0mself\u001b[0m\u001b[1;33m.\u001b[0m\u001b[0minferred_type\u001b[0m \u001b[1;32min\u001b[0m \u001b[1;33m[\u001b[0m\u001b[1;34m'integer'\u001b[0m\u001b[1;33m,\u001b[0m \u001b[1;34m'boolean'\u001b[0m\u001b[1;33m]\u001b[0m\u001b[1;33m:\u001b[0m\u001b[1;33m\u001b[0m\u001b[0m\n",
      "\u001b[1;32mpandas/_libs/index.pyx\u001b[0m in \u001b[0;36mpandas._libs.index.IndexEngine.get_value\u001b[1;34m()\u001b[0m\n",
      "\u001b[1;32mpandas/_libs/index.pyx\u001b[0m in \u001b[0;36mpandas._libs.index.IndexEngine.get_value\u001b[1;34m()\u001b[0m\n",
      "\u001b[1;32mpandas/_libs/index.pyx\u001b[0m in \u001b[0;36mpandas._libs.index.IndexEngine.get_loc\u001b[1;34m()\u001b[0m\n",
      "\u001b[1;31mKeyError\u001b[0m: ('Patient_ID', 'occurred at index Patient_ID')"
     ]
    }
   ],
   "source": [
    "def getPreviousAppointmentRatio(row):\n",
    "    ratio = 0\n",
    "    patient_id = row['Patient_ID']\n",
    "    appointment_date = row['Appointment_Date']\n",
    "    temp = data[data['Patient_ID'] == patient_id]\n",
    "    temp = temp[temp.Appointment_Date < appointment_date]\n",
    "    if temp.empty:\n",
    "        return ratio\n",
    "    else:\n",
    "        ratio = temp[['No_Show']].sum()/temp[['No_Show']].count()\n",
    "    return ratio\n",
    "\n",
    "data['Ratio_Adjusted'] = data.apply(getPreviousAppointmentRatio, axis= 1)\n"
   ]
  },
  {
   "cell_type": "code",
   "execution_count": 19,
   "metadata": {},
   "outputs": [
    {
     "name": "stdout",
     "output_type": "stream",
     "text": [
      "[ 0.          1.          0.25        0.33333333  0.5         0.66666667\n",
      "  0.75        0.16666667  0.6         0.2         0.28571429  0.22222222\n",
      "  0.08333333  0.14285714  0.4         0.42857143  0.07692308  0.83333333\n",
      "  0.125       0.03225806  0.02631579  0.02        0.08695652  0.03846154\n",
      "  0.1         0.05405405  0.02702703  0.02777778  0.04761905  0.05555556\n",
      "  0.05        0.04        0.05882353  0.07894737  0.01886792  0.02857143\n",
      "  0.02083333  0.025       0.06666667  0.11111111  0.09090909  0.03703704\n",
      "  0.02272727  0.10526316  0.04166667  0.18181818  0.0625      0.05263158\n",
      "  0.03333333  0.03030303  0.13333333  0.16        0.04347826  0.03448276\n",
      "  0.01724138  0.01923077  0.07407407  0.15384615  0.06896552  0.08571429\n",
      "  0.06060606  0.375       0.07142857  0.0952381   0.04878049  0.04545455\n",
      "  0.07317073  0.04081633  0.01612903  0.02564103  0.03571429  0.11764706\n",
      "  0.21428571  0.23076923  0.3         0.85714286  0.8         0.36363636\n",
      "  0.23529412  0.17391304  0.18518519  0.57142857  0.27272727  0.1875\n",
      "  0.55555556  0.19230769  0.21052632  0.44444444  0.625       0.26666667\n",
      "  0.45454545  0.03125     0.08        0.075       0.41666667  0.46153846\n",
      "  0.71428571  0.35714286  0.77777778  0.64285714  0.54545455  0.69230769\n",
      "  0.61538462  0.6875      0.9         0.875       0.02439024  0.63636364\n",
      "  0.38461538  0.17647059  0.05660377  0.29411765  0.15        0.73333333\n",
      "  0.58333333  0.55        0.11363636  0.88888889  0.90909091  0.73684211\n",
      "  0.81818182  0.35294118  0.3125      0.70588235  0.03773585  0.30769231\n",
      "  0.01369863  0.02898551  0.04651163  0.01408451  0.06451613  0.01204819\n",
      "  0.05128205  0.03278689  0.01538462  0.03389831  0.01265823  0.10714286\n",
      "  0.06382979  0.09302326  0.17241379  0.72727273  0.21875     0.20588235\n",
      "  0.21212121  0.46666667  0.15789474  0.4375      0.47058824  0.03921569\n",
      "  0.01960784  0.02325581  0.05357143  0.15151515  0.04255319  0.16216216\n",
      "  0.05714286  0.05769231  0.13793103]\n"
     ]
    }
   ],
   "source": [
    "data['Ratio_Adjusted'] = data[['Ratio_Adjusted']].astype(np.float64)\n",
    "print(data['Ratio_Adjusted'].unique())"
   ]
  },
  {
   "cell_type": "code",
   "execution_count": 98,
   "metadata": {},
   "outputs": [
    {
     "name": "stdout",
     "output_type": "stream",
     "text": [
      "Winter    0\n",
      "dtype: int64\n"
     ]
    }
   ],
   "source": [
    "winter_season = [1, 2, 10, 11, 12]\n",
    "def computeSeason(row):\n",
    "    month = row['Appointment_Date_Month']\n",
    "    if(month in winter_season):\n",
    "        return 1\n",
    "    else:\n",
    "        return 0\n",
    "    \n",
    "data['Winter'] = data.apply(computeSeason, axis= 1)\n",
    "print(data[['Winter']].sum())"
   ]
  },
  {
   "cell_type": "code",
   "execution_count": 100,
   "metadata": {},
   "outputs": [
    {
     "data": {
      "text/plain": [
       "array([4, 5, 6], dtype=int64)"
      ]
     },
     "execution_count": 100,
     "metadata": {},
     "output_type": "execute_result"
    }
   ],
   "source": [
    "data['Appointment_Date_Month'].unique()"
   ]
  },
  {
   "cell_type": "code",
   "execution_count": 129,
   "metadata": {},
   "outputs": [],
   "source": [
    "def firstAppointment(row):\n",
    "    patient_id = row['Patient_ID']\n",
    "    appointment_date = row['Appointment_Date']\n",
    "    temp = data[data['Patient_ID'] == patient_id]\n",
    "    temp = temp[temp.Appointment_Date < appointment_date]\n",
    "    if temp.empty:\n",
    "        return 1\n",
    "    else:\n",
    "        return 0\n",
    "\n",
    "data['First_Time'] = data.apply(firstAppointment, axis= 1)\n",
    "data['First_Time'] = data[['First_Time']].astype(np.int64)\n"
   ]
  },
  {
   "cell_type": "code",
   "execution_count": 143,
   "metadata": {},
   "outputs": [],
   "source": [
    "def previousAppointment(row):\n",
    "    patient_id = row['Patient_ID']\n",
    "    first_time = row['First_Time']\n",
    "    if(first_time == 1):\n",
    "        return 0\n",
    "    appointment_date = row['Appointment_Date']\n",
    "    temp = data[data['Patient_ID'] == patient_id]\n",
    "    temp = temp[temp.Appointment_Date < appointment_date]\n",
    "    if temp.empty:\n",
    "        return 1\n",
    "    else:\n",
    "        temp = temp.sort_values('Appointment_Date', ascending=0)\n",
    "        return temp['No_Show'].iloc[0]\n",
    "    \n",
    "data['Previous_Appointment'] = data.apply(previousAppointment, axis= 1)\n",
    "data['Previous_Appointment'] = data[['Previous_Appointment']].astype(np.int64)"
   ]
  },
  {
   "cell_type": "markdown",
   "metadata": {},
   "source": [
    "### Statistical analysis\n",
    "Conduct a statistical analysis on the features with a deep dive on engineered features, Age, day of the week, month, SMS received, scholarship and diseases"
   ]
  },
  {
   "cell_type": "code",
   "execution_count": 144,
   "metadata": {},
   "outputs": [
    {
     "data": {
      "image/png": "[encoded data removed]",
      "text/plain": [
       "<matplotlib.figure.Figure at 0x20a0c744f28>"
      ]
     },
     "metadata": {},
     "output_type": "display_data"
    }
   ],
   "source": [
    "def corrolationMap(data, columns):\n",
    "    temp = data[columns]\n",
    "    sns.heatmap(temp.corr())\n",
    "    plt.show()\n",
    "\n",
    "\n",
    "predictors = ['Patient_Age', 'Patient_Gender', 'Patient_Scholarship', 'Patient_Hypertension', 'Patient_Diabetes', \n",
    "              'Patient_Alcoholism', 'Patient_Handicap', 'SMS_Received', 'Appointment_Scheduled_Hour', 'Appointment_Date_Month',\n",
    "              'Appointment_Date_Day', 'Appointment_ElapsedTime', 'Saturday','No_Show_per_patient', 'Ratio_Adjusted', \n",
    "              'First_Time', 'Previous_Appointment', 'No_Show']\n",
    "corrolationMap(data, predictors)"
   ]
  },
  {
   "cell_type": "markdown",
   "metadata": {},
   "source": [
    "The heat map above confirms our interviews with experts in the field of medicine as Hypertnesion and diabetes are correlated and they also appear to be correlated with age.\n",
    "The heat map allows us to take other valuable insight such as :\n",
    "1. SMS received is positively correlated with elapsed time (this indicated that the higher the elapsed time, the more likely to receive an SMS reminder)\n",
    "2. No show is statistically correlated with Age, Hypertension, diabetes, SMS received, Appoinment scheduled month, week day or not and elapsed time"
   ]
  },
  {
   "cell_type": "code",
   "execution_count": 34,
   "metadata": {},
   "outputs": [
    {
     "ename": "AttributeError",
     "evalue": "module 'seaborn' has no attribute 'plt'",
     "output_type": "error",
     "traceback": [
      "\u001b[1;31m---------------------------------------------------------------------------\u001b[0m",
      "\u001b[1;31mAttributeError\u001b[0m                            Traceback (most recent call last)",
      "\u001b[1;32m<ipython-input-34-ff1746d0ae87>\u001b[0m in \u001b[0;36m<module>\u001b[1;34m()\u001b[0m\n\u001b[0;32m      1\u001b[0m \u001b[0msns\u001b[0m\u001b[1;33m.\u001b[0m\u001b[0mpairplot\u001b[0m\u001b[1;33m(\u001b[0m\u001b[0mdata\u001b[0m\u001b[1;33m,\u001b[0m \u001b[0mhue\u001b[0m\u001b[1;33m=\u001b[0m\u001b[1;34m\"No_Show\"\u001b[0m\u001b[1;33m,\u001b[0m \u001b[0mvars\u001b[0m\u001b[1;33m=\u001b[0m\u001b[0mpredictors\u001b[0m\u001b[1;33m,\u001b[0m \u001b[0mmarkers\u001b[0m\u001b[1;33m=\u001b[0m\u001b[1;33m[\u001b[0m\u001b[1;34m\"o\"\u001b[0m\u001b[1;33m,\u001b[0m \u001b[1;34m\"s\"\u001b[0m\u001b[1;33m]\u001b[0m\u001b[1;33m)\u001b[0m\u001b[1;33m\u001b[0m\u001b[0m\n\u001b[1;32m----> 2\u001b[1;33m \u001b[0msns\u001b[0m\u001b[1;33m.\u001b[0m\u001b[0mplt\u001b[0m\u001b[1;33m.\u001b[0m\u001b[0mshow\u001b[0m\u001b[1;33m(\u001b[0m\u001b[1;33m)\u001b[0m\u001b[1;33m\u001b[0m\u001b[0m\n\u001b[0m",
      "\u001b[1;31mAttributeError\u001b[0m: module 'seaborn' has no attribute 'plt'"
     ]
    }
   ],
   "source": [
    "sns.pairplot(data, hue=\"No_Show\", vars=predictors, markers=[\"o\", \"s\"])\n",
    "plt.show()"
   ]
  },
  {
   "cell_type": "code",
   "execution_count": null,
   "metadata": {},
   "outputs": [],
   "source": [
    "sns.pairplot(data, hue=\"No_Show\", kind= \"reg\", vars=predictors, markers=[\"o\", \"s\"])\n",
    "plt.show()"
   ]
  },
  {
   "cell_type": "code",
   "execution_count": 33,
   "metadata": {},
   "outputs": [],
   "source": [
    "def statisticalAnalysis(data, column_to_analyze, target):\n",
    "    print('to implement')"
   ]
  },
  {
   "cell_type": "markdown",
   "metadata": {},
   "source": [
    "### Factor analysis\n",
    "Conduct a factor analysis to determine which predictors, or pair of predictors are the most important"
   ]
  },
  {
   "cell_type": "code",
   "execution_count": 32,
   "metadata": {},
   "outputs": [],
   "source": [
    "def factorAnalysis(data, columns, target, factor):\n",
    "    print('To implement')"
   ]
  },
  {
   "cell_type": "code",
   "execution_count": null,
   "metadata": {},
   "outputs": [],
   "source": []
  },
  {
   "cell_type": "markdown",
   "metadata": {},
   "source": [
    "### Building Models\n",
    "In this part, we will build and evaluate different models. Each model should have 1) model fit, use k-fold 2) ROC and confusion matrix 3) parameter tuning"
   ]
  },
  {
   "cell_type": "code",
   "execution_count": 151,
   "metadata": {},
   "outputs": [],
   "source": [
    "from sklearn.model_selection import train_test_split\n",
    "from sklearn.metrics import classification_report\n",
    "from sklearn.metrics import confusion_matrix\n",
    "from sklearn.metrics import roc_curve\n",
    "from sklearn.metrics import roc_auc_score\n",
    "from sklearn.metrics import f1_score\n",
    "from sklearn.metrics import accuracy_score\n",
    "from sklearn.model_selection import cross_val_score\n",
    "from sklearn.model_selection import cross_val_predict\n",
    "from sklearn.model_selection import cross_validate\n",
    "from sklearn.model_selection import GridSearchCV\n",
    "\n",
    "\n",
    "\n",
    "predictors = [\n",
    "    'Patient_Age', \n",
    "    'Patient_Gender', \n",
    "    'Patient_Scholarship', \n",
    "    'Patient_Hypertension', \n",
    "    'Patient_Diabetes', \n",
    "    'Patient_Alcoholism', \n",
    "    'Patient_Handicap', \n",
    "    'SMS_Received', \n",
    "    'Appointment_Date_Month',\n",
    "    'Appointment_ElapsedTime', \n",
    "    'Saturday', 'Ratio_Adjusted', \n",
    "    'First_Time', \n",
    "    'Previous_Appointment',\n",
    "    'No_Show_per_patient'\n",
    "             ]\n",
    "X = data[predictors]\n",
    "y = data.No_Show\n",
    "X_train, X_test, y_train, y_test = train_test_split(X, y, test_size=0.25, random_state= 121, stratify= y)"
   ]
  },
  {
   "cell_type": "code",
   "execution_count": 146,
   "metadata": {},
   "outputs": [],
   "source": [
    "def rocPlot(modelName, y_test, y_pred_prob):\n",
    "    fpr, tpr, thresholds = roc_curve(y_test, y_pred_prob)\n",
    "    plt.plot([0, 1], [0, 1], 'k--')\n",
    "    plt.plot(fpr, tpr, label=modelName)\n",
    "    plt.xlabel('False Positive Rate')\n",
    "    plt.ylabel('True Positive Rate')\n",
    "    plt.title(modelName + ' ROC Curve')\n",
    "    plt.show();\n",
    "    print('AUC: ', roc_auc_score(y_test, y_pred_prob))"
   ]
  },
  {
   "cell_type": "code",
   "execution_count": 147,
   "metadata": {},
   "outputs": [],
   "source": [
    "import itertools\n",
    "\n",
    "def plot_confusion_matrix(cm, classes,\n",
    "                          normalize=False,\n",
    "                          title='Confusion matrix',\n",
    "                          cmap=plt.cm.Blues):\n",
    "    \"\"\"\n",
    "    This function prints and plots the confusion matrix.\n",
    "    Normalization can be applied by setting `normalize=True`.\n",
    "    \"\"\"\n",
    "    if normalize:\n",
    "        cm = cm.astype('float') / cm.sum(axis=1)[:, np.newaxis]\n",
    "        print(\"Normalized confusion matrix\")\n",
    "    else:\n",
    "        print('Confusion matrix, without normalization')\n",
    "\n",
    "    print(cm)\n",
    "\n",
    "    plt.figure()\n",
    "    plt.imshow(cm, interpolation='nearest', cmap=cmap)\n",
    "    plt.title(title)\n",
    "    plt.colorbar()\n",
    "    tick_marks = np.arange(len(classes))\n",
    "    plt.xticks(tick_marks, classes, rotation=45)\n",
    "    plt.yticks(tick_marks, classes)\n",
    "\n",
    "    fmt = '.2f' if normalize else 'd'\n",
    "    thresh = cm.max() / 2.\n",
    "    for i, j in itertools.product(range(cm.shape[0]), range(cm.shape[1])):\n",
    "        plt.text(j, i, format(cm[i, j], fmt),\n",
    "                 horizontalalignment=\"center\",\n",
    "                 color=\"white\" if cm[i, j] > thresh else \"black\")\n",
    "\n",
    "    plt.tight_layout()\n",
    "    plt.ylabel('True label')\n",
    "    plt.xlabel('Predicted label')\n",
    "    plt.show()"
   ]
  },
  {
   "cell_type": "code",
   "execution_count": 148,
   "metadata": {},
   "outputs": [],
   "source": [
    "def gridSearch(model, param_grid, cv, x, y):\n",
    "    grid = GridSearchCV(model, param_grid, cv= cv)\n",
    "    grid.fit(x, y)\n",
    "    return (grid.best_params_, grid.best_score_)"
   ]
  },
  {
   "cell_type": "code",
   "execution_count": 149,
   "metadata": {},
   "outputs": [],
   "source": [
    "def parameterTuning(name, train_accuracy, train_f1, test_accuracy, test_f1, values):\n",
    "    # Generate plot\n",
    "    plt.title(name +': Varying parameter')\n",
    "    ax = plt.gca()\n",
    "    ax2 = ax.twinx()\n",
    "    ax.plot(values, test_accuracy, label = 'Testing Accuracy')\n",
    "    ax.plot(values, train_accuracy, label = 'Training Accuracy')\n",
    "    ax2.plot(values, test_f1, label = 'Testing F1 Score', color='red')\n",
    "    ax2.plot(values, train_f1, label = 'Training F1 Score', color='green')\n",
    "    ax.set_xlabel('values')\n",
    "    ax.set_ylabel('Accuracy')\n",
    "    ax2.set_ylabel('F1 Score')\n",
    "    ax.legend(loc=0)\n",
    "    ax2.legend(loc=0)\n",
    "    plt.show()"
   ]
  },
  {
   "cell_type": "markdown",
   "metadata": {},
   "source": [
    "#### Logistic regression\n"
   ]
  },
  {
   "cell_type": "code",
   "execution_count": 152,
   "metadata": {},
   "outputs": [
    {
     "name": "stdout",
     "output_type": "stream",
     "text": [
      "             precision    recall  f1-score   support\n",
      "\n",
      "          0       0.97      0.95      0.96     67422\n",
      "          1       0.80      0.87      0.83     15467\n",
      "\n",
      "avg / total       0.94      0.93      0.94     82889\n",
      "\n",
      "F1 score achieved 0.8959074301577492\n",
      "Normalized confusion matrix\n",
      "[[ 0.9505206   0.0494794 ]\n",
      " [ 0.13357471  0.86642529]]\n"
     ]
    },
    {
     "data": {
      "image/png": "[encoded data removed]",
      "text/plain": [
       "<matplotlib.figure.Figure at 0x20a0c7bd668>"
      ]
     },
     "metadata": {},
     "output_type": "display_data"
    }
   ],
   "source": [
    "from sklearn.linear_model import LogisticRegression\n",
    "\n",
    "logreg = LogisticRegression()\n",
    "cv_scores = cross_val_predict(logreg, X_train, y_train, cv=10)\n",
    "\n",
    "report = classification_report(cv_scores, y_train)\n",
    "conf_matrix = confusion_matrix(cv_scores, y_train)\n",
    "print(report)\n",
    "print('F1 score achieved {}'.format( f1_score(cv_scores, y_train, average=\"macro\")))\n",
    "plot_confusion_matrix(conf_matrix, ['Show', 'No Show'], normalize= True)"
   ]
  },
  {
   "cell_type": "code",
   "execution_count": 137,
   "metadata": {},
   "outputs": [
    {
     "data": {
      "image/png": "[encoded data removed]",
      "text/plain": [
       "<matplotlib.figure.Figure at 0x20a0f3d1208>"
      ]
     },
     "metadata": {},
     "output_type": "display_data"
    },
    {
     "name": "stdout",
     "output_type": "stream",
     "text": [
      "AUC:  0.665727510772\n"
     ]
    }
   ],
   "source": [
    "from sklearn.linear_model import LogisticRegression\n",
    "\n",
    "logreg = LogisticRegression()\n",
    "\n",
    "logreg.fit(X_train, y_train)\n",
    "y_pred_prob = logreg.predict_proba(X_test)[:,1]\n",
    "rocPlot('Logistic Regression', y_test, y_pred_prob)"
   ]
  },
  {
   "cell_type": "markdown",
   "metadata": {},
   "source": [
    "So far, it seems that Logistic regression's performance is AUC: 96%, accuracy: 91% and F1 score: 85%"
   ]
  },
  {
   "cell_type": "code",
   "execution_count": 138,
   "metadata": {},
   "outputs": [
    {
     "data": {
      "image/png": "[encoded data removed]",
      "text/plain": [
       "<matplotlib.figure.Figure at 0x20a0f4218d0>"
      ]
     },
     "metadata": {},
     "output_type": "display_data"
    }
   ],
   "source": [
    "# Setup arrays to store train and test accuracies\n",
    "C_values = np.linspace(0.1, 5.0, num=50)\n",
    "train_accuracy = np.empty(len(C_values))\n",
    "test_accuracy = np.empty(len(C_values))\n",
    "train_f1 = np.empty(len(C_values))\n",
    "test_f1 = np.empty(len(C_values))\n",
    "\n",
    "# Loop over different values of k\n",
    "for i, k in enumerate(C_values):\n",
    "    logreg = LogisticRegression(C= k)\n",
    "    logreg.fit(X_train, y_train)\n",
    "    \n",
    "    y_pred = logreg.predict(X_train)\n",
    "    #Compute accuracy on the training set\n",
    "    train_accuracy[i] = accuracy_score(y_train, y_pred)\n",
    "    train_f1[i] = f1_score(y_train, y_pred, average=\"macro\")\n",
    "\n",
    "    y_pred = logreg.predict(X_test)\n",
    "    #Compute accuracy on the testing set\n",
    "    test_accuracy[i] = accuracy_score(y_test, y_pred)\n",
    "    test_f1[i] = f1_score(y_test, y_pred, average=\"macro\")\n",
    "\n",
    "parameterTuning('Logistic Regression', train_accuracy, train_f1, test_accuracy, test_f1, C_values)"
   ]
  },
  {
   "cell_type": "code",
   "execution_count": 139,
   "metadata": {},
   "outputs": [
    {
     "name": "stdout",
     "output_type": "stream",
     "text": [
      "Tuned Logistic Regression Parameters: {'C': 1.0000000000000001e-05}\n",
      "Best score is 0.7959439732654514\n"
     ]
    }
   ],
   "source": [
    "# Setup the hyperparameter grid\n",
    "c_space = np.logspace(-5, 8, 15)\n",
    "param_grid = {'C': c_space}\n",
    "\n",
    "# Instantiate a logistic regression classifier: logreg\n",
    "logreg = LogisticRegression()\n",
    "\n",
    "best_param, best_score = gridSearch(logreg, param_grid, 5, X_train, y_train)\n",
    "\n",
    "# Print the tuned parameters and score\n",
    "print(\"Tuned Logistic Regression Parameters: {}\".format(best_param)) \n",
    "print(\"Best score is {}\".format(best_score))"
   ]
  },
  {
   "cell_type": "code",
   "execution_count": 140,
   "metadata": {},
   "outputs": [],
   "source": [
    "# Try breaking down by patient (different patient between train and test)\n",
    "# Try breaking down by disease\n",
    "# Try disease ignorant (take out the disease columns)"
   ]
  },
  {
   "cell_type": "markdown",
   "metadata": {},
   "source": [
    "#### Neural network\n",
    "In this part, we will try running a neural network"
   ]
  },
  {
   "cell_type": "code",
   "execution_count": 112,
   "metadata": {},
   "outputs": [],
   "source": [
    "import keras\n",
    "from keras.layers import Dense\n",
    "from keras.models import Sequential\n",
    "from keras.utils import to_categorical\n",
    "from keras.optimizers import SGD\n",
    "from keras.callbacks import EarlyStopping\n",
    "\n",
    "\n",
    "predictors = ['Patient_Age', 'Patient_Gender', 'Patient_Scholarship', 'Patient_Hypertension', 'Patient_Diabetes', \n",
    "              'Patient_Alcoholism', 'Patient_Handicap', 'SMS_Received', 'Appointment_Date_Month',\n",
    "              'Appointment_ElapsedTime', 'Saturday', 'Ratio_Adjusted']\n",
    "X = data[predictors]\n",
    "y = data.No_Show\n",
    "X_train, X_test, y_train, y_test = train_test_split(X, y, test_size=0.25, random_state= 121, stratify= y)\n",
    "\n",
    "\n",
    "X_train = np.array(X_train)\n",
    "y_train = np.array(y_train)\n",
    "X_test = np.array(X_test)\n",
    "y_test = np.array(y_test)\n",
    "\n",
    "\n"
   ]
  },
  {
   "cell_type": "code",
   "execution_count": 113,
   "metadata": {},
   "outputs": [],
   "source": [
    "# Train model\n",
    "n_cols = data[predictors].shape[1]\n",
    "model = Sequential()\n",
    "model.add(Dense(100, activation='relu', input_shape = (n_cols,)))\n",
    "model.add(Dense(50, activation='relu'))\n",
    "model.add(Dense(32, activation='softmax'))\n",
    "model.add(Dense(1))\n",
    "\n",
    "# Compile the model\n",
    "model.compile(optimizer= 'adam', loss= 'mean_squared_error')\n",
    "\n",
    "model.fit(X_train, y_train, verbose=False)\n",
    "\n",
    "##Calculate performance on training\n",
    "training = model.predict(X_train)\n",
    "# Calculate predictions: predictions\n",
    "predictions = model.predict(X_test)"
   ]
  },
  {
   "cell_type": "code",
   "execution_count": 124,
   "metadata": {},
   "outputs": [
    {
     "name": "stderr",
     "output_type": "stream",
     "text": [
      "C:\\Users\\User\\Anaconda3\\lib\\site-packages\\sklearn\\metrics\\classification.py:1137: UndefinedMetricWarning: F-score is ill-defined and being set to 0.0 in labels with no true samples.\n",
      "  'recall', 'true', average, warn_for)\n"
     ]
    },
    {
     "data": {
      "image/png": "[encoded data removed]",
      "text/plain": [
       "<matplotlib.figure.Figure at 0x20a0f43ab70>"
      ]
     },
     "metadata": {},
     "output_type": "display_data"
    }
   ],
   "source": [
    "def paramNN(training, y_train, predictions, y_test):\n",
    "    treshold = np.linspace(0, 1.0, num=100)\n",
    "    \n",
    "    f1_test = np.empty(len(treshold))\n",
    "    acc_test = np.empty(len(treshold))\n",
    "    f1_train = np.empty(len(treshold))\n",
    "    acc_train = np.empty(len(treshold))\n",
    "    \n",
    "    for i,j in enumerate(treshold):\n",
    "        pred = np.apply_along_axis(lambda x: 1 if x > j else 0, axis= 1, arr= predictions)\n",
    "        f1_test[i] = f1_score(pred, y_test, average=\"macro\")\n",
    "        acc_test[i] = accuracy_score(pred, y_test)\n",
    "\n",
    "        tr = np.apply_along_axis(lambda x: 1 if x > j else 0, axis= 1, arr= training)\n",
    "        f1_train[i] = f1_score(tr, y_train, average=\"macro\")\n",
    "        acc_train[i] = accuracy_score(tr, y_train)\n",
    "    parameterTuning('Neural Network', acc_train, f1_train, acc_test, f1_test, treshold)\n",
    "    \n",
    "\n",
    "paramNN(training, y_train,predictions, y_test)"
   ]
  },
  {
   "cell_type": "code",
   "execution_count": 127,
   "metadata": {},
   "outputs": [
    {
     "data": {
      "image/png": "[encoded data removed]",
      "text/plain": [
       "<matplotlib.figure.Figure at 0x20a0fabfda0>"
      ]
     },
     "metadata": {},
     "output_type": "display_data"
    }
   ],
   "source": [
    "\n",
    "n_cols = data[predictors].shape[1]\n",
    "input_shape = (n_cols,)\n",
    "\n",
    "# Specify the model\n",
    "model = Sequential()\n",
    "model.add(Dense(100, activation='relu', input_shape = input_shape))\n",
    "model.add(Dense(100, activation='relu'))\n",
    "model.add(Dense(1, activation='softmax'))\n",
    "\n",
    "# Compile the model\n",
    "model.compile(optimizer= 'adam', loss= 'mean_squared_error', metrics=['accuracy'])\n",
    "\n",
    "# Define early_stopping_monitor\n",
    "early_stopping_monitor = EarlyStopping(patience= 2)\n",
    "\n",
    "# Fit the model\n",
    "model_1_training = model.fit(X_train, y_train, epochs=15, validation_split=0.2, callbacks=[early_stopping_monitor], verbose=False)\n",
    "\n",
    "plt.plot(model_1_training.history['val_loss'], 'r')\n",
    "plt.xlabel('Epochs')\n",
    "plt.ylabel('Validation score')\n",
    "plt.show()"
   ]
  },
  {
   "cell_type": "markdown",
   "metadata": {},
   "source": [
    "#### New way of splitting the data:\n",
    "We ahve been using a splitting the data in a naive way since it is possible to train for an appointment based on the true label of previous appointments, thus we need to make sure that the appointemnts we are testing for are happening after the appointment we are training for.\n",
    "1. Sort by the appointment data\n",
    "2. Set the split based on how man"
   ]
  },
  {
   "cell_type": "code",
   "execution_count": 175,
   "metadata": {},
   "outputs": [
    {
     "name": "stderr",
     "output_type": "stream",
     "text": [
      "C:\\Users\\User\\Anaconda3\\lib\\site-packages\\ipykernel_launcher.py:16: SettingWithCopyWarning: \n",
      "A value is trying to be set on a copy of a slice from a DataFrame.\n",
      "Try using .loc[row_indexer,col_indexer] = value instead\n",
      "\n",
      "See the caveats in the documentation: http://pandas.pydata.org/pandas-docs/stable/indexing.html#indexing-view-versus-copy\n",
      "  app.launch_new_instance()\n"
     ]
    },
    {
     "name": "stdout",
     "output_type": "stream",
     "text": [
      "[ 0.          0.5         0.57142857  0.33333333  0.1         1.          0.25\n",
      "  0.66666667  0.16666667  0.04081633  0.2         0.02173913  0.14285714\n",
      "  0.125       0.08333333  0.0625      0.4         0.625       0.83333333\n",
      "  0.22222222  0.55555556  0.18181818  0.05970149  0.11111111  0.375\n",
      "  0.27272727  0.35714286  0.38461538  0.04166667  0.6         0.04\n",
      "  0.09090909  0.75        0.28571429  0.26666667  0.02439024  0.8\n",
      "  0.42857143  0.05882353  0.28        0.05405405  0.71428571  0.1875      0.3\n",
      "  0.44444444  0.17857143  0.21052632  0.03030303  0.13333333  0.06896552\n",
      "  0.63636364  0.03703704  0.02857143  0.15384615  0.12903226  0.02083333\n",
      "  0.07142857  0.06666667  0.21428571  0.36363636  0.17647059  0.30769231\n",
      "  0.15        0.77777778  0.45454545  0.875       0.27777778  0.07692308\n",
      "  0.85714286  0.76923077]\n",
      "<class 'pandas.core.frame.DataFrame'>\n",
      "Int64Index: 82889 entries, 52683 to 79166\n",
      "Data columns (total 17 columns):\n",
      "Patient_ID                 82889 non-null float64\n",
      "Patient_Age                82889 non-null int64\n",
      "Patient_Gender             82889 non-null int64\n",
      "Patient_Scholarship        82889 non-null int64\n",
      "Patient_Hypertension       82889 non-null int64\n",
      "Patient_Diabetes           82889 non-null int64\n",
      "Patient_Alcoholism         82889 non-null int64\n",
      "Patient_Handicap           82889 non-null int64\n",
      "SMS_Received               82889 non-null int64\n",
      "Appointment_Date_Month     82889 non-null int64\n",
      "Appointment_ElapsedTime    82889 non-null int64\n",
      "Saturday                   82889 non-null uint8\n",
      "Ratio_Adjusted             82889 non-null float64\n",
      "First_Time                 82889 non-null int64\n",
      "Previous_Appointment       82889 non-null int64\n",
      "No_Show                    82889 non-null int64\n",
      "ratio                      82889 non-null float64\n",
      "dtypes: float64(3), int64(13), uint8(1)\n",
      "memory usage: 10.8 MB\n",
      "None\n"
     ]
    },
    {
     "name": "stderr",
     "output_type": "stream",
     "text": [
      "C:\\Users\\User\\Anaconda3\\lib\\site-packages\\ipykernel_launcher.py:17: SettingWithCopyWarning: \n",
      "A value is trying to be set on a copy of a slice from a DataFrame.\n",
      "Try using .loc[row_indexer,col_indexer] = value instead\n",
      "\n",
      "See the caveats in the documentation: http://pandas.pydata.org/pandas-docs/stable/indexing.html#indexing-view-versus-copy\n"
     ]
    }
   ],
   "source": [
    "predictors = ['Patient_ID', 'Patient_Age', 'Patient_Gender', 'Patient_Scholarship', 'Patient_Hypertension', 'Patient_Diabetes', \n",
    "              'Patient_Alcoholism', 'Patient_Handicap', 'SMS_Received', 'Appointment_Date_Month',\n",
    "              'Appointment_ElapsedTime', 'Saturday', 'Ratio_Adjusted', 'First_Time', 'Previous_Appointment',\n",
    "              'No_Show']\n",
    "X = data[predictors]\n",
    "y = data.No_Show\n",
    "X_train, X_test, y_train, y_test = train_test_split(X, y, test_size=0.25, random_state= 121, stratify= y)\n",
    "\n",
    "\n",
    "temp_1 = X_train.groupby('Patient_ID').count()\n",
    "temp_2 = X_train.groupby('Patient_ID').sum()\n",
    "\n",
    "no_show_per_patient = pd.DataFrame()\n",
    "no_show_per_patient['ratio'] = temp_2['No_Show'] / temp_1['No_Show']\n",
    "\n",
    "X_train['ratio'] = X_train.Patient_ID.apply(lambda x: no_show_per_patient.loc[x])\n",
    "X_train['ratio'] = X_train['ratio'].astype(np.float64)\n",
    "\n",
    "print(X_train['ratio'].unique())\n",
    "print(X_train.info())"
   ]
  },
  {
   "cell_type": "code",
   "execution_count": 176,
   "metadata": {},
   "outputs": [
    {
     "name": "stderr",
     "output_type": "stream",
     "text": [
      "C:\\Users\\User\\Anaconda3\\lib\\site-packages\\ipykernel_launcher.py:9: SettingWithCopyWarning: \n",
      "A value is trying to be set on a copy of a slice from a DataFrame.\n",
      "Try using .loc[row_indexer,col_indexer] = value instead\n",
      "\n",
      "See the caveats in the documentation: http://pandas.pydata.org/pandas-docs/stable/indexing.html#indexing-view-versus-copy\n",
      "  if __name__ == '__main__':\n"
     ]
    }
   ],
   "source": [
    "def adjust(row):\n",
    "    patient_id = row['Patient_ID']\n",
    "    p = X_train[X_train.Patient_ID == patient_id]\n",
    "    if(p.empty):\n",
    "        return 0\n",
    "    else:\n",
    "        return p['ratio'].iloc[0]\n",
    "    \n",
    "X_test['ratio'] = X_test.apply(adjust, axis= 1)"
   ]
  },
  {
   "cell_type": "code",
   "execution_count": 177,
   "metadata": {},
   "outputs": [
    {
     "name": "stdout",
     "output_type": "stream",
     "text": [
      "Index(['Patient_ID', 'Patient_Age', 'Patient_Gender', 'Patient_Scholarship',\n",
      "       'Patient_Hypertension', 'Patient_Diabetes', 'Patient_Alcoholism',\n",
      "       'Patient_Handicap', 'SMS_Received', 'Appointment_Date_Month',\n",
      "       'Appointment_ElapsedTime', 'Saturday', 'Ratio_Adjusted', 'First_Time',\n",
      "       'Previous_Appointment', 'No_Show', 'ratio'],\n",
      "      dtype='object')\n",
      "Index(['Patient_ID', 'Patient_Age', 'Patient_Gender', 'Patient_Scholarship',\n",
      "       'Patient_Hypertension', 'Patient_Diabetes', 'Patient_Alcoholism',\n",
      "       'Patient_Handicap', 'SMS_Received', 'Appointment_Date_Month',\n",
      "       'Appointment_ElapsedTime', 'Saturday', 'Ratio_Adjusted', 'First_Time',\n",
      "       'Previous_Appointment', 'No_Show', 'ratio'],\n",
      "      dtype='object')\n"
     ]
    }
   ],
   "source": [
    "col_to_drop = ['Patient_ID', 'No_Show']\n",
    "print(X_test.columns)\n",
    "print(X_train.columns)\n",
    "X_test = X_test.drop(columns= col_to_drop)\n",
    "X_train = X_train.drop(columns= col_to_drop)"
   ]
  },
  {
   "cell_type": "code",
   "execution_count": 178,
   "metadata": {},
   "outputs": [
    {
     "name": "stdout",
     "output_type": "stream",
     "text": [
      "             precision    recall  f1-score   support\n",
      "\n",
      "          0       0.97      0.95      0.96     67398\n",
      "          1       0.82      0.88      0.85     15491\n",
      "\n",
      "avg / total       0.94      0.94      0.94     82889\n",
      "\n",
      "F1 score achieved 0.9070205625427998\n",
      "Normalized confusion matrix\n",
      "[[ 0.95493932  0.04506068]\n",
      " [ 0.11561552  0.88438448]]\n"
     ]
    },
    {
     "data": {
      "image/png": "[encoded data removed]",
      "text/plain": [
       "<matplotlib.figure.Figure at 0x20a0f3cd6d8>"
      ]
     },
     "metadata": {},
     "output_type": "display_data"
    }
   ],
   "source": [
    "from sklearn.linear_model import LogisticRegression\n",
    "\n",
    "logreg = LogisticRegression()\n",
    "cv_scores = cross_val_predict(logreg, X_train, y_train, cv=10)\n",
    "\n",
    "report = classification_report(cv_scores, y_train)\n",
    "conf_matrix = confusion_matrix(cv_scores, y_train)\n",
    "print(report)\n",
    "print('F1 score achieved {}'.format( f1_score(cv_scores, y_train, average=\"macro\")))\n",
    "plot_confusion_matrix(conf_matrix, ['Show', 'No Show'], normalize= True)"
   ]
  },
  {
   "cell_type": "code",
   "execution_count": 188,
   "metadata": {},
   "outputs": [
    {
     "name": "stdout",
     "output_type": "stream",
     "text": [
      "             precision    recall  f1-score   support\n",
      "\n",
      "          0       0.91      0.82      0.86     24532\n",
      "          1       0.19      0.35      0.25      3098\n",
      "\n",
      "avg / total       0.83      0.76      0.79     27630\n",
      "\n",
      "F1 score achieved 0.5541064277893578\n",
      "Accuracy score achieved 0.7476655808903366\n",
      "Normalized confusion matrix\n",
      "[[ 0.81648459  0.18351541]\n",
      " [ 0.65235636  0.34764364]]\n"
     ]
    },
    {
     "data": {
      "image/png": "[encoded data removed]",
      "text/plain": [
       "<matplotlib.figure.Figure at 0x20a108e4390>"
      ]
     },
     "metadata": {},
     "output_type": "display_data"
    }
   ],
   "source": [
    "logreg.fit(X_train, y_train)\n",
    "predictions = logreg.predict(X_test)\n",
    "report = classification_report(predictions, y_test)\n",
    "conf_matrix = confusion_matrix(predictions, y_test)\n",
    "print(report)\n",
    "print('F1 score achieved {}'.format( f1_score(predictions, y_test, average=\"macro\")))\n",
    "print('Accuracy score achieved {}'.format( accuracy_score(pred, y_test)))\n",
    "plot_confusion_matrix(conf_matrix, ['Show', 'No Show'], normalize= True)"
   ]
  },
  {
   "cell_type": "code",
   "execution_count": 183,
   "metadata": {},
   "outputs": [],
   "source": [
    "X_train = np.array(X_train)\n",
    "y_train = np.array(y_train)\n",
    "X_test = np.array(X_test)\n",
    "y_test = np.array(y_test)\n",
    "\n",
    "\n",
    "# Train model\n",
    "n_cols = X_train.shape[1]\n",
    "model = Sequential()\n",
    "model.add(Dense(100, activation='relu', input_shape = (n_cols,)))\n",
    "model.add(Dense(50, activation='relu'))\n",
    "model.add(Dense(32, activation='softmax'))\n",
    "model.add(Dense(1))\n",
    "\n",
    "# Compile the model\n",
    "model.compile(optimizer= 'adam', loss= 'mean_squared_error')\n",
    "\n",
    "model.fit(X_train, y_train, verbose=False)\n",
    "\n",
    "##Calculate performance on training\n",
    "training = model.predict(X_train)\n",
    "# Calculate predictions: predictions\n",
    "predictions = model.predict(X_test)"
   ]
  },
  {
   "cell_type": "code",
   "execution_count": 184,
   "metadata": {},
   "outputs": [
    {
     "name": "stderr",
     "output_type": "stream",
     "text": [
      "C:\\Users\\User\\Anaconda3\\lib\\site-packages\\sklearn\\metrics\\classification.py:1137: UndefinedMetricWarning: F-score is ill-defined and being set to 0.0 in labels with no true samples.\n",
      "  'recall', 'true', average, warn_for)\n"
     ]
    },
    {
     "data": {
      "image/png": "[encoded data removed]",
      "text/plain": [
       "<matplotlib.figure.Figure at 0x20a261a3b70>"
      ]
     },
     "metadata": {},
     "output_type": "display_data"
    }
   ],
   "source": [
    "paramNN(training, y_train,predictions, y_test)"
   ]
  },
  {
   "cell_type": "code",
   "execution_count": 187,
   "metadata": {},
   "outputs": [
    {
     "name": "stdout",
     "output_type": "stream",
     "text": [
      "             precision    recall  f1-score   support\n",
      "\n",
      "          0       0.88      0.82      0.85     23517\n",
      "          1       0.24      0.33      0.28      4113\n",
      "\n",
      "avg / total       0.78      0.75      0.76     27630\n",
      "\n",
      "F1 score achieved 0.5638208616106415\n",
      "Accuracy score achieved 0.7476655808903366\n",
      "Normalized confusion matrix\n",
      "[[ 0.82059787  0.17940213]\n",
      " [ 0.66934111  0.33065889]]\n"
     ]
    },
    {
     "data": {
      "image/png": "[encoded data removed]",
      "text/plain": [
       "<matplotlib.figure.Figure at 0x20a006e4518>"
      ]
     },
     "metadata": {},
     "output_type": "display_data"
    }
   ],
   "source": [
    "pred = pred = np.apply_along_axis(lambda x: 1 if x > 0.15 else 0, axis= 1, arr= predictions)\n",
    "report = classification_report(pred, y_test)\n",
    "conf_matrix = confusion_matrix(pred, y_test)\n",
    "print(report)\n",
    "print('F1 score achieved {}'.format( f1_score(pred, y_test, average=\"macro\")))\n",
    "print('Accuracy score achieved {}'.format( accuracy_score(pred, y_test)))\n",
    "plot_confusion_matrix(conf_matrix, ['Show', 'No Show'], normalize= True)"
   ]
  },
  {
   "cell_type": "code",
   "execution_count": null,
   "metadata": {},
   "outputs": [],
   "source": [
    "from sklearn import svm\n",
    "\n",
    "clf = svm.SVC(kernel='rbf')\n",
    "cv_scores = cross_val_predict(clf, X_train, y_train, cv=10)\n",
    "\n",
    "report = classification_report(cv_scores, y_train)\n",
    "conf_matrix = confusion_matrix(cv_scores, y_train)\n",
    "print(report)\n",
    "print('F1 score achieved {}'.format( f1_score(cv_scores, y_train, average=\"macro\")))\n",
    "plot_confusion_matrix(conf_matrix, ['Show', 'No Show'], normalize= True)\n"
   ]
  },
  {
   "cell_type": "code",
   "execution_count": null,
   "metadata": {},
   "outputs": [],
   "source": [
    "clf.fit(X_train, y_train)\n",
    "predictions = clf.predict(X_test)\n",
    "report = classification_report(predictions, y_test)\n",
    "conf_matrix = confusion_matrix(predictions, y_test)\n",
    "print(report)\n",
    "print('F1 score achieved {}'.format( f1_score(predictions, y_test, average=\"macro\")))\n",
    "print('Accuracy score achieved {}'.format( accuracy_score(pred, y_test)))\n",
    "plot_confusion_matrix(conf_matrix, ['Show', 'No Show'], normalize= True)"
   ]
  },
  {
   "cell_type": "code",
   "execution_count": null,
   "metadata": {},
   "outputs": [],
   "source": []
  }
 ],
 "metadata": {
  "kernelspec": {
   "display_name": "Python 3",
   "language": "python",
   "name": "python3"
  },
  "language_info": {
   "codemirror_mode": {
    "name": "ipython",
    "version": 3
   },
   "file_extension": ".py",
   "mimetype": "text/x-python",
   "name": "python",
   "nbconvert_exporter": "python",
   "pygments_lexer": "ipython3",
   "version": "3.6.2"
  }
 },
 "nbformat": 4,
 "nbformat_minor": 2
}
