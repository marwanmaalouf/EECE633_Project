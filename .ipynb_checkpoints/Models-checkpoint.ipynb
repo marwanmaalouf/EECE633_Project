{
 "cells": [
  {
   "cell_type": "code",
   "execution_count": 4,
   "metadata": {},
   "outputs": [],
   "source": [
    "import numpy as np\n",
    "import pandas as pd\n",
    "import matplotlib.pyplot as plt\n",
    "import seaborn as sns\n",
    "\n",
    "\n",
    "from sklearn.model_selection import train_test_split\n",
    "from sklearn.metrics import classification_report\n",
    "from sklearn.metrics import confusion_matrix\n",
    "from sklearn.metrics import roc_curve\n",
    "from sklearn.metrics import roc_auc_score\n",
    "from sklearn.metrics import f1_score\n",
    "from sklearn.metrics import accuracy_score\n",
    "from sklearn.model_selection import cross_val_score\n",
    "from sklearn.model_selection import cross_val_predict\n",
    "from sklearn.model_selection import cross_validate\n",
    "from sklearn.model_selection import GridSearchCV"
   ]
  },
  {
   "cell_type": "markdown",
   "metadata": {},
   "source": [
    "## Load data"
   ]
  },
  {
   "cell_type": "code",
   "execution_count": null,
   "metadata": {},
   "outputs": [],
   "source": [
    "data = pd.read_csv('MA_Features.csv', encoding= 'utf-8')\n",
    "data.info()"
   ]
  },
  {
   "cell_type": "markdown",
   "metadata": {},
   "source": [
    "## Model analysis functions"
   ]
  },
  {
   "cell_type": "code",
   "execution_count": 5,
   "metadata": {},
   "outputs": [],
   "source": [
    "def rocPlot(modelName, y_test, y_pred_prob):\n",
    "    fpr, tpr, thresholds = roc_curve(y_test, y_pred_prob)\n",
    "    plt.plot([0, 1], [0, 1], 'k--')\n",
    "    plt.plot(fpr, tpr, label=modelName)\n",
    "    plt.xlabel('False Positive Rate')\n",
    "    plt.ylabel('True Positive Rate')\n",
    "    plt.title(modelName + ' ROC Curve')\n",
    "    plt.show();\n",
    "    print('AUC: ', roc_auc_score(y_test, y_pred_prob))"
   ]
  },
  {
   "cell_type": "code",
   "execution_count": 6,
   "metadata": {},
   "outputs": [],
   "source": [
    "import itertools\n",
    "\n",
    "def plot_confusion_matrix(cm, classes,\n",
    "                          normalize=False,\n",
    "                          title='Confusion matrix',\n",
    "                          cmap=plt.cm.Blues):\n",
    "    \"\"\"\n",
    "    This function prints and plots the confusion matrix.\n",
    "    Normalization can be applied by setting `normalize=True`.\n",
    "    \"\"\"\n",
    "    if normalize:\n",
    "        cm = cm.astype('float') / cm.sum(axis=1)[:, np.newaxis]\n",
    "        print(\"Normalized confusion matrix\")\n",
    "    else:\n",
    "        print('Confusion matrix, without normalization')\n",
    "\n",
    "    print(cm)\n",
    "\n",
    "    plt.figure()\n",
    "    plt.imshow(cm, interpolation='nearest', cmap=cmap)\n",
    "    plt.title(title)\n",
    "    plt.colorbar()\n",
    "    tick_marks = np.arange(len(classes))\n",
    "    plt.xticks(tick_marks, classes, rotation=45)\n",
    "    plt.yticks(tick_marks, classes)\n",
    "\n",
    "    fmt = '.2f' if normalize else 'd'\n",
    "    thresh = cm.max() / 2.\n",
    "    for i, j in itertools.product(range(cm.shape[0]), range(cm.shape[1])):\n",
    "        plt.text(j, i, format(cm[i, j], fmt),\n",
    "                 horizontalalignment=\"center\",\n",
    "                 color=\"white\" if cm[i, j] > thresh else \"black\")\n",
    "\n",
    "    plt.tight_layout()\n",
    "    plt.ylabel('True label')\n",
    "    plt.xlabel('Predicted label')\n",
    "    plt.show()"
   ]
  },
  {
   "cell_type": "code",
   "execution_count": 7,
   "metadata": {},
   "outputs": [],
   "source": [
    "def gridSearch(model, param_grid, cv, x, y):\n",
    "    grid = GridSearchCV(model, param_grid, cv= cv)\n",
    "    grid.fit(x, y)\n",
    "    return (grid.best_params_, grid.best_score_)"
   ]
  },
  {
   "cell_type": "code",
   "execution_count": 8,
   "metadata": {},
   "outputs": [],
   "source": [
    "def parameterTuning(name, train_accuracy, train_f1, test_accuracy, test_f1, values):\n",
    "    # Generate plot\n",
    "    plt.title(name +': Varying parameter')\n",
    "    ax = plt.gca()\n",
    "    ax2 = ax.twinx()\n",
    "    ax.plot(values, test_accuracy, label = 'Testing Accuracy')\n",
    "    ax.plot(values, train_accuracy, label = 'Training Accuracy')\n",
    "    ax2.plot(values, test_f1, label = 'Testing F1 Score', color='red')\n",
    "    ax2.plot(values, train_f1, label = 'Training F1 Score', color='green')\n",
    "    ax.set_xlabel('values')\n",
    "    ax.set_ylabel('Accuracy')\n",
    "    ax2.set_ylabel('F1 Score')\n",
    "    ax.legend(loc=0)\n",
    "    ax2.legend(loc=0)\n",
    "    plt.show()"
   ]
  },
  {
   "cell_type": "code",
   "execution_count": 18,
   "metadata": {},
   "outputs": [],
   "source": [
    "def crossValidation(model, X, y):\n",
    "    cv_scores = cross_val_predict(model, X, y, cv=10)\n",
    "    \n",
    "    report = classification_report(cv_scores, y)\n",
    "    conf_matrix = confusion_matrix(cv_scores, y)\n",
    "    print(report)\n",
    "    print('F1 score achieved {}'.format( f1_score(cv_scores, y_train, average=\"macro\")))\n",
    "    print('Accuracay score achieved {}'.format( accuracy_score(cv_scores, y_train)))\n",
    "    plot_confusion_matrix(conf_matrix, ['Show', 'No Show'], normalize= True)"
   ]
  },
  {
   "cell_type": "code",
   "execution_count": 11,
   "metadata": {},
   "outputs": [],
   "source": [
    "def trainAndPredict(model, X_train, y_train, X_test, y_test):\n",
    "    model.fit(X_train, y_train)\n",
    "    predictions = model.predict(X_test)\n",
    "    \n",
    "    report = classification_report(predictions, y_test)\n",
    "    conf_matrix = confusion_matrix(predictions, y_test)\n",
    "    print(report)\n",
    "    print('F1 score achieved {}'.format( f1_score(predictions, y_test, average=\"macro\")))\n",
    "    print('Accuracy score achieved {}'.format( accuracy_score(pred, y_test)))\n",
    "    plot_confusion_matrix(conf_matrix, ['Show', 'No Show'], normalize= True)"
   ]
  },
  {
   "cell_type": "code",
   "execution_count": 14,
   "metadata": {},
   "outputs": [],
   "source": [
    "def modelROC(model, modelName, X_train, y_train, X_test, y_test):\n",
    "    logreg.fit(X_train, y_train)\n",
    "    y_pred_prob = logreg.predict_proba(X_test)[:,1]\n",
    "    rocPlot(modelName, y_test, y_pred_prob)"
   ]
  },
  {
   "cell_type": "code",
   "execution_count": 15,
   "metadata": {},
   "outputs": [],
   "source": [
    "def modelParameterTuning(modelName, initializer, param, X_train, y_train, X_test, y_test):\n",
    "    train_accuracy = np.empty(len(param))\n",
    "    test_accuracy = np.empty(len(param))\n",
    "    train_f1 = np.empty(len(param))\n",
    "    test_f1 = np.empty(len(param))\n",
    "    \n",
    "    # Loop over different values of k\n",
    "    for i, k in enumerate(C_values):\n",
    "        model = initializer(k)\n",
    "        model.fit(X_train, y_train)\n",
    "        \n",
    "        y_pred = logreg.predict(X_train)\n",
    "        #Compute accuracy on the training set\n",
    "        train_accuracy[i] = accuracy_score(y_train, y_pred)\n",
    "        train_f1[i] = f1_score(y_train, y_pred, average=\"macro\")\n",
    "        \n",
    "        y_pred = model.predict(X_test)\n",
    "        #Compute accuracy on the testing set\n",
    "        test_accuracy[i] = accuracy_score(y_test, y_pred)\n",
    "        test_f1[i] = f1_score(y_test, y_pred, average=\"macro\")\n",
    "        \n",
    "        parameterTuning(modelName, train_accuracy, train_f1, test_accuracy, test_f1, param)"
   ]
  },
  {
   "cell_type": "code",
   "execution_count": 16,
   "metadata": {},
   "outputs": [],
   "source": [
    "def modelGridSearch(model, cv):\n",
    "    best_param, best_score = gridSearch(model, param_grid, cv, X_train, y_train)\n",
    "    \n",
    "    # Print the tuned parameters and score\n",
    "    print(\"Tuned Parameters: {}\".format(best_param)) \n",
    "    print(\"Best score is {}\".format(best_score))"
   ]
  },
  {
   "cell_type": "markdown",
   "metadata": {},
   "source": [
    "## Logistic regression models"
   ]
  },
  {
   "cell_type": "markdown",
   "metadata": {},
   "source": [
    "### Model number 1"
   ]
  },
  {
   "cell_type": "code",
   "execution_count": 17,
   "metadata": {},
   "outputs": [
    {
     "ename": "NameError",
     "evalue": "name 'data' is not defined",
     "output_type": "error",
     "traceback": [
      "\u001b[1;31m---------------------------------------------------------------------------\u001b[0m",
      "\u001b[1;31mNameError\u001b[0m                                 Traceback (most recent call last)",
      "\u001b[1;32m<ipython-input-17-bef18c6112de>\u001b[0m in \u001b[0;36m<module>\u001b[1;34m()\u001b[0m\n\u001b[0;32m     15\u001b[0m     \u001b[1;34m'No_Show_per_patient'\u001b[0m\u001b[1;33m\u001b[0m\u001b[0m\n\u001b[0;32m     16\u001b[0m              ]\n\u001b[1;32m---> 17\u001b[1;33m \u001b[0mX\u001b[0m \u001b[1;33m=\u001b[0m \u001b[0mdata\u001b[0m\u001b[1;33m[\u001b[0m\u001b[0mpredictors\u001b[0m\u001b[1;33m]\u001b[0m\u001b[1;33m\u001b[0m\u001b[0m\n\u001b[0m\u001b[0;32m     18\u001b[0m \u001b[0my\u001b[0m \u001b[1;33m=\u001b[0m \u001b[0mdata\u001b[0m\u001b[1;33m.\u001b[0m\u001b[0mNo_Show\u001b[0m\u001b[1;33m\u001b[0m\u001b[0m\n\u001b[0;32m     19\u001b[0m \u001b[0mX_train\u001b[0m\u001b[1;33m,\u001b[0m \u001b[0mX_test\u001b[0m\u001b[1;33m,\u001b[0m \u001b[0my_train\u001b[0m\u001b[1;33m,\u001b[0m \u001b[0my_test\u001b[0m \u001b[1;33m=\u001b[0m \u001b[0mtrain_test_split\u001b[0m\u001b[1;33m(\u001b[0m\u001b[0mX\u001b[0m\u001b[1;33m,\u001b[0m \u001b[0my\u001b[0m\u001b[1;33m,\u001b[0m \u001b[0mtest_size\u001b[0m\u001b[1;33m=\u001b[0m\u001b[1;36m0.25\u001b[0m\u001b[1;33m,\u001b[0m \u001b[0mrandom_state\u001b[0m\u001b[1;33m=\u001b[0m \u001b[1;36m121\u001b[0m\u001b[1;33m,\u001b[0m \u001b[0mstratify\u001b[0m\u001b[1;33m=\u001b[0m \u001b[0my\u001b[0m\u001b[1;33m)\u001b[0m\u001b[1;33m\u001b[0m\u001b[0m\n",
      "\u001b[1;31mNameError\u001b[0m: name 'data' is not defined"
     ]
    }
   ],
   "source": [
    "predictors = [\n",
    "    'Patient_Age', \n",
    "    'Patient_Gender', \n",
    "    'Patient_Scholarship', \n",
    "    'Patient_Hypertension', \n",
    "    'Patient_Diabetes', \n",
    "    'Patient_Alcoholism', \n",
    "    'Patient_Handicap', \n",
    "    'SMS_Received', \n",
    "    'Appointment_Date_Month',\n",
    "    'Appointment_ElapsedTime', \n",
    "    'Saturday', \n",
    "    'Ratio_Adjusted', \n",
    "    'First_Time', \n",
    "    'Previous_Appointment',\n",
    "    'No_Show_per_patient'\n",
    "             ]\n",
    "X = data[predictors]\n",
    "y = data.No_Show\n",
    "X_train, X_test, y_train, y_test = train_test_split(X, y, test_size=0.25, random_state= 121, stratify= y)"
   ]
  },
  {
   "cell_type": "markdown",
   "metadata": {},
   "source": [
    "## Neural network models"
   ]
  },
  {
   "cell_type": "markdown",
   "metadata": {},
   "source": [
    "### Model number 1"
   ]
  },
  {
   "cell_type": "markdown",
   "metadata": {},
   "source": [
    "## Bayes net models"
   ]
  },
  {
   "cell_type": "markdown",
   "metadata": {},
   "source": [
    "### Model number 1"
   ]
  },
  {
   "cell_type": "markdown",
   "metadata": {},
   "source": [
    "## KNN models"
   ]
  },
  {
   "cell_type": "markdown",
   "metadata": {},
   "source": [
    "### Model number 1"
   ]
  },
  {
   "cell_type": "markdown",
   "metadata": {},
   "source": [
    "## Random Forest models"
   ]
  },
  {
   "cell_type": "markdown",
   "metadata": {},
   "source": [
    "### Model number 1"
   ]
  },
  {
   "cell_type": "code",
   "execution_count": null,
   "metadata": {},
   "outputs": [],
   "source": []
  }
 ],
 "metadata": {
  "kernelspec": {
   "display_name": "Python 3",
   "language": "python",
   "name": "python3"
  },
  "language_info": {
   "codemirror_mode": {
    "name": "ipython",
    "version": 3
   },
   "file_extension": ".py",
   "mimetype": "text/x-python",
   "name": "python",
   "nbconvert_exporter": "python",
   "pygments_lexer": "ipython3",
   "version": "3.6.2"
  }
 },
 "nbformat": 4,
 "nbformat_minor": 2
}
